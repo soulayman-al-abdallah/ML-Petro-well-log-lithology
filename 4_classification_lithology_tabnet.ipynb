{
  "cells": [
    {
      "cell_type": "markdown",
      "metadata": {
        "id": "view-in-github",
        "colab_type": "text"
      },
      "source": [
        "<a href=\"https://colab.research.google.com/github/soulayman-al-abdallah/ML-Petro-well-log-lithology/blob/main/4_classification_lithology_tabnet.ipynb\" target=\"_parent\"><img src=\"https://colab.research.google.com/assets/colab-badge.svg\" alt=\"Open In Colab\"/></a>"
      ]
    },
    {
      "cell_type": "markdown",
      "source": [
        "**Lithology classification** - Pytorch-tabnet\n",
        "-----\n",
        "\n",
        "\n",
        "\n",
        "\n",
        "Since the **total.df** is ready with filled NPHI values, we will start the **predictive modeling of the geological lithology**, represented with the **LITHOLOGY_GEOLINK**."
      ],
      "metadata": {
        "id": "JzIIIQa9CEFg"
      }
    },
    {
      "cell_type": "markdown",
      "source": [
        "\n",
        "\n",
        "---\n",
        "\n",
        "\n",
        "\n",
        "---\n",
        "\n",
        "\n",
        "\n",
        "---\n",
        "\n"
      ],
      "metadata": {
        "id": "eXhVZzKfCWdV"
      }
    },
    {
      "cell_type": "markdown",
      "metadata": {
        "id": "UpRBpcFfuzCx"
      },
      "source": [
        "# Importing modules and dataset"
      ]
    },
    {
      "cell_type": "code",
      "execution_count": null,
      "metadata": {
        "id": "4PcW0n6Tubby"
      },
      "outputs": [],
      "source": [
        "import warnings\n",
        "warnings.filterwarnings('ignore')"
      ]
    },
    {
      "cell_type": "code",
      "execution_count": null,
      "metadata": {
        "colab": {
          "base_uri": "https://localhost:8080/"
        },
        "id": "emp7nl26upP7",
        "outputId": "7f881896-5fc9-4872-ca40-eec73e26ea30"
      },
      "outputs": [
        {
          "output_type": "stream",
          "name": "stdout",
          "text": [
            "Looking in indexes: https://pypi.org/simple, https://us-python.pkg.dev/colab-wheels/public/simple/\n",
            "Collecting lasio\n",
            "  Downloading lasio-0.30-py2.py3-none-any.whl (43 kB)\n",
            "\u001b[K     |████████████████████████████████| 43 kB 1.4 MB/s \n",
            "\u001b[?25hRequirement already satisfied: numpy in /usr/local/lib/python3.7/dist-packages (from lasio) (1.21.6)\n",
            "Installing collected packages: lasio\n",
            "Successfully installed lasio-0.30\n"
          ]
        }
      ],
      "source": [
        "import pandas as pd\n",
        "import numpy as np\n",
        "import matplotlib.pyplot as plt\n",
        "import seaborn as sns\n",
        "from scipy import stats\n",
        "from collections import Counter\n",
        "import time\n",
        "import multiprocessing\n",
        "\n",
        "from collections import Counter"
      ]
    },
    {
      "cell_type": "code",
      "execution_count": null,
      "metadata": {
        "id": "_NgI0FRRu-Us",
        "colab": {
          "base_uri": "https://localhost:8080/"
        },
        "outputId": "64ac347b-41c9-4e02-afec-b106fcdd8fd5"
      },
      "outputs": [
        {
          "output_type": "stream",
          "name": "stdout",
          "text": [
            "Mounted at /content/gdrive\n"
          ]
        }
      ],
      "source": [
        "from google.colab import drive\n",
        "drive.mount('/content/gdrive')"
      ]
    },
    {
      "cell_type": "code",
      "execution_count": null,
      "metadata": {
        "id": "uNdyUEZ3u6ho",
        "colab": {
          "base_uri": "https://localhost:8080/"
        },
        "outputId": "a7cc0a25-7708-470c-9af5-858ac44a4fd9"
      },
      "outputs": [
        {
          "output_type": "execute_result",
          "data": {
            "text/plain": [
              "        DEPTH       CALI      NPHI      RHOB         GR         DTC      RDEP  \\\n",
              "0  970.784973  19.379000  0.476293  1.925953  34.463940  150.259949  3.274985   \n",
              "1  970.937378  20.042002  0.433137  1.930004  37.689102  149.147537  1.775984   \n",
              "2  971.089783  20.993999  0.464309  1.931051  39.453999  148.786880  1.025920   \n",
              "\n",
              "       RMED  LITHOLOGY_GEOLINK  \n",
              "0  0.371132                NaN  \n",
              "1  0.627568                NaN  \n",
              "2  0.756454                NaN  "
            ],
            "text/html": [
              "\n",
              "  <div id=\"df-85065f4c-7a2f-444e-9f76-4d3d0c8540c3\">\n",
              "    <div class=\"colab-df-container\">\n",
              "      <div>\n",
              "<style scoped>\n",
              "    .dataframe tbody tr th:only-of-type {\n",
              "        vertical-align: middle;\n",
              "    }\n",
              "\n",
              "    .dataframe tbody tr th {\n",
              "        vertical-align: top;\n",
              "    }\n",
              "\n",
              "    .dataframe thead th {\n",
              "        text-align: right;\n",
              "    }\n",
              "</style>\n",
              "<table border=\"1\" class=\"dataframe\">\n",
              "  <thead>\n",
              "    <tr style=\"text-align: right;\">\n",
              "      <th></th>\n",
              "      <th>DEPTH</th>\n",
              "      <th>CALI</th>\n",
              "      <th>NPHI</th>\n",
              "      <th>RHOB</th>\n",
              "      <th>GR</th>\n",
              "      <th>DTC</th>\n",
              "      <th>RDEP</th>\n",
              "      <th>RMED</th>\n",
              "      <th>LITHOLOGY_GEOLINK</th>\n",
              "    </tr>\n",
              "  </thead>\n",
              "  <tbody>\n",
              "    <tr>\n",
              "      <th>0</th>\n",
              "      <td>970.784973</td>\n",
              "      <td>19.379000</td>\n",
              "      <td>0.476293</td>\n",
              "      <td>1.925953</td>\n",
              "      <td>34.463940</td>\n",
              "      <td>150.259949</td>\n",
              "      <td>3.274985</td>\n",
              "      <td>0.371132</td>\n",
              "      <td>NaN</td>\n",
              "    </tr>\n",
              "    <tr>\n",
              "      <th>1</th>\n",
              "      <td>970.937378</td>\n",
              "      <td>20.042002</td>\n",
              "      <td>0.433137</td>\n",
              "      <td>1.930004</td>\n",
              "      <td>37.689102</td>\n",
              "      <td>149.147537</td>\n",
              "      <td>1.775984</td>\n",
              "      <td>0.627568</td>\n",
              "      <td>NaN</td>\n",
              "    </tr>\n",
              "    <tr>\n",
              "      <th>2</th>\n",
              "      <td>971.089783</td>\n",
              "      <td>20.993999</td>\n",
              "      <td>0.464309</td>\n",
              "      <td>1.931051</td>\n",
              "      <td>39.453999</td>\n",
              "      <td>148.786880</td>\n",
              "      <td>1.025920</td>\n",
              "      <td>0.756454</td>\n",
              "      <td>NaN</td>\n",
              "    </tr>\n",
              "  </tbody>\n",
              "</table>\n",
              "</div>\n",
              "      <button class=\"colab-df-convert\" onclick=\"convertToInteractive('df-85065f4c-7a2f-444e-9f76-4d3d0c8540c3')\"\n",
              "              title=\"Convert this dataframe to an interactive table.\"\n",
              "              style=\"display:none;\">\n",
              "        \n",
              "  <svg xmlns=\"http://www.w3.org/2000/svg\" height=\"24px\"viewBox=\"0 0 24 24\"\n",
              "       width=\"24px\">\n",
              "    <path d=\"M0 0h24v24H0V0z\" fill=\"none\"/>\n",
              "    <path d=\"M18.56 5.44l.94 2.06.94-2.06 2.06-.94-2.06-.94-.94-2.06-.94 2.06-2.06.94zm-11 1L8.5 8.5l.94-2.06 2.06-.94-2.06-.94L8.5 2.5l-.94 2.06-2.06.94zm10 10l.94 2.06.94-2.06 2.06-.94-2.06-.94-.94-2.06-.94 2.06-2.06.94z\"/><path d=\"M17.41 7.96l-1.37-1.37c-.4-.4-.92-.59-1.43-.59-.52 0-1.04.2-1.43.59L10.3 9.45l-7.72 7.72c-.78.78-.78 2.05 0 2.83L4 21.41c.39.39.9.59 1.41.59.51 0 1.02-.2 1.41-.59l7.78-7.78 2.81-2.81c.8-.78.8-2.07 0-2.86zM5.41 20L4 18.59l7.72-7.72 1.47 1.35L5.41 20z\"/>\n",
              "  </svg>\n",
              "      </button>\n",
              "      \n",
              "  <style>\n",
              "    .colab-df-container {\n",
              "      display:flex;\n",
              "      flex-wrap:wrap;\n",
              "      gap: 12px;\n",
              "    }\n",
              "\n",
              "    .colab-df-convert {\n",
              "      background-color: #E8F0FE;\n",
              "      border: none;\n",
              "      border-radius: 50%;\n",
              "      cursor: pointer;\n",
              "      display: none;\n",
              "      fill: #1967D2;\n",
              "      height: 32px;\n",
              "      padding: 0 0 0 0;\n",
              "      width: 32px;\n",
              "    }\n",
              "\n",
              "    .colab-df-convert:hover {\n",
              "      background-color: #E2EBFA;\n",
              "      box-shadow: 0px 1px 2px rgba(60, 64, 67, 0.3), 0px 1px 3px 1px rgba(60, 64, 67, 0.15);\n",
              "      fill: #174EA6;\n",
              "    }\n",
              "\n",
              "    [theme=dark] .colab-df-convert {\n",
              "      background-color: #3B4455;\n",
              "      fill: #D2E3FC;\n",
              "    }\n",
              "\n",
              "    [theme=dark] .colab-df-convert:hover {\n",
              "      background-color: #434B5C;\n",
              "      box-shadow: 0px 1px 3px 1px rgba(0, 0, 0, 0.15);\n",
              "      filter: drop-shadow(0px 1px 2px rgba(0, 0, 0, 0.3));\n",
              "      fill: #FFFFFF;\n",
              "    }\n",
              "  </style>\n",
              "\n",
              "      <script>\n",
              "        const buttonEl =\n",
              "          document.querySelector('#df-85065f4c-7a2f-444e-9f76-4d3d0c8540c3 button.colab-df-convert');\n",
              "        buttonEl.style.display =\n",
              "          google.colab.kernel.accessAllowed ? 'block' : 'none';\n",
              "\n",
              "        async function convertToInteractive(key) {\n",
              "          const element = document.querySelector('#df-85065f4c-7a2f-444e-9f76-4d3d0c8540c3');\n",
              "          const dataTable =\n",
              "            await google.colab.kernel.invokeFunction('convertToInteractive',\n",
              "                                                     [key], {});\n",
              "          if (!dataTable) return;\n",
              "\n",
              "          const docLinkHtml = 'Like what you see? Visit the ' +\n",
              "            '<a target=\"_blank\" href=https://colab.research.google.com/notebooks/data_table.ipynb>data table notebook</a>'\n",
              "            + ' to learn more about interactive tables.';\n",
              "          element.innerHTML = '';\n",
              "          dataTable['output_type'] = 'display_data';\n",
              "          await google.colab.output.renderOutput(dataTable, element);\n",
              "          const docLink = document.createElement('div');\n",
              "          docLink.innerHTML = docLinkHtml;\n",
              "          element.appendChild(docLink);\n",
              "        }\n",
              "      </script>\n",
              "    </div>\n",
              "  </div>\n",
              "  "
            ]
          },
          "metadata": {},
          "execution_count": 4
        }
      ],
      "source": [
        "df = pd.read_csv('/content/gdrive/MyDrive/Dev tools/Data - NorthSea Electrofacies/Generated Dataframes/total_df.csv.gz', compression='gzip')\n",
        "df.head(3)"
      ]
    },
    {
      "cell_type": "markdown",
      "metadata": {
        "id": "QvLM2w46wGhu"
      },
      "source": [
        "## Class Balance of LITHO"
      ]
    },
    {
      "cell_type": "code",
      "execution_count": null,
      "metadata": {
        "id": "dSQwWHv6vy8Y",
        "colab": {
          "base_uri": "https://localhost:8080/"
        },
        "outputId": "612ab3c8-7831-4a8b-b2da-2414f70d896d"
      },
      "outputs": [
        {
          "output_type": "execute_result",
          "data": {
            "text/plain": [
              "Text(0.5, 1.0, 'Lithology Classes - Target Variable Balance')"
            ]
          },
          "metadata": {},
          "execution_count": 5
        },
        {
          "output_type": "display_data",
          "data": {
            "text/plain": [
              "<Figure size 720x504 with 1 Axes>"
            ],
            "image/png": "[encoded data removed]"
          },
          "metadata": {
            "needs_background": "light"
          }
        }
      ],
      "source": [
        "#target variable classes balance\n",
        "plt.figure(figsize=(10,7))\n",
        "\n",
        "sns.barplot(x=df['LITHOLOGY_GEOLINK'].value_counts().index, y=df['LITHOLOGY_GEOLINK'].value_counts())\n",
        "plt.xlabel('Lithology Classes', fontsize=10)\n",
        "plt.ylabel('Count', fontsize=10)\n",
        "plt.title('Lithology Classes - Target Variable Balance', fontsize=15)"
      ]
    },
    {
      "cell_type": "markdown",
      "source": [
        "\n",
        "\n",
        "---\n",
        "\n"
      ],
      "metadata": {
        "id": "t4GZmnX-DExf"
      }
    },
    {
      "cell_type": "code",
      "execution_count": null,
      "metadata": {
        "id": "7ZpFQwr8wcTO"
      },
      "outputs": [],
      "source": [
        "file_path = '/content/gdrive/MyDrive/Dev tools/Data - NorthSea Electrofacies/Generated Dataframes/litho_code.csv.gz'\n",
        "\n",
        "litho_code = pd.read_csv(file_path , compression='gzip')"
      ]
    },
    {
      "cell_type": "code",
      "execution_count": null,
      "metadata": {
        "id": "6x0kYqGHypxN",
        "colab": {
          "base_uri": "https://localhost:8080/"
        },
        "outputId": "b70568d1-0472-4204-bb1b-2ed469f06f83"
      },
      "outputs": [
        {
          "output_type": "execute_result",
          "data": {
            "text/plain": [
              "     Lithology Attribute Abbreviation\n",
              "0       CrossBedded Sand         35.0\n",
              "1              Anhydrite         22.0\n",
              "2                  Chalk         12.0\n",
              "3                 Gravel         36.0\n",
              "4              Intrusive         23.0\n",
              "5            Sandy Shale         25.0\n",
              "6        Sandy Limestone         16.0\n",
              "7                Breccia         31.0\n",
              "8       Calcareous Shale         14.0\n",
              "9                 Halite         33.0\n",
              "10                 Chalk          9.0\n",
              "11             Extrusive         19.0\n",
              "12                  Coal         18.0\n",
              "13          Conglomerate         17.0\n",
              "14      CrossBedded Sand          3.0\n",
              "15             Dolomite2         15.0\n",
              "16                Gypsum         26.0\n",
              "17                Halite         21.0\n",
              "18                Halite         34.0\n",
              "19             Limestone         11.0\n",
              "20                 Chalk         13.0\n",
              "21            Shaly Sand         30.0\n",
              "22             Intrusive         24.0\n",
              "23                Halite         32.0\n",
              "24  Calcareous Sandstone         10.0\n",
              "25                  Sand          1.0\n",
              "26       Shaly Sandstone          4.0\n",
              "27                 Shale          8.0\n",
              "28                  Silt          6.0\n",
              "29                  Silt          5.0\n",
              "30                  Sand          2.0\n",
              "31                 Shale          7.0\n",
              "32                 Chert         29.0\n",
              "33                Halite         27.0\n",
              "34             Extrusive         28.0\n",
              "35             Extrusive         20.0\n",
              "36                   NaN      -999,25"
            ],
            "text/html": [
              "\n",
              "  <div id=\"df-1a022bdc-9d90-42c4-82bc-caf951e29518\">\n",
              "    <div class=\"colab-df-container\">\n",
              "      <div>\n",
              "<style scoped>\n",
              "    .dataframe tbody tr th:only-of-type {\n",
              "        vertical-align: middle;\n",
              "    }\n",
              "\n",
              "    .dataframe tbody tr th {\n",
              "        vertical-align: top;\n",
              "    }\n",
              "\n",
              "    .dataframe thead th {\n",
              "        text-align: right;\n",
              "    }\n",
              "</style>\n",
              "<table border=\"1\" class=\"dataframe\">\n",
              "  <thead>\n",
              "    <tr style=\"text-align: right;\">\n",
              "      <th></th>\n",
              "      <th>Lithology Attribute</th>\n",
              "      <th>Abbreviation</th>\n",
              "    </tr>\n",
              "  </thead>\n",
              "  <tbody>\n",
              "    <tr>\n",
              "      <th>0</th>\n",
              "      <td>CrossBedded Sand</td>\n",
              "      <td>35.0</td>\n",
              "    </tr>\n",
              "    <tr>\n",
              "      <th>1</th>\n",
              "      <td>Anhydrite</td>\n",
              "      <td>22.0</td>\n",
              "    </tr>\n",
              "    <tr>\n",
              "      <th>2</th>\n",
              "      <td>Chalk</td>\n",
              "      <td>12.0</td>\n",
              "    </tr>\n",
              "    <tr>\n",
              "      <th>3</th>\n",
              "      <td>Gravel</td>\n",
              "      <td>36.0</td>\n",
              "    </tr>\n",
              "    <tr>\n",
              "      <th>4</th>\n",
              "      <td>Intrusive</td>\n",
              "      <td>23.0</td>\n",
              "    </tr>\n",
              "    <tr>\n",
              "      <th>5</th>\n",
              "      <td>Sandy Shale</td>\n",
              "      <td>25.0</td>\n",
              "    </tr>\n",
              "    <tr>\n",
              "      <th>6</th>\n",
              "      <td>Sandy Limestone</td>\n",
              "      <td>16.0</td>\n",
              "    </tr>\n",
              "    <tr>\n",
              "      <th>7</th>\n",
              "      <td>Breccia</td>\n",
              "      <td>31.0</td>\n",
              "    </tr>\n",
              "    <tr>\n",
              "      <th>8</th>\n",
              "      <td>Calcareous Shale</td>\n",
              "      <td>14.0</td>\n",
              "    </tr>\n",
              "    <tr>\n",
              "      <th>9</th>\n",
              "      <td>Halite</td>\n",
              "      <td>33.0</td>\n",
              "    </tr>\n",
              "    <tr>\n",
              "      <th>10</th>\n",
              "      <td>Chalk</td>\n",
              "      <td>9.0</td>\n",
              "    </tr>\n",
              "    <tr>\n",
              "      <th>11</th>\n",
              "      <td>Extrusive</td>\n",
              "      <td>19.0</td>\n",
              "    </tr>\n",
              "    <tr>\n",
              "      <th>12</th>\n",
              "      <td>Coal</td>\n",
              "      <td>18.0</td>\n",
              "    </tr>\n",
              "    <tr>\n",
              "      <th>13</th>\n",
              "      <td>Conglomerate</td>\n",
              "      <td>17.0</td>\n",
              "    </tr>\n",
              "    <tr>\n",
              "      <th>14</th>\n",
              "      <td>CrossBedded Sand</td>\n",
              "      <td>3.0</td>\n",
              "    </tr>\n",
              "    <tr>\n",
              "      <th>15</th>\n",
              "      <td>Dolomite2</td>\n",
              "      <td>15.0</td>\n",
              "    </tr>\n",
              "    <tr>\n",
              "      <th>16</th>\n",
              "      <td>Gypsum</td>\n",
              "      <td>26.0</td>\n",
              "    </tr>\n",
              "    <tr>\n",
              "      <th>17</th>\n",
              "      <td>Halite</td>\n",
              "      <td>21.0</td>\n",
              "    </tr>\n",
              "    <tr>\n",
              "      <th>18</th>\n",
              "      <td>Halite</td>\n",
              "      <td>34.0</td>\n",
              "    </tr>\n",
              "    <tr>\n",
              "      <th>19</th>\n",
              "      <td>Limestone</td>\n",
              "      <td>11.0</td>\n",
              "    </tr>\n",
              "    <tr>\n",
              "      <th>20</th>\n",
              "      <td>Chalk</td>\n",
              "      <td>13.0</td>\n",
              "    </tr>\n",
              "    <tr>\n",
              "      <th>21</th>\n",
              "      <td>Shaly Sand</td>\n",
              "      <td>30.0</td>\n",
              "    </tr>\n",
              "    <tr>\n",
              "      <th>22</th>\n",
              "      <td>Intrusive</td>\n",
              "      <td>24.0</td>\n",
              "    </tr>\n",
              "    <tr>\n",
              "      <th>23</th>\n",
              "      <td>Halite</td>\n",
              "      <td>32.0</td>\n",
              "    </tr>\n",
              "    <tr>\n",
              "      <th>24</th>\n",
              "      <td>Calcareous Sandstone</td>\n",
              "      <td>10.0</td>\n",
              "    </tr>\n",
              "    <tr>\n",
              "      <th>25</th>\n",
              "      <td>Sand</td>\n",
              "      <td>1.0</td>\n",
              "    </tr>\n",
              "    <tr>\n",
              "      <th>26</th>\n",
              "      <td>Shaly Sandstone</td>\n",
              "      <td>4.0</td>\n",
              "    </tr>\n",
              "    <tr>\n",
              "      <th>27</th>\n",
              "      <td>Shale</td>\n",
              "      <td>8.0</td>\n",
              "    </tr>\n",
              "    <tr>\n",
              "      <th>28</th>\n",
              "      <td>Silt</td>\n",
              "      <td>6.0</td>\n",
              "    </tr>\n",
              "    <tr>\n",
              "      <th>29</th>\n",
              "      <td>Silt</td>\n",
              "      <td>5.0</td>\n",
              "    </tr>\n",
              "    <tr>\n",
              "      <th>30</th>\n",
              "      <td>Sand</td>\n",
              "      <td>2.0</td>\n",
              "    </tr>\n",
              "    <tr>\n",
              "      <th>31</th>\n",
              "      <td>Shale</td>\n",
              "      <td>7.0</td>\n",
              "    </tr>\n",
              "    <tr>\n",
              "      <th>32</th>\n",
              "      <td>Chert</td>\n",
              "      <td>29.0</td>\n",
              "    </tr>\n",
              "    <tr>\n",
              "      <th>33</th>\n",
              "      <td>Halite</td>\n",
              "      <td>27.0</td>\n",
              "    </tr>\n",
              "    <tr>\n",
              "      <th>34</th>\n",
              "      <td>Extrusive</td>\n",
              "      <td>28.0</td>\n",
              "    </tr>\n",
              "    <tr>\n",
              "      <th>35</th>\n",
              "      <td>Extrusive</td>\n",
              "      <td>20.0</td>\n",
              "    </tr>\n",
              "    <tr>\n",
              "      <th>36</th>\n",
              "      <td>NaN</td>\n",
              "      <td>-999,25</td>\n",
              "    </tr>\n",
              "  </tbody>\n",
              "</table>\n",
              "</div>\n",
              "      <button class=\"colab-df-convert\" onclick=\"convertToInteractive('df-1a022bdc-9d90-42c4-82bc-caf951e29518')\"\n",
              "              title=\"Convert this dataframe to an interactive table.\"\n",
              "              style=\"display:none;\">\n",
              "        \n",
              "  <svg xmlns=\"http://www.w3.org/2000/svg\" height=\"24px\"viewBox=\"0 0 24 24\"\n",
              "       width=\"24px\">\n",
              "    <path d=\"M0 0h24v24H0V0z\" fill=\"none\"/>\n",
              "    <path d=\"M18.56 5.44l.94 2.06.94-2.06 2.06-.94-2.06-.94-.94-2.06-.94 2.06-2.06.94zm-11 1L8.5 8.5l.94-2.06 2.06-.94-2.06-.94L8.5 2.5l-.94 2.06-2.06.94zm10 10l.94 2.06.94-2.06 2.06-.94-2.06-.94-.94-2.06-.94 2.06-2.06.94z\"/><path d=\"M17.41 7.96l-1.37-1.37c-.4-.4-.92-.59-1.43-.59-.52 0-1.04.2-1.43.59L10.3 9.45l-7.72 7.72c-.78.78-.78 2.05 0 2.83L4 21.41c.39.39.9.59 1.41.59.51 0 1.02-.2 1.41-.59l7.78-7.78 2.81-2.81c.8-.78.8-2.07 0-2.86zM5.41 20L4 18.59l7.72-7.72 1.47 1.35L5.41 20z\"/>\n",
              "  </svg>\n",
              "      </button>\n",
              "      \n",
              "  <style>\n",
              "    .colab-df-container {\n",
              "      display:flex;\n",
              "      flex-wrap:wrap;\n",
              "      gap: 12px;\n",
              "    }\n",
              "\n",
              "    .colab-df-convert {\n",
              "      background-color: #E8F0FE;\n",
              "      border: none;\n",
              "      border-radius: 50%;\n",
              "      cursor: pointer;\n",
              "      display: none;\n",
              "      fill: #1967D2;\n",
              "      height: 32px;\n",
              "      padding: 0 0 0 0;\n",
              "      width: 32px;\n",
              "    }\n",
              "\n",
              "    .colab-df-convert:hover {\n",
              "      background-color: #E2EBFA;\n",
              "      box-shadow: 0px 1px 2px rgba(60, 64, 67, 0.3), 0px 1px 3px 1px rgba(60, 64, 67, 0.15);\n",
              "      fill: #174EA6;\n",
              "    }\n",
              "\n",
              "    [theme=dark] .colab-df-convert {\n",
              "      background-color: #3B4455;\n",
              "      fill: #D2E3FC;\n",
              "    }\n",
              "\n",
              "    [theme=dark] .colab-df-convert:hover {\n",
              "      background-color: #434B5C;\n",
              "      box-shadow: 0px 1px 3px 1px rgba(0, 0, 0, 0.15);\n",
              "      filter: drop-shadow(0px 1px 2px rgba(0, 0, 0, 0.3));\n",
              "      fill: #FFFFFF;\n",
              "    }\n",
              "  </style>\n",
              "\n",
              "      <script>\n",
              "        const buttonEl =\n",
              "          document.querySelector('#df-1a022bdc-9d90-42c4-82bc-caf951e29518 button.colab-df-convert');\n",
              "        buttonEl.style.display =\n",
              "          google.colab.kernel.accessAllowed ? 'block' : 'none';\n",
              "\n",
              "        async function convertToInteractive(key) {\n",
              "          const element = document.querySelector('#df-1a022bdc-9d90-42c4-82bc-caf951e29518');\n",
              "          const dataTable =\n",
              "            await google.colab.kernel.invokeFunction('convertToInteractive',\n",
              "                                                     [key], {});\n",
              "          if (!dataTable) return;\n",
              "\n",
              "          const docLinkHtml = 'Like what you see? Visit the ' +\n",
              "            '<a target=\"_blank\" href=https://colab.research.google.com/notebooks/data_table.ipynb>data table notebook</a>'\n",
              "            + ' to learn more about interactive tables.';\n",
              "          element.innerHTML = '';\n",
              "          dataTable['output_type'] = 'display_data';\n",
              "          await google.colab.output.renderOutput(dataTable, element);\n",
              "          const docLink = document.createElement('div');\n",
              "          docLink.innerHTML = docLinkHtml;\n",
              "          element.appendChild(docLink);\n",
              "        }\n",
              "      </script>\n",
              "    </div>\n",
              "  </div>\n",
              "  "
            ]
          },
          "metadata": {},
          "execution_count": 7
        }
      ],
      "source": [
        "litho_code[['Lithology Attribute','Abbreviation']]"
      ]
    },
    {
      "cell_type": "markdown",
      "metadata": {
        "id": "PYtgARUYz_Tu"
      },
      "source": [
        "⚓ As per the df shown above, from the litho_code df data, we can combine the abbreviations 1,2,3 together since they're all have \"Sand\" as the lithology attribute, same applies to some other abbreviations..."
      ]
    },
    {
      "cell_type": "code",
      "execution_count": null,
      "metadata": {
        "id": "a8oz5aP90dGY"
      },
      "outputs": [],
      "source": [
        "df['LITHOLOGY_GEOLINK_NEW'] = df['LITHOLOGY_GEOLINK']\n",
        "\n",
        "for code in df.index:\n",
        "\n",
        "    if (df['LITHOLOGY_GEOLINK_NEW'][code] == 2 or df['LITHOLOGY_GEOLINK_NEW'][code] == 3):\n",
        "        df['LITHOLOGY_GEOLINK_NEW'][code] = 1\n",
        "\n",
        "    elif df['LITHOLOGY_GEOLINK_NEW'][code] == 6:\n",
        "        df['LITHOLOGY_GEOLINK_NEW'][code] = 5\n",
        "\n",
        "    elif df['LITHOLOGY_GEOLINK_NEW'][code] == 34:\n",
        "        df['LITHOLOGY_GEOLINK_NEW'][code] = 33\n",
        "\n",
        "\n",
        "    elif df['LITHOLOGY_GEOLINK_NEW'][code] == 13:\n",
        "        df['LITHOLOGY_GEOLINK_NEW'][code] = 12\n",
        "\n",
        "    else:\n",
        "        pass"
      ]
    },
    {
      "cell_type": "markdown",
      "source": [
        "\n",
        "\n",
        "---\n",
        "\n"
      ],
      "metadata": {
        "id": "f5XOXPzqDGur"
      }
    },
    {
      "cell_type": "code",
      "execution_count": null,
      "metadata": {
        "id": "eiW_VHI61U20",
        "colab": {
          "base_uri": "https://localhost:8080/"
        },
        "outputId": "bf2c1efc-096e-4d49-9b55-aaa9b3565f6d"
      },
      "outputs": [
        {
          "output_type": "execute_result",
          "data": {
            "text/plain": [
              "Text(0.5, 1.0, 'Lithology Classes - Target Variable Balance')"
            ]
          },
          "metadata": {},
          "execution_count": 9
        },
        {
          "output_type": "display_data",
          "data": {
            "text/plain": [
              "<Figure size 720x504 with 1 Axes>"
            ],
            "image/png": "[encoded data removed]"
          },
          "metadata": {
            "needs_background": "light"
          }
        }
      ],
      "source": [
        "#visualizing the new classes balance of the target variable\n",
        "plt.figure(figsize=(10,7))\n",
        "\n",
        "sns.barplot(x=df['LITHOLOGY_GEOLINK_NEW'].value_counts().index, y=df['LITHOLOGY_GEOLINK_NEW'].value_counts())\n",
        "plt.xlabel('Lithology Classes', fontsize=10)\n",
        "plt.ylabel('Count', fontsize=10)\n",
        "plt.title('Lithology Classes - Target Variable Balance', fontsize=15)"
      ]
    },
    {
      "cell_type": "markdown",
      "metadata": {
        "id": "7qJcsmGc3D8j"
      },
      "source": [
        "\n",
        "\n",
        "---\n",
        "\n"
      ]
    },
    {
      "cell_type": "markdown",
      "metadata": {
        "id": "Qlg8shS-3B7e"
      },
      "source": [
        "# Feature Engineering"
      ]
    },
    {
      "cell_type": "markdown",
      "metadata": {
        "id": "kICXAfRe3NW2"
      },
      "source": [
        "## Adding a column of DRDN and Acoustic Impedance values"
      ]
    },
    {
      "cell_type": "code",
      "execution_count": null,
      "metadata": {
        "id": "PfpHAOuV2-dF"
      },
      "outputs": [],
      "source": [
        "df['DRDN'] = ((df['RHOB'] - 2)/0.05) - ((0.45 - df['NPHI'])/0.03)\n",
        "df['AI'] = df['RHOB'] * (1e6/df['DTC']) * 0.3048\n",
        "\n",
        "\n",
        "\n",
        "(mu_DRDN, sigma_DRDN) = stats.norm.fit(df[df.DRDN.notnull()].DRDN.values)\n",
        "(mu_AI, sigma_AI) = stats.norm.fit(df[df.AI.notnull()].AI.values)\n"
      ]
    },
    {
      "cell_type": "code",
      "execution_count": null,
      "metadata": {
        "id": "blu-ol8K9Fxx",
        "colab": {
          "base_uri": "https://localhost:8080/"
        },
        "outputId": "18811aa1-4d9c-46ae-fd7d-6436b84f838b"
      },
      "outputs": [
        {
          "output_type": "display_data",
          "data": {
            "text/plain": [
              "<Figure size 1800x720 with 2 Axes>"
            ],
            "image/png": "[encoded data removed]"
          },
          "metadata": {
            "needs_background": "light"
          }
        }
      ],
      "source": [
        "plt.figure(figsize=(25,10))\n",
        "\n",
        "plt.subplot(121)\n",
        "(mu, sigma) = stats.norm.fit(df[df.DRDN.notnull()].DRDN.values)\n",
        "sns.distplot(df[df.DRDN.notnull()].DRDN.values)\n",
        "plt.legend('Normal distribution')\n",
        "plt.ylabel('Frequency')\n",
        "plt.title('DRDN distribution -- Mu:' + ' ' + str(mu_DRDN) + ' ' + 'Sigma:' + ' ' + str(sigma_DRDN) )\n",
        "\n",
        "plt.subplot(122)\n",
        "sns.distplot(df[df.AI.notnull()].AI.values)\n",
        "plt.legend('Normal distribution')\n",
        "plt.ylabel('Frequency')\n",
        "plt.xlim([0, 20000])\n",
        "plt.title('AI distribution -- Mu:' + ' ' + str(mu_AI) + ' ' + 'Sigma:' + ' ' + str(sigma_AI) )\n",
        "\n",
        "plt.show()"
      ]
    },
    {
      "cell_type": "markdown",
      "source": [
        "\n",
        "\n",
        "---\n",
        "\n"
      ],
      "metadata": {
        "id": "ZEHv3H4YHCad"
      }
    },
    {
      "cell_type": "markdown",
      "metadata": {
        "id": "G45EhRy69bFR"
      },
      "source": [
        "# Modeling"
      ]
    },
    {
      "cell_type": "code",
      "execution_count": null,
      "metadata": {
        "id": "0hrDdeNS9QuH",
        "colab": {
          "base_uri": "https://localhost:8080/",
          "height": 143
        },
        "outputId": "7a8cabb5-2697-4b05-e425-da5fb8e92801"
      },
      "outputs": [
        {
          "output_type": "execute_result",
          "data": {
            "text/plain": [
              "        DEPTH       CALI      NPHI      RHOB         GR         DTC      RDEP  \\\n",
              "0  970.784973  19.379000  0.476293  1.925953  34.463940  150.259949  3.274985   \n",
              "1  970.937378  20.042002  0.433137  1.930004  37.689102  149.147537  1.775984   \n",
              "2  971.089783  20.993999  0.464309  1.931051  39.453999  148.786880  1.025920   \n",
              "\n",
              "       RMED  LITHOLOGY_GEOLINK  LITHOLOGY_GEOLINK_NEW      DRDN           AI  \n",
              "0  0.371132                NaN                    NaN -0.604492  3906.766407  \n",
              "1  0.627568                NaN                    NaN -1.962014  3944.183015  \n",
              "2  0.756454                NaN                    NaN -0.902005  3955.888037  "
            ],
            "text/html": [
              "\n",
              "  <div id=\"df-d4249b4b-b00a-48f3-a71f-860f73140fe9\">\n",
              "    <div class=\"colab-df-container\">\n",
              "      <div>\n",
              "<style scoped>\n",
              "    .dataframe tbody tr th:only-of-type {\n",
              "        vertical-align: middle;\n",
              "    }\n",
              "\n",
              "    .dataframe tbody tr th {\n",
              "        vertical-align: top;\n",
              "    }\n",
              "\n",
              "    .dataframe thead th {\n",
              "        text-align: right;\n",
              "    }\n",
              "</style>\n",
              "<table border=\"1\" class=\"dataframe\">\n",
              "  <thead>\n",
              "    <tr style=\"text-align: right;\">\n",
              "      <th></th>\n",
              "      <th>DEPTH</th>\n",
              "      <th>CALI</th>\n",
              "      <th>NPHI</th>\n",
              "      <th>RHOB</th>\n",
              "      <th>GR</th>\n",
              "      <th>DTC</th>\n",
              "      <th>RDEP</th>\n",
              "      <th>RMED</th>\n",
              "      <th>LITHOLOGY_GEOLINK</th>\n",
              "      <th>LITHOLOGY_GEOLINK_NEW</th>\n",
              "      <th>DRDN</th>\n",
              "      <th>AI</th>\n",
              "    </tr>\n",
              "  </thead>\n",
              "  <tbody>\n",
              "    <tr>\n",
              "      <th>0</th>\n",
              "      <td>970.784973</td>\n",
              "      <td>19.379000</td>\n",
              "      <td>0.476293</td>\n",
              "      <td>1.925953</td>\n",
              "      <td>34.463940</td>\n",
              "      <td>150.259949</td>\n",
              "      <td>3.274985</td>\n",
              "      <td>0.371132</td>\n",
              "      <td>NaN</td>\n",
              "      <td>NaN</td>\n",
              "      <td>-0.604492</td>\n",
              "      <td>3906.766407</td>\n",
              "    </tr>\n",
              "    <tr>\n",
              "      <th>1</th>\n",
              "      <td>970.937378</td>\n",
              "      <td>20.042002</td>\n",
              "      <td>0.433137</td>\n",
              "      <td>1.930004</td>\n",
              "      <td>37.689102</td>\n",
              "      <td>149.147537</td>\n",
              "      <td>1.775984</td>\n",
              "      <td>0.627568</td>\n",
              "      <td>NaN</td>\n",
              "      <td>NaN</td>\n",
              "      <td>-1.962014</td>\n",
              "      <td>3944.183015</td>\n",
              "    </tr>\n",
              "    <tr>\n",
              "      <th>2</th>\n",
              "      <td>971.089783</td>\n",
              "      <td>20.993999</td>\n",
              "      <td>0.464309</td>\n",
              "      <td>1.931051</td>\n",
              "      <td>39.453999</td>\n",
              "      <td>148.786880</td>\n",
              "      <td>1.025920</td>\n",
              "      <td>0.756454</td>\n",
              "      <td>NaN</td>\n",
              "      <td>NaN</td>\n",
              "      <td>-0.902005</td>\n",
              "      <td>3955.888037</td>\n",
              "    </tr>\n",
              "  </tbody>\n",
              "</table>\n",
              "</div>\n",
              "      <button class=\"colab-df-convert\" onclick=\"convertToInteractive('df-d4249b4b-b00a-48f3-a71f-860f73140fe9')\"\n",
              "              title=\"Convert this dataframe to an interactive table.\"\n",
              "              style=\"display:none;\">\n",
              "        \n",
              "  <svg xmlns=\"http://www.w3.org/2000/svg\" height=\"24px\"viewBox=\"0 0 24 24\"\n",
              "       width=\"24px\">\n",
              "    <path d=\"M0 0h24v24H0V0z\" fill=\"none\"/>\n",
              "    <path d=\"M18.56 5.44l.94 2.06.94-2.06 2.06-.94-2.06-.94-.94-2.06-.94 2.06-2.06.94zm-11 1L8.5 8.5l.94-2.06 2.06-.94-2.06-.94L8.5 2.5l-.94 2.06-2.06.94zm10 10l.94 2.06.94-2.06 2.06-.94-2.06-.94-.94-2.06-.94 2.06-2.06.94z\"/><path d=\"M17.41 7.96l-1.37-1.37c-.4-.4-.92-.59-1.43-.59-.52 0-1.04.2-1.43.59L10.3 9.45l-7.72 7.72c-.78.78-.78 2.05 0 2.83L4 21.41c.39.39.9.59 1.41.59.51 0 1.02-.2 1.41-.59l7.78-7.78 2.81-2.81c.8-.78.8-2.07 0-2.86zM5.41 20L4 18.59l7.72-7.72 1.47 1.35L5.41 20z\"/>\n",
              "  </svg>\n",
              "      </button>\n",
              "      \n",
              "  <style>\n",
              "    .colab-df-container {\n",
              "      display:flex;\n",
              "      flex-wrap:wrap;\n",
              "      gap: 12px;\n",
              "    }\n",
              "\n",
              "    .colab-df-convert {\n",
              "      background-color: #E8F0FE;\n",
              "      border: none;\n",
              "      border-radius: 50%;\n",
              "      cursor: pointer;\n",
              "      display: none;\n",
              "      fill: #1967D2;\n",
              "      height: 32px;\n",
              "      padding: 0 0 0 0;\n",
              "      width: 32px;\n",
              "    }\n",
              "\n",
              "    .colab-df-convert:hover {\n",
              "      background-color: #E2EBFA;\n",
              "      box-shadow: 0px 1px 2px rgba(60, 64, 67, 0.3), 0px 1px 3px 1px rgba(60, 64, 67, 0.15);\n",
              "      fill: #174EA6;\n",
              "    }\n",
              "\n",
              "    [theme=dark] .colab-df-convert {\n",
              "      background-color: #3B4455;\n",
              "      fill: #D2E3FC;\n",
              "    }\n",
              "\n",
              "    [theme=dark] .colab-df-convert:hover {\n",
              "      background-color: #434B5C;\n",
              "      box-shadow: 0px 1px 3px 1px rgba(0, 0, 0, 0.15);\n",
              "      filter: drop-shadow(0px 1px 2px rgba(0, 0, 0, 0.3));\n",
              "      fill: #FFFFFF;\n",
              "    }\n",
              "  </style>\n",
              "\n",
              "      <script>\n",
              "        const buttonEl =\n",
              "          document.querySelector('#df-d4249b4b-b00a-48f3-a71f-860f73140fe9 button.colab-df-convert');\n",
              "        buttonEl.style.display =\n",
              "          google.colab.kernel.accessAllowed ? 'block' : 'none';\n",
              "\n",
              "        async function convertToInteractive(key) {\n",
              "          const element = document.querySelector('#df-d4249b4b-b00a-48f3-a71f-860f73140fe9');\n",
              "          const dataTable =\n",
              "            await google.colab.kernel.invokeFunction('convertToInteractive',\n",
              "                                                     [key], {});\n",
              "          if (!dataTable) return;\n",
              "\n",
              "          const docLinkHtml = 'Like what you see? Visit the ' +\n",
              "            '<a target=\"_blank\" href=https://colab.research.google.com/notebooks/data_table.ipynb>data table notebook</a>'\n",
              "            + ' to learn more about interactive tables.';\n",
              "          element.innerHTML = '';\n",
              "          dataTable['output_type'] = 'display_data';\n",
              "          await google.colab.output.renderOutput(dataTable, element);\n",
              "          const docLink = document.createElement('div');\n",
              "          docLink.innerHTML = docLinkHtml;\n",
              "          element.appendChild(docLink);\n",
              "        }\n",
              "      </script>\n",
              "    </div>\n",
              "  </div>\n",
              "  "
            ]
          },
          "metadata": {},
          "execution_count": 12
        }
      ],
      "source": [
        "df.head(3)"
      ]
    },
    {
      "cell_type": "code",
      "execution_count": null,
      "metadata": {
        "id": "uehV3dYn9YMa",
        "colab": {
          "base_uri": "https://localhost:8080/",
          "height": 161
        },
        "outputId": "5cd4e920-d4fc-4c25-a494-bc63a5bd9b2d"
      },
      "outputs": [
        {
          "output_type": "stream",
          "name": "stdout",
          "text": [
            "(964961, 11)\n"
          ]
        },
        {
          "output_type": "execute_result",
          "data": {
            "text/plain": [
              "            DEPTH    CALI      NPHI      RHOB         GR         DTC  \\\n",
              "5184  1760.826538  11.072  0.497564  2.100449  49.180531  152.926773   \n",
              "5185  1760.979004  11.414  0.487431  2.101901  49.398258  154.804123   \n",
              "5186  1761.131348  11.862  0.470989  2.114949  48.853848  153.791382   \n",
              "\n",
              "          RDEP      RMED  LITHOLOGY_GEOLINK_NEW      DRDN           AI  \n",
              "5184  0.701026  0.635005                    5.0  3.594446  4186.428191  \n",
              "5185  0.712035  0.636930                    5.0  3.285710  4138.517127  \n",
              "5186  0.723002  0.614947                    5.0  2.998615  4191.628285  "
            ],
            "text/html": [
              "\n",
              "  <div id=\"df-1c578d23-7918-46c1-bfe9-5e1bca88823e\">\n",
              "    <div class=\"colab-df-container\">\n",
              "      <div>\n",
              "<style scoped>\n",
              "    .dataframe tbody tr th:only-of-type {\n",
              "        vertical-align: middle;\n",
              "    }\n",
              "\n",
              "    .dataframe tbody tr th {\n",
              "        vertical-align: top;\n",
              "    }\n",
              "\n",
              "    .dataframe thead th {\n",
              "        text-align: right;\n",
              "    }\n",
              "</style>\n",
              "<table border=\"1\" class=\"dataframe\">\n",
              "  <thead>\n",
              "    <tr style=\"text-align: right;\">\n",
              "      <th></th>\n",
              "      <th>DEPTH</th>\n",
              "      <th>CALI</th>\n",
              "      <th>NPHI</th>\n",
              "      <th>RHOB</th>\n",
              "      <th>GR</th>\n",
              "      <th>DTC</th>\n",
              "      <th>RDEP</th>\n",
              "      <th>RMED</th>\n",
              "      <th>LITHOLOGY_GEOLINK_NEW</th>\n",
              "      <th>DRDN</th>\n",
              "      <th>AI</th>\n",
              "    </tr>\n",
              "  </thead>\n",
              "  <tbody>\n",
              "    <tr>\n",
              "      <th>5184</th>\n",
              "      <td>1760.826538</td>\n",
              "      <td>11.072</td>\n",
              "      <td>0.497564</td>\n",
              "      <td>2.100449</td>\n",
              "      <td>49.180531</td>\n",
              "      <td>152.926773</td>\n",
              "      <td>0.701026</td>\n",
              "      <td>0.635005</td>\n",
              "      <td>5.0</td>\n",
              "      <td>3.594446</td>\n",
              "      <td>4186.428191</td>\n",
              "    </tr>\n",
              "    <tr>\n",
              "      <th>5185</th>\n",
              "      <td>1760.979004</td>\n",
              "      <td>11.414</td>\n",
              "      <td>0.487431</td>\n",
              "      <td>2.101901</td>\n",
              "      <td>49.398258</td>\n",
              "      <td>154.804123</td>\n",
              "      <td>0.712035</td>\n",
              "      <td>0.636930</td>\n",
              "      <td>5.0</td>\n",
              "      <td>3.285710</td>\n",
              "      <td>4138.517127</td>\n",
              "    </tr>\n",
              "    <tr>\n",
              "      <th>5186</th>\n",
              "      <td>1761.131348</td>\n",
              "      <td>11.862</td>\n",
              "      <td>0.470989</td>\n",
              "      <td>2.114949</td>\n",
              "      <td>48.853848</td>\n",
              "      <td>153.791382</td>\n",
              "      <td>0.723002</td>\n",
              "      <td>0.614947</td>\n",
              "      <td>5.0</td>\n",
              "      <td>2.998615</td>\n",
              "      <td>4191.628285</td>\n",
              "    </tr>\n",
              "  </tbody>\n",
              "</table>\n",
              "</div>\n",
              "      <button class=\"colab-df-convert\" onclick=\"convertToInteractive('df-1c578d23-7918-46c1-bfe9-5e1bca88823e')\"\n",
              "              title=\"Convert this dataframe to an interactive table.\"\n",
              "              style=\"display:none;\">\n",
              "        \n",
              "  <svg xmlns=\"http://www.w3.org/2000/svg\" height=\"24px\"viewBox=\"0 0 24 24\"\n",
              "       width=\"24px\">\n",
              "    <path d=\"M0 0h24v24H0V0z\" fill=\"none\"/>\n",
              "    <path d=\"M18.56 5.44l.94 2.06.94-2.06 2.06-.94-2.06-.94-.94-2.06-.94 2.06-2.06.94zm-11 1L8.5 8.5l.94-2.06 2.06-.94-2.06-.94L8.5 2.5l-.94 2.06-2.06.94zm10 10l.94 2.06.94-2.06 2.06-.94-2.06-.94-.94-2.06-.94 2.06-2.06.94z\"/><path d=\"M17.41 7.96l-1.37-1.37c-.4-.4-.92-.59-1.43-.59-.52 0-1.04.2-1.43.59L10.3 9.45l-7.72 7.72c-.78.78-.78 2.05 0 2.83L4 21.41c.39.39.9.59 1.41.59.51 0 1.02-.2 1.41-.59l7.78-7.78 2.81-2.81c.8-.78.8-2.07 0-2.86zM5.41 20L4 18.59l7.72-7.72 1.47 1.35L5.41 20z\"/>\n",
              "  </svg>\n",
              "      </button>\n",
              "      \n",
              "  <style>\n",
              "    .colab-df-container {\n",
              "      display:flex;\n",
              "      flex-wrap:wrap;\n",
              "      gap: 12px;\n",
              "    }\n",
              "\n",
              "    .colab-df-convert {\n",
              "      background-color: #E8F0FE;\n",
              "      border: none;\n",
              "      border-radius: 50%;\n",
              "      cursor: pointer;\n",
              "      display: none;\n",
              "      fill: #1967D2;\n",
              "      height: 32px;\n",
              "      padding: 0 0 0 0;\n",
              "      width: 32px;\n",
              "    }\n",
              "\n",
              "    .colab-df-convert:hover {\n",
              "      background-color: #E2EBFA;\n",
              "      box-shadow: 0px 1px 2px rgba(60, 64, 67, 0.3), 0px 1px 3px 1px rgba(60, 64, 67, 0.15);\n",
              "      fill: #174EA6;\n",
              "    }\n",
              "\n",
              "    [theme=dark] .colab-df-convert {\n",
              "      background-color: #3B4455;\n",
              "      fill: #D2E3FC;\n",
              "    }\n",
              "\n",
              "    [theme=dark] .colab-df-convert:hover {\n",
              "      background-color: #434B5C;\n",
              "      box-shadow: 0px 1px 3px 1px rgba(0, 0, 0, 0.15);\n",
              "      filter: drop-shadow(0px 1px 2px rgba(0, 0, 0, 0.3));\n",
              "      fill: #FFFFFF;\n",
              "    }\n",
              "  </style>\n",
              "\n",
              "      <script>\n",
              "        const buttonEl =\n",
              "          document.querySelector('#df-1c578d23-7918-46c1-bfe9-5e1bca88823e button.colab-df-convert');\n",
              "        buttonEl.style.display =\n",
              "          google.colab.kernel.accessAllowed ? 'block' : 'none';\n",
              "\n",
              "        async function convertToInteractive(key) {\n",
              "          const element = document.querySelector('#df-1c578d23-7918-46c1-bfe9-5e1bca88823e');\n",
              "          const dataTable =\n",
              "            await google.colab.kernel.invokeFunction('convertToInteractive',\n",
              "                                                     [key], {});\n",
              "          if (!dataTable) return;\n",
              "\n",
              "          const docLinkHtml = 'Like what you see? Visit the ' +\n",
              "            '<a target=\"_blank\" href=https://colab.research.google.com/notebooks/data_table.ipynb>data table notebook</a>'\n",
              "            + ' to learn more about interactive tables.';\n",
              "          element.innerHTML = '';\n",
              "          dataTable['output_type'] = 'display_data';\n",
              "          await google.colab.output.renderOutput(dataTable, element);\n",
              "          const docLink = document.createElement('div');\n",
              "          docLink.innerHTML = docLinkHtml;\n",
              "          element.appendChild(docLink);\n",
              "        }\n",
              "      </script>\n",
              "    </div>\n",
              "  </div>\n",
              "  "
            ]
          },
          "metadata": {},
          "execution_count": 13
        }
      ],
      "source": [
        "#Data that has non-null LITHOLOGY_GEOLINK_NEW values\n",
        "litho_data = df[pd.notnull(df['LITHOLOGY_GEOLINK_NEW'])].drop(columns=['LITHOLOGY_GEOLINK']) # litho2 optimum set (84.5)\n",
        "print(litho_data.shape)\n",
        "litho_data.head(3)"
      ]
    },
    {
      "cell_type": "code",
      "execution_count": null,
      "metadata": {
        "id": "VQxSLqP59nBa",
        "colab": {
          "base_uri": "https://localhost:8080/",
          "height": 143
        },
        "outputId": "6ff6c2d9-a948-4bec-c55b-d9146a444bd1"
      },
      "outputs": [
        {
          "output_type": "execute_result",
          "data": {
            "text/plain": [
              "            DEPTH    CALI      NPHI      RHOB         GR         DTC  \\\n",
              "5184  1760.826538  11.072  0.497564  2.100449  49.180531  152.926773   \n",
              "5185  1760.979004  11.414  0.487431  2.101901  49.398258  154.804123   \n",
              "5186  1761.131348  11.862  0.470989  2.114949  48.853848  153.791382   \n",
              "\n",
              "          RDEP      RMED  LITHOLOGY_GEOLINK_NEW      DRDN           AI  \n",
              "5184  0.701026  0.635005                      5  3.594446  4186.428191  \n",
              "5185  0.712035  0.636930                      5  3.285710  4138.517127  \n",
              "5186  0.723002  0.614947                      5  2.998615  4191.628285  "
            ],
            "text/html": [
              "\n",
              "  <div id=\"df-db71dc7c-f9bf-4dae-83e7-dc0d44a1194b\">\n",
              "    <div class=\"colab-df-container\">\n",
              "      <div>\n",
              "<style scoped>\n",
              "    .dataframe tbody tr th:only-of-type {\n",
              "        vertical-align: middle;\n",
              "    }\n",
              "\n",
              "    .dataframe tbody tr th {\n",
              "        vertical-align: top;\n",
              "    }\n",
              "\n",
              "    .dataframe thead th {\n",
              "        text-align: right;\n",
              "    }\n",
              "</style>\n",
              "<table border=\"1\" class=\"dataframe\">\n",
              "  <thead>\n",
              "    <tr style=\"text-align: right;\">\n",
              "      <th></th>\n",
              "      <th>DEPTH</th>\n",
              "      <th>CALI</th>\n",
              "      <th>NPHI</th>\n",
              "      <th>RHOB</th>\n",
              "      <th>GR</th>\n",
              "      <th>DTC</th>\n",
              "      <th>RDEP</th>\n",
              "      <th>RMED</th>\n",
              "      <th>LITHOLOGY_GEOLINK_NEW</th>\n",
              "      <th>DRDN</th>\n",
              "      <th>AI</th>\n",
              "    </tr>\n",
              "  </thead>\n",
              "  <tbody>\n",
              "    <tr>\n",
              "      <th>5184</th>\n",
              "      <td>1760.826538</td>\n",
              "      <td>11.072</td>\n",
              "      <td>0.497564</td>\n",
              "      <td>2.100449</td>\n",
              "      <td>49.180531</td>\n",
              "      <td>152.926773</td>\n",
              "      <td>0.701026</td>\n",
              "      <td>0.635005</td>\n",
              "      <td>5</td>\n",
              "      <td>3.594446</td>\n",
              "      <td>4186.428191</td>\n",
              "    </tr>\n",
              "    <tr>\n",
              "      <th>5185</th>\n",
              "      <td>1760.979004</td>\n",
              "      <td>11.414</td>\n",
              "      <td>0.487431</td>\n",
              "      <td>2.101901</td>\n",
              "      <td>49.398258</td>\n",
              "      <td>154.804123</td>\n",
              "      <td>0.712035</td>\n",
              "      <td>0.636930</td>\n",
              "      <td>5</td>\n",
              "      <td>3.285710</td>\n",
              "      <td>4138.517127</td>\n",
              "    </tr>\n",
              "    <tr>\n",
              "      <th>5186</th>\n",
              "      <td>1761.131348</td>\n",
              "      <td>11.862</td>\n",
              "      <td>0.470989</td>\n",
              "      <td>2.114949</td>\n",
              "      <td>48.853848</td>\n",
              "      <td>153.791382</td>\n",
              "      <td>0.723002</td>\n",
              "      <td>0.614947</td>\n",
              "      <td>5</td>\n",
              "      <td>2.998615</td>\n",
              "      <td>4191.628285</td>\n",
              "    </tr>\n",
              "  </tbody>\n",
              "</table>\n",
              "</div>\n",
              "      <button class=\"colab-df-convert\" onclick=\"convertToInteractive('df-db71dc7c-f9bf-4dae-83e7-dc0d44a1194b')\"\n",
              "              title=\"Convert this dataframe to an interactive table.\"\n",
              "              style=\"display:none;\">\n",
              "        \n",
              "  <svg xmlns=\"http://www.w3.org/2000/svg\" height=\"24px\"viewBox=\"0 0 24 24\"\n",
              "       width=\"24px\">\n",
              "    <path d=\"M0 0h24v24H0V0z\" fill=\"none\"/>\n",
              "    <path d=\"M18.56 5.44l.94 2.06.94-2.06 2.06-.94-2.06-.94-.94-2.06-.94 2.06-2.06.94zm-11 1L8.5 8.5l.94-2.06 2.06-.94-2.06-.94L8.5 2.5l-.94 2.06-2.06.94zm10 10l.94 2.06.94-2.06 2.06-.94-2.06-.94-.94-2.06-.94 2.06-2.06.94z\"/><path d=\"M17.41 7.96l-1.37-1.37c-.4-.4-.92-.59-1.43-.59-.52 0-1.04.2-1.43.59L10.3 9.45l-7.72 7.72c-.78.78-.78 2.05 0 2.83L4 21.41c.39.39.9.59 1.41.59.51 0 1.02-.2 1.41-.59l7.78-7.78 2.81-2.81c.8-.78.8-2.07 0-2.86zM5.41 20L4 18.59l7.72-7.72 1.47 1.35L5.41 20z\"/>\n",
              "  </svg>\n",
              "      </button>\n",
              "      \n",
              "  <style>\n",
              "    .colab-df-container {\n",
              "      display:flex;\n",
              "      flex-wrap:wrap;\n",
              "      gap: 12px;\n",
              "    }\n",
              "\n",
              "    .colab-df-convert {\n",
              "      background-color: #E8F0FE;\n",
              "      border: none;\n",
              "      border-radius: 50%;\n",
              "      cursor: pointer;\n",
              "      display: none;\n",
              "      fill: #1967D2;\n",
              "      height: 32px;\n",
              "      padding: 0 0 0 0;\n",
              "      width: 32px;\n",
              "    }\n",
              "\n",
              "    .colab-df-convert:hover {\n",
              "      background-color: #E2EBFA;\n",
              "      box-shadow: 0px 1px 2px rgba(60, 64, 67, 0.3), 0px 1px 3px 1px rgba(60, 64, 67, 0.15);\n",
              "      fill: #174EA6;\n",
              "    }\n",
              "\n",
              "    [theme=dark] .colab-df-convert {\n",
              "      background-color: #3B4455;\n",
              "      fill: #D2E3FC;\n",
              "    }\n",
              "\n",
              "    [theme=dark] .colab-df-convert:hover {\n",
              "      background-color: #434B5C;\n",
              "      box-shadow: 0px 1px 3px 1px rgba(0, 0, 0, 0.15);\n",
              "      filter: drop-shadow(0px 1px 2px rgba(0, 0, 0, 0.3));\n",
              "      fill: #FFFFFF;\n",
              "    }\n",
              "  </style>\n",
              "\n",
              "      <script>\n",
              "        const buttonEl =\n",
              "          document.querySelector('#df-db71dc7c-f9bf-4dae-83e7-dc0d44a1194b button.colab-df-convert');\n",
              "        buttonEl.style.display =\n",
              "          google.colab.kernel.accessAllowed ? 'block' : 'none';\n",
              "\n",
              "        async function convertToInteractive(key) {\n",
              "          const element = document.querySelector('#df-db71dc7c-f9bf-4dae-83e7-dc0d44a1194b');\n",
              "          const dataTable =\n",
              "            await google.colab.kernel.invokeFunction('convertToInteractive',\n",
              "                                                     [key], {});\n",
              "          if (!dataTable) return;\n",
              "\n",
              "          const docLinkHtml = 'Like what you see? Visit the ' +\n",
              "            '<a target=\"_blank\" href=https://colab.research.google.com/notebooks/data_table.ipynb>data table notebook</a>'\n",
              "            + ' to learn more about interactive tables.';\n",
              "          element.innerHTML = '';\n",
              "          dataTable['output_type'] = 'display_data';\n",
              "          await google.colab.output.renderOutput(dataTable, element);\n",
              "          const docLink = document.createElement('div');\n",
              "          docLink.innerHTML = docLinkHtml;\n",
              "          element.appendChild(docLink);\n",
              "        }\n",
              "      </script>\n",
              "    </div>\n",
              "  </div>\n",
              "  "
            ]
          },
          "metadata": {},
          "execution_count": 14
        }
      ],
      "source": [
        "# convert to int dtype\n",
        "litho_data['LITHOLOGY_GEOLINK_NEW'] = litho_data['LITHOLOGY_GEOLINK_NEW'].astype(int)\n",
        "litho_data.head(3)"
      ]
    },
    {
      "cell_type": "code",
      "execution_count": null,
      "metadata": {
        "id": "lKn01LXZ-fhd",
        "colab": {
          "base_uri": "https://localhost:8080/"
        },
        "outputId": "b8eea6e4-cbad-4608-aa7e-84ffc3581e50"
      },
      "outputs": [
        {
          "output_type": "stream",
          "name": "stdout",
          "text": [
            "Training Dataset:   (771968, 10) (771968,)\n",
            "Test Dataset:  (192993, 10) (192993,)\n"
          ]
        }
      ],
      "source": [
        "#dataset creation\n",
        "from sklearn.model_selection import train_test_split\n",
        "\n",
        "X = litho_data.drop(columns='LITHOLOGY_GEOLINK_NEW')\n",
        "Y = litho_data['LITHOLOGY_GEOLINK_NEW'].values\n",
        "\n",
        "x_train, x_test, y_train, y_test = train_test_split(X, Y, test_size = 0.2, random_state=42) # close to the tabnet training dataset size\n",
        "\n",
        "print('Training Dataset:  ', x_train.shape, y_train.shape)\n",
        "print('Test Dataset: ', x_test.shape, y_test.shape)"
      ]
    },
    {
      "cell_type": "markdown",
      "metadata": {
        "id": "YvozR_DCo609"
      },
      "source": [
        "Fitting the model on data"
      ]
    },
    {
      "cell_type": "code",
      "execution_count": null,
      "metadata": {
        "id": "fWHXeMtnpIim",
        "colab": {
          "base_uri": "https://localhost:8080/"
        },
        "outputId": "c379842c-3029-4d37-8ba4-65088376229a"
      },
      "outputs": [
        {
          "output_type": "stream",
          "name": "stdout",
          "text": [
            "Looking in indexes: https://pypi.org/simple, https://us-python.pkg.dev/colab-wheels/public/simple/\n",
            "Collecting pytorch-tabnet\n",
            "  Downloading pytorch_tabnet-4.0-py3-none-any.whl (41 kB)\n",
            "\u001b[K     |████████████████████████████████| 41 kB 703 kB/s \n",
            "\u001b[?25hRequirement already satisfied: scikit_learn>0.21 in /usr/local/lib/python3.7/dist-packages (from pytorch-tabnet) (1.0.2)\n",
            "Requirement already satisfied: scipy>1.4 in /usr/local/lib/python3.7/dist-packages (from pytorch-tabnet) (1.7.3)\n",
            "Requirement already satisfied: torch<2.0,>=1.2 in /usr/local/lib/python3.7/dist-packages (from pytorch-tabnet) (1.12.1+cu113)\n",
            "Requirement already satisfied: numpy<2.0,>=1.17 in /usr/local/lib/python3.7/dist-packages (from pytorch-tabnet) (1.21.6)\n",
            "Requirement already satisfied: tqdm<5.0,>=4.36 in /usr/local/lib/python3.7/dist-packages (from pytorch-tabnet) (4.64.1)\n",
            "Requirement already satisfied: joblib>=0.11 in /usr/local/lib/python3.7/dist-packages (from scikit_learn>0.21->pytorch-tabnet) (1.1.0)\n",
            "Requirement already satisfied: threadpoolctl>=2.0.0 in /usr/local/lib/python3.7/dist-packages (from scikit_learn>0.21->pytorch-tabnet) (3.1.0)\n",
            "Requirement already satisfied: typing-extensions in /usr/local/lib/python3.7/dist-packages (from torch<2.0,>=1.2->pytorch-tabnet) (4.1.1)\n",
            "Installing collected packages: pytorch-tabnet\n",
            "Successfully installed pytorch-tabnet-4.0\n"
          ]
        }
      ],
      "source": [
        "import torch\n",
        "!pip install pytorch-tabnet\n",
        "from pytorch_tabnet.tab_model import TabNetClassifier\n",
        "\n",
        "\n",
        "clf = TabNetClassifier(optimizer_fn=torch.optim.Adam,\n",
        "                       optimizer_params=dict(lr=2e-3),\n",
        "                       scheduler_params={\"gamma\":0.9, \"step_size\":50},\n",
        "                       gamma=1.2,\n",
        "                       lambda_sparse=0, \n",
        "                       n_independent=10,\n",
        "                       n_shared=5,\t\n",
        "                       n_steps=5,\n",
        "                       n_a=64,\n",
        "                       n_d=64,\n",
        "                       momentum=0.6, \n",
        "                       scheduler_fn=torch.optim.lr_scheduler.StepLR,\n",
        "                       mask_type='entmax') "
      ]
    },
    {
      "cell_type": "code",
      "execution_count": null,
      "metadata": {
        "id": "CdgXXUcGpSdi"
      },
      "outputs": [],
      "source": [
        "#normalizing data\n",
        "\n",
        "from sklearn.preprocessing import StandardScaler\n",
        "\n",
        "std_scaler = StandardScaler()\n",
        "\n",
        "x_train = std_scaler.fit_transform(x_train)\n",
        "x_test = std_scaler.fit_transform(x_test)"
      ]
    },
    {
      "cell_type": "code",
      "execution_count": null,
      "metadata": {
        "id": "gCNRhhMCploT",
        "colab": {
          "base_uri": "https://localhost:8080/"
        },
        "outputId": "09b85c46-e83a-40ef-ce9e-9292da824948"
      },
      "outputs": [
        {
          "output_type": "stream",
          "name": "stdout",
          "text": [
            "epoch 0  | loss: 3.45524 | train_balanced_accuracy: 0.28701 | test_balanced_accuracy: 0.28972 |  0:00:46s\n",
            "epoch 1  | loss: 2.3099  | train_balanced_accuracy: 0.49425 | test_balanced_accuracy: 0.48183 |  0:01:31s\n",
            "epoch 2  | loss: 1.43371 | train_balanced_accuracy: 0.61739 | test_balanced_accuracy: 0.61061 |  0:02:12s\n",
            "epoch 3  | loss: 1.01085 | train_balanced_accuracy: 0.68495 | test_balanced_accuracy: 0.67658 |  0:02:46s\n",
            "epoch 4  | loss: 0.82639 | train_balanced_accuracy: 0.70885 | test_balanced_accuracy: 0.70346 |  0:03:21s\n",
            "epoch 5  | loss: 0.71465 | train_balanced_accuracy: 0.77369 | test_balanced_accuracy: 0.76182 |  0:03:55s\n",
            "epoch 6  | loss: 0.59486 | train_balanced_accuracy: 0.78669 | test_balanced_accuracy: 0.77183 |  0:04:30s\n",
            "epoch 7  | loss: 0.53955 | train_balanced_accuracy: 0.81949 | test_balanced_accuracy: 0.79858 |  0:05:04s\n",
            "epoch 8  | loss: 0.49707 | train_balanced_accuracy: 0.81434 | test_balanced_accuracy: 0.78606 |  0:05:41s\n",
            "epoch 9  | loss: 0.47888 | train_balanced_accuracy: 0.84346 | test_balanced_accuracy: 0.81644 |  0:06:17s\n",
            "epoch 10 | loss: 0.4424  | train_balanced_accuracy: 0.79916 | test_balanced_accuracy: 0.77657 |  0:06:56s\n",
            "epoch 11 | loss: 0.48677 | train_balanced_accuracy: 0.79803 | test_balanced_accuracy: 0.78428 |  0:07:39s\n",
            "epoch 12 | loss: 0.44745 | train_balanced_accuracy: 0.85985 | test_balanced_accuracy: 0.83562 |  0:08:21s\n",
            "epoch 13 | loss: 0.37507 | train_balanced_accuracy: 0.87064 | test_balanced_accuracy: 0.83889 |  0:09:03s\n",
            "epoch 14 | loss: 0.35212 | train_balanced_accuracy: 0.87571 | test_balanced_accuracy: 0.84361 |  0:09:37s\n",
            "epoch 15 | loss: 0.33331 | train_balanced_accuracy: 0.88356 | test_balanced_accuracy: 0.84647 |  0:10:12s\n",
            "epoch 16 | loss: 0.32769 | train_balanced_accuracy: 0.8863  | test_balanced_accuracy: 0.84919 |  0:10:46s\n",
            "epoch 17 | loss: 0.31091 | train_balanced_accuracy: 0.89282 | test_balanced_accuracy: 0.8528  |  0:11:21s\n",
            "epoch 18 | loss: 0.29534 | train_balanced_accuracy: 0.89556 | test_balanced_accuracy: 0.85352 |  0:11:55s\n",
            "epoch 19 | loss: 0.28757 | train_balanced_accuracy: 0.90171 | test_balanced_accuracy: 0.85848 |  0:12:34s\n",
            "epoch 20 | loss: 0.27406 | train_balanced_accuracy: 0.90376 | test_balanced_accuracy: 0.85404 |  0:13:12s\n",
            "epoch 21 | loss: 0.27425 | train_balanced_accuracy: 0.90224 | test_balanced_accuracy: 0.86342 |  0:13:54s\n",
            "epoch 22 | loss: 0.27155 | train_balanced_accuracy: 0.90568 | test_balanced_accuracy: 0.86234 |  0:14:37s\n",
            "epoch 23 | loss: 0.2551  | train_balanced_accuracy: 0.91155 | test_balanced_accuracy: 0.86578 |  0:15:19s\n",
            "epoch 24 | loss: 0.24208 | train_balanced_accuracy: 0.91548 | test_balanced_accuracy: 0.86343 |  0:16:02s\n",
            "epoch 25 | loss: 0.23544 | train_balanced_accuracy: 0.91598 | test_balanced_accuracy: 0.86071 |  0:16:42s\n",
            "epoch 26 | loss: 0.23096 | train_balanced_accuracy: 0.92159 | test_balanced_accuracy: 0.86561 |  0:17:17s\n",
            "epoch 27 | loss: 0.2276  | train_balanced_accuracy: 0.92193 | test_balanced_accuracy: 0.86026 |  0:17:52s\n",
            "epoch 28 | loss: 0.22494 | train_balanced_accuracy: 0.918   | test_balanced_accuracy: 0.85597 |  0:18:27s\n",
            "epoch 29 | loss: 0.22273 | train_balanced_accuracy: 0.92302 | test_balanced_accuracy: 0.85796 |  0:19:02s\n",
            "epoch 30 | loss: 0.21251 | train_balanced_accuracy: 0.92504 | test_balanced_accuracy: 0.85557 |  0:19:37s\n",
            "epoch 31 | loss: 0.2059  | train_balanced_accuracy: 0.92163 | test_balanced_accuracy: 0.86161 |  0:20:12s\n",
            "epoch 32 | loss: 0.20427 | train_balanced_accuracy: 0.92947 | test_balanced_accuracy: 0.86517 |  0:20:49s\n",
            "epoch 33 | loss: 0.20014 | train_balanced_accuracy: 0.92925 | test_balanced_accuracy: 0.86482 |  0:21:27s\n",
            "epoch 34 | loss: 0.19547 | train_balanced_accuracy: 0.93429 | test_balanced_accuracy: 0.86318 |  0:22:06s\n",
            "epoch 35 | loss: 0.19558 | train_balanced_accuracy: 0.926   | test_balanced_accuracy: 0.86221 |  0:22:48s\n",
            "epoch 36 | loss: 0.19526 | train_balanced_accuracy: 0.93595 | test_balanced_accuracy: 0.86285 |  0:23:29s\n",
            "epoch 37 | loss: 0.18321 | train_balanced_accuracy: 0.93485 | test_balanced_accuracy: 0.86731 |  0:24:12s\n",
            "epoch 38 | loss: 0.18013 | train_balanced_accuracy: 0.93798 | test_balanced_accuracy: 0.87072 |  0:24:56s\n",
            "epoch 39 | loss: 0.17661 | train_balanced_accuracy: 0.93699 | test_balanced_accuracy: 0.86283 |  0:25:39s\n",
            "epoch 40 | loss: 0.17535 | train_balanced_accuracy: 0.93921 | test_balanced_accuracy: 0.86406 |  0:26:19s\n",
            "epoch 41 | loss: 0.16976 | train_balanced_accuracy: 0.94058 | test_balanced_accuracy: 0.86656 |  0:26:55s\n",
            "epoch 42 | loss: 0.16848 | train_balanced_accuracy: 0.94328 | test_balanced_accuracy: 0.8678  |  0:27:30s\n",
            "epoch 43 | loss: 0.16381 | train_balanced_accuracy: 0.94522 | test_balanced_accuracy: 0.8653  |  0:28:05s\n",
            "epoch 44 | loss: 0.16361 | train_balanced_accuracy: 0.94027 | test_balanced_accuracy: 0.86795 |  0:28:41s\n",
            "epoch 45 | loss: 0.16245 | train_balanced_accuracy: 0.94497 | test_balanced_accuracy: 0.87273 |  0:29:17s\n",
            "epoch 46 | loss: 0.16052 | train_balanced_accuracy: 0.94631 | test_balanced_accuracy: 0.86642 |  0:29:53s\n",
            "epoch 47 | loss: 0.15505 | train_balanced_accuracy: 0.94555 | test_balanced_accuracy: 0.87236 |  0:30:30s\n",
            "epoch 48 | loss: 0.15138 | train_balanced_accuracy: 0.94803 | test_balanced_accuracy: 0.87264 |  0:31:09s\n",
            "epoch 49 | loss: 0.15543 | train_balanced_accuracy: 0.94557 | test_balanced_accuracy: 0.86896 |  0:31:49s\n",
            "epoch 50 | loss: 0.14498 | train_balanced_accuracy: 0.95207 | test_balanced_accuracy: 0.87243 |  0:32:34s\n",
            "epoch 51 | loss: 0.14161 | train_balanced_accuracy: 0.95145 | test_balanced_accuracy: 0.86845 |  0:33:18s\n",
            "epoch 52 | loss: 0.14198 | train_balanced_accuracy: 0.95182 | test_balanced_accuracy: 0.86743 |  0:34:02s\n",
            "epoch 53 | loss: 0.14047 | train_balanced_accuracy: 0.95131 | test_balanced_accuracy: 0.87464 |  0:34:47s\n",
            "epoch 54 | loss: 0.14143 | train_balanced_accuracy: 0.95181 | test_balanced_accuracy: 0.87336 |  0:35:31s\n",
            "epoch 55 | loss: 0.13742 | train_balanced_accuracy: 0.95323 | test_balanced_accuracy: 0.87419 |  0:36:14s\n",
            "epoch 56 | loss: 0.13706 | train_balanced_accuracy: 0.95438 | test_balanced_accuracy: 0.87543 |  0:36:50s\n",
            "epoch 57 | loss: 0.13365 | train_balanced_accuracy: 0.9544  | test_balanced_accuracy: 0.87988 |  0:37:26s\n",
            "epoch 58 | loss: 0.1359  | train_balanced_accuracy: 0.95284 | test_balanced_accuracy: 0.86756 |  0:38:03s\n",
            "epoch 59 | loss: 0.13174 | train_balanced_accuracy: 0.95485 | test_balanced_accuracy: 0.87279 |  0:38:39s\n",
            "epoch 60 | loss: 0.12968 | train_balanced_accuracy: 0.95641 | test_balanced_accuracy: 0.871   |  0:39:16s\n",
            "epoch 61 | loss: 0.12698 | train_balanced_accuracy: 0.95553 | test_balanced_accuracy: 0.87962 |  0:39:54s\n",
            "epoch 62 | loss: 0.12982 | train_balanced_accuracy: 0.95518 | test_balanced_accuracy: 0.86892 |  0:40:33s\n",
            "epoch 63 | loss: 0.12653 | train_balanced_accuracy: 0.95731 | test_balanced_accuracy: 0.86755 |  0:41:13s\n",
            "epoch 64 | loss: 0.12423 | train_balanced_accuracy: 0.95492 | test_balanced_accuracy: 0.87561 |  0:41:56s\n",
            "epoch 65 | loss: 0.12309 | train_balanced_accuracy: 0.95682 | test_balanced_accuracy: 0.86722 |  0:42:41s\n",
            "epoch 66 | loss: 0.12131 | train_balanced_accuracy: 0.95818 | test_balanced_accuracy: 0.86925 |  0:43:27s\n",
            "epoch 67 | loss: 0.11924 | train_balanced_accuracy: 0.96108 | test_balanced_accuracy: 0.87363 |  0:44:13s\n",
            "epoch 68 | loss: 0.11876 | train_balanced_accuracy: 0.95748 | test_balanced_accuracy: 0.86893 |  0:44:58s\n",
            "epoch 69 | loss: 0.12069 | train_balanced_accuracy: 0.95852 | test_balanced_accuracy: 0.86899 |  0:45:44s\n",
            "Stop training because you reached max_epochs = 70 with best_epoch = 57 and best_test_balanced_accuracy = 0.87988\n"
          ]
        }
      ],
      "source": [
        "max_epochs = 70\n",
        "\n",
        "clf.fit(\n",
        "    X_train=x_train, y_train=y_train,\n",
        "    eval_set=[(x_train, y_train), (x_test, y_test)],\n",
        "    eval_name=['train', 'test'],\n",
        "    eval_metric=['balanced_accuracy'],\n",
        "    max_epochs=max_epochs,\n",
        "    patience=30,\n",
        "    num_workers=30,\n",
        "    drop_last=False,\n",
        "    batch_size=8192,\n",
        "    virtual_batch_size=8192,\n",
        "    weights=1\n",
        ")"
      ]
    },
    {
      "cell_type": "code",
      "execution_count": null,
      "metadata": {
        "id": "_K385qiKsXCA",
        "colab": {
          "base_uri": "https://localhost:8080/",
          "height": 265
        },
        "outputId": "a1f9d47a-44f2-4d11-be56-a2a68b855ed0"
      },
      "outputs": [
        {
          "output_type": "display_data",
          "data": {
            "text/plain": [
              "<Figure size 432x288 with 1 Axes>"
            ],
            "image/png": "[encoded data removed]"
          },
          "metadata": {
            "needs_background": "light"
          }
        }
      ],
      "source": [
        "plt.plot(clf.history['train_balanced_accuracy'], label='Train Accuracy')\n",
        "plt.plot(clf.history['test_balanced_accuracy'], label='Test Accuracy')\n",
        "plt.legend()\n",
        "plt.show()"
      ]
    },
    {
      "cell_type": "code",
      "execution_count": null,
      "metadata": {
        "id": "0YioQubSsh74",
        "colab": {
          "base_uri": "https://localhost:8080/",
          "height": 265
        },
        "outputId": "eb1d1cc3-4aef-4391-b5d2-a807bd9cf858"
      },
      "outputs": [
        {
          "output_type": "display_data",
          "data": {
            "text/plain": [
              "<Figure size 432x288 with 1 Axes>"
            ],
            "image/png": "[encoded data removed]"
          },
          "metadata": {
            "needs_background": "light"
          }
        }
      ],
      "source": [
        "plt.plot(clf.history['loss'], label='Train Loss')\n",
        "plt.legend()\n",
        "plt.show()"
      ]
    },
    {
      "cell_type": "code",
      "execution_count": null,
      "metadata": {
        "id": "MYPzmMkEso0x",
        "colab": {
          "base_uri": "https://localhost:8080/",
          "height": 265
        },
        "outputId": "419cacf7-5a42-4b02-caca-4a4d16393dde"
      },
      "outputs": [
        {
          "output_type": "display_data",
          "data": {
            "text/plain": [
              "<Figure size 432x288 with 1 Axes>"
            ],
            "image/png": "[encoded data removed]"
          },
          "metadata": {
            "needs_background": "light"
          }
        }
      ],
      "source": [
        "plt.plot(clf.history['lr'], label='Learning Rate Decay')\n",
        "plt.legend()\n",
        "plt.show()"
      ]
    },
    {
      "cell_type": "markdown",
      "metadata": {
        "id": "J3uIqrDppHkn"
      },
      "source": [
        "\n",
        "\n",
        "---\n",
        "\n"
      ]
    },
    {
      "cell_type": "code",
      "execution_count": null,
      "metadata": {
        "id": "M07lXMQVsrYv",
        "colab": {
          "base_uri": "https://localhost:8080/"
        },
        "outputId": "b4c4cf92-ac47-4fc9-a51a-1150aa7e4312"
      },
      "outputs": [
        {
          "output_type": "stream",
          "name": "stdout",
          "text": [
            "0.0 minutes taken\n"
          ]
        }
      ],
      "source": [
        "start_time = time.time()\n",
        "\n",
        "y_predict = clf.predict(std_scaler.fit_transform(x_test))\n",
        "\n",
        "print(str(round((time.time() - start_time)/60,1)) + ' minutes taken') "
      ]
    },
    {
      "cell_type": "code",
      "execution_count": null,
      "metadata": {
        "id": "YkWVhac4suGA",
        "colab": {
          "base_uri": "https://localhost:8080/"
        },
        "outputId": "dbed4b46-d5e2-4125-f777-fbc1f2c355be"
      },
      "outputs": [
        {
          "output_type": "stream",
          "name": "stdout",
          "text": [
            "Accuracy:  0.8483364681620577 \n",
            "\n",
            "######################## \n",
            "\n",
            "Balanced Accuracy:  0.8798831870368657\n",
            "######################## \n",
            "\n",
            "F1-Score Micro:  0.8556769361421666\n"
          ]
        }
      ],
      "source": [
        "from sklearn.metrics import f1_score, accuracy_score, balanced_accuracy_score\n",
        "\n",
        "print('Accuracy: ', str(accuracy_score(y_test, y_predict)), '\\n')\n",
        "print('########################', '\\n')\n",
        "print('Balanced Accuracy: ', str(balanced_accuracy_score(y_test, y_predict)))\n",
        "print('########################', '\\n')\n",
        "print('F1-Score Micro: ', str(f1_score(y_test, y_predict, average='weighted')))"
      ]
    },
    {
      "cell_type": "code",
      "execution_count": null,
      "metadata": {
        "id": "uFf8yA2LswCd",
        "colab": {
          "base_uri": "https://localhost:8080/",
          "height": 297
        },
        "outputId": "4acb9300-7fe3-4bc9-ef87-28387d6f6b80"
      },
      "outputs": [
        {
          "output_type": "display_data",
          "data": {
            "text/plain": [
              "<Figure size 432x288 with 1 Axes>"
            ],
            "image/png": "[encoded data removed]"
          },
          "metadata": {
            "needs_background": "light"
          }
        }
      ],
      "source": [
        "tab_feature_importances = (clf.feature_importances_)\n",
        "sorted_idx = tab_feature_importances.argsort()\n",
        "y_ticks = np.arange(0, len(X.columns))\n",
        "fig, ax = plt.subplots()\n",
        "ax.barh(y_ticks, tab_feature_importances[sorted_idx])\n",
        "ax.set_yticklabels(X.columns[sorted_idx])\n",
        "ax.set_yticks(y_ticks)\n",
        "ax.set_title(\"Tabnet Feature Importances (MDI)\")\n",
        "fig.tight_layout()\n",
        "plt.show()"
      ]
    },
    {
      "cell_type": "code",
      "execution_count": null,
      "metadata": {
        "id": "2Zv2Ab88sx5F",
        "colab": {
          "base_uri": "https://localhost:8080/",
          "height": 592
        },
        "outputId": "2d93e64b-7f4e-44ab-cf93-54ce56577c21"
      },
      "outputs": [
        {
          "output_type": "display_data",
          "data": {
            "text/plain": [
              "<Figure size 720x720 with 2 Axes>"
            ],
            "image/png": "[encoded data removed]"
          },
          "metadata": {
            "needs_background": "light"
          }
        }
      ],
      "source": [
        "from sklearn.metrics import confusion_matrix\n",
        "\n",
        "cf_matrix = confusion_matrix(y_test, y_predict)\n",
        "\n",
        "fig, ax = plt.subplots(figsize=(10, 10))\n",
        "\n",
        "sns.heatmap(cf_matrix.astype('float')/ cf_matrix.sum(axis=1)[:, np.newaxis], cmap=plt.cm.Blues, annot=True, fmt='.1f') # confusion matrix normalized as in Sklearn documentation\n",
        "\n",
        "plt.yticks(rotation=0) \n",
        "\n",
        "ax.set_ylim(len(cf_matrix)-0.1, -0.5)\n",
        "\n",
        "plt.show()"
      ]
    }
  ],
  "metadata": {
    "accelerator": "GPU",
    "colab": {
      "collapsed_sections": [
        "Qlg8shS-3B7e",
        "kICXAfRe3NW2"
      ],
      "provenance": [],
      "toc_visible": true,
      "authorship_tag": "ABX9TyM4B7ZZgWhhw/8ctIppMkkl",
      "include_colab_link": true
    },
    "kernelspec": {
      "display_name": "Python 3",
      "name": "python3"
    },
    "language_info": {
      "name": "python"
    }
  },
  "nbformat": 4,
  "nbformat_minor": 0
}