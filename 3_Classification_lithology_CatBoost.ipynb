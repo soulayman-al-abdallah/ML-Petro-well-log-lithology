{
  "cells": [
    {
      "cell_type": "markdown",
      "metadata": {
        "id": "view-in-github",
        "colab_type": "text"
      },
      "source": [
        "<a href=\"https://colab.research.google.com/github/soulayman-al-abdallah/ML-Petro-well-log-lithology/blob/main/3_Classification_lithology_CatBoost.ipynb\" target=\"_parent\"><img src=\"https://colab.research.google.com/assets/colab-badge.svg\" alt=\"Open In Colab\"/></a>"
      ]
    },
    {
      "cell_type": "markdown",
      "source": [
        "**Lithology classification** - CatBoost\n",
        "-----\n",
        "\n",
        "\n",
        "\n",
        "\n",
        "Since the **total.df** is ready with filled NPHI values, we will start the **predictive modeling of the geological lithology**, represented with the **LITHOLOGY_GEOLINK**."
      ],
      "metadata": {
        "id": "oZX2hSiI4Jem"
      }
    },
    {
      "cell_type": "markdown",
      "source": [
        "\n",
        "\n",
        "---\n",
        "\n",
        "\n",
        "\n",
        "---\n",
        "\n",
        "\n",
        "\n",
        "---\n",
        "\n"
      ],
      "metadata": {
        "id": "ywTU4nUODbwU"
      }
    },
    {
      "cell_type": "markdown",
      "metadata": {
        "id": "UpRBpcFfuzCx"
      },
      "source": [
        "# Importing Modules and Dataset"
      ]
    },
    {
      "cell_type": "code",
      "execution_count": 2,
      "metadata": {
        "id": "4PcW0n6Tubby"
      },
      "outputs": [],
      "source": [
        "import warnings\n",
        "warnings.filterwarnings('ignore')"
      ]
    },
    {
      "cell_type": "code",
      "execution_count": 3,
      "metadata": {
        "id": "emp7nl26upP7"
      },
      "outputs": [],
      "source": [
        "import pandas as pd\n",
        "import numpy as np\n",
        "import matplotlib.pyplot as plt\n",
        "import seaborn as sns\n",
        "from scipy import stats\n",
        "from collections import Counter\n",
        "import time\n",
        "import multiprocessing\n",
        "from collections import Counter"
      ]
    },
    {
      "cell_type": "code",
      "execution_count": 4,
      "metadata": {
        "colab": {
          "base_uri": "https://localhost:8080/"
        },
        "id": "_NgI0FRRu-Us",
        "outputId": "ba2f998f-b87e-4e8b-fd3a-6ad2deac1e35"
      },
      "outputs": [
        {
          "output_type": "stream",
          "name": "stdout",
          "text": [
            "Mounted at /content/gdrive\n"
          ]
        }
      ],
      "source": [
        "from google.colab import drive\n",
        "drive.mount('/content/gdrive')"
      ]
    },
    {
      "cell_type": "code",
      "execution_count": 5,
      "metadata": {
        "colab": {
          "base_uri": "https://localhost:8080/",
          "height": 0
        },
        "id": "uNdyUEZ3u6ho",
        "outputId": "994e9f68-bcb2-47dd-edba-cf6f9f66f4a0"
      },
      "outputs": [
        {
          "output_type": "execute_result",
          "data": {
            "text/plain": [
              "         DEPTH       CALI      NPHI   RHOB          GR         DTC      RDEP  \\\n",
              "0  1150.763794  13.071999  0.463152  1.970   85.510208   95.029999  3.951845   \n",
              "1  1150.916260  13.155000  0.503288  1.951   91.014000  114.057999  2.285331   \n",
              "2  1151.068604  13.819000  0.528165  1.934  101.687447  115.072998  1.652506   \n",
              "\n",
              "       RMED  LITHOLOGY_GEOLINK  \n",
              "0  1.696892                NaN  \n",
              "1  1.483686                NaN  \n",
              "2  1.257905                NaN  "
            ],
            "text/html": [
              "\n",
              "  <div id=\"df-c3f0a85a-4d96-4772-a80f-6cd48a0dd8ef\">\n",
              "    <div class=\"colab-df-container\">\n",
              "      <div>\n",
              "<style scoped>\n",
              "    .dataframe tbody tr th:only-of-type {\n",
              "        vertical-align: middle;\n",
              "    }\n",
              "\n",
              "    .dataframe tbody tr th {\n",
              "        vertical-align: top;\n",
              "    }\n",
              "\n",
              "    .dataframe thead th {\n",
              "        text-align: right;\n",
              "    }\n",
              "</style>\n",
              "<table border=\"1\" class=\"dataframe\">\n",
              "  <thead>\n",
              "    <tr style=\"text-align: right;\">\n",
              "      <th></th>\n",
              "      <th>DEPTH</th>\n",
              "      <th>CALI</th>\n",
              "      <th>NPHI</th>\n",
              "      <th>RHOB</th>\n",
              "      <th>GR</th>\n",
              "      <th>DTC</th>\n",
              "      <th>RDEP</th>\n",
              "      <th>RMED</th>\n",
              "      <th>LITHOLOGY_GEOLINK</th>\n",
              "    </tr>\n",
              "  </thead>\n",
              "  <tbody>\n",
              "    <tr>\n",
              "      <th>0</th>\n",
              "      <td>1150.763794</td>\n",
              "      <td>13.071999</td>\n",
              "      <td>0.463152</td>\n",
              "      <td>1.970</td>\n",
              "      <td>85.510208</td>\n",
              "      <td>95.029999</td>\n",
              "      <td>3.951845</td>\n",
              "      <td>1.696892</td>\n",
              "      <td>NaN</td>\n",
              "    </tr>\n",
              "    <tr>\n",
              "      <th>1</th>\n",
              "      <td>1150.916260</td>\n",
              "      <td>13.155000</td>\n",
              "      <td>0.503288</td>\n",
              "      <td>1.951</td>\n",
              "      <td>91.014000</td>\n",
              "      <td>114.057999</td>\n",
              "      <td>2.285331</td>\n",
              "      <td>1.483686</td>\n",
              "      <td>NaN</td>\n",
              "    </tr>\n",
              "    <tr>\n",
              "      <th>2</th>\n",
              "      <td>1151.068604</td>\n",
              "      <td>13.819000</td>\n",
              "      <td>0.528165</td>\n",
              "      <td>1.934</td>\n",
              "      <td>101.687447</td>\n",
              "      <td>115.072998</td>\n",
              "      <td>1.652506</td>\n",
              "      <td>1.257905</td>\n",
              "      <td>NaN</td>\n",
              "    </tr>\n",
              "  </tbody>\n",
              "</table>\n",
              "</div>\n",
              "      <button class=\"colab-df-convert\" onclick=\"convertToInteractive('df-c3f0a85a-4d96-4772-a80f-6cd48a0dd8ef')\"\n",
              "              title=\"Convert this dataframe to an interactive table.\"\n",
              "              style=\"display:none;\">\n",
              "        \n",
              "  <svg xmlns=\"http://www.w3.org/2000/svg\" height=\"24px\"viewBox=\"0 0 24 24\"\n",
              "       width=\"24px\">\n",
              "    <path d=\"M0 0h24v24H0V0z\" fill=\"none\"/>\n",
              "    <path d=\"M18.56 5.44l.94 2.06.94-2.06 2.06-.94-2.06-.94-.94-2.06-.94 2.06-2.06.94zm-11 1L8.5 8.5l.94-2.06 2.06-.94-2.06-.94L8.5 2.5l-.94 2.06-2.06.94zm10 10l.94 2.06.94-2.06 2.06-.94-2.06-.94-.94-2.06-.94 2.06-2.06.94z\"/><path d=\"M17.41 7.96l-1.37-1.37c-.4-.4-.92-.59-1.43-.59-.52 0-1.04.2-1.43.59L10.3 9.45l-7.72 7.72c-.78.78-.78 2.05 0 2.83L4 21.41c.39.39.9.59 1.41.59.51 0 1.02-.2 1.41-.59l7.78-7.78 2.81-2.81c.8-.78.8-2.07 0-2.86zM5.41 20L4 18.59l7.72-7.72 1.47 1.35L5.41 20z\"/>\n",
              "  </svg>\n",
              "      </button>\n",
              "      \n",
              "  <style>\n",
              "    .colab-df-container {\n",
              "      display:flex;\n",
              "      flex-wrap:wrap;\n",
              "      gap: 12px;\n",
              "    }\n",
              "\n",
              "    .colab-df-convert {\n",
              "      background-color: #E8F0FE;\n",
              "      border: none;\n",
              "      border-radius: 50%;\n",
              "      cursor: pointer;\n",
              "      display: none;\n",
              "      fill: #1967D2;\n",
              "      height: 32px;\n",
              "      padding: 0 0 0 0;\n",
              "      width: 32px;\n",
              "    }\n",
              "\n",
              "    .colab-df-convert:hover {\n",
              "      background-color: #E2EBFA;\n",
              "      box-shadow: 0px 1px 2px rgba(60, 64, 67, 0.3), 0px 1px 3px 1px rgba(60, 64, 67, 0.15);\n",
              "      fill: #174EA6;\n",
              "    }\n",
              "\n",
              "    [theme=dark] .colab-df-convert {\n",
              "      background-color: #3B4455;\n",
              "      fill: #D2E3FC;\n",
              "    }\n",
              "\n",
              "    [theme=dark] .colab-df-convert:hover {\n",
              "      background-color: #434B5C;\n",
              "      box-shadow: 0px 1px 3px 1px rgba(0, 0, 0, 0.15);\n",
              "      filter: drop-shadow(0px 1px 2px rgba(0, 0, 0, 0.3));\n",
              "      fill: #FFFFFF;\n",
              "    }\n",
              "  </style>\n",
              "\n",
              "      <script>\n",
              "        const buttonEl =\n",
              "          document.querySelector('#df-c3f0a85a-4d96-4772-a80f-6cd48a0dd8ef button.colab-df-convert');\n",
              "        buttonEl.style.display =\n",
              "          google.colab.kernel.accessAllowed ? 'block' : 'none';\n",
              "\n",
              "        async function convertToInteractive(key) {\n",
              "          const element = document.querySelector('#df-c3f0a85a-4d96-4772-a80f-6cd48a0dd8ef');\n",
              "          const dataTable =\n",
              "            await google.colab.kernel.invokeFunction('convertToInteractive',\n",
              "                                                     [key], {});\n",
              "          if (!dataTable) return;\n",
              "\n",
              "          const docLinkHtml = 'Like what you see? Visit the ' +\n",
              "            '<a target=\"_blank\" href=https://colab.research.google.com/notebooks/data_table.ipynb>data table notebook</a>'\n",
              "            + ' to learn more about interactive tables.';\n",
              "          element.innerHTML = '';\n",
              "          dataTable['output_type'] = 'display_data';\n",
              "          await google.colab.output.renderOutput(dataTable, element);\n",
              "          const docLink = document.createElement('div');\n",
              "          docLink.innerHTML = docLinkHtml;\n",
              "          element.appendChild(docLink);\n",
              "        }\n",
              "      </script>\n",
              "    </div>\n",
              "  </div>\n",
              "  "
            ]
          },
          "metadata": {},
          "execution_count": 5
        }
      ],
      "source": [
        "total_df = pd.read_csv('/content/gdrive/MyDrive/Dev tools/Data - NorthSea Electrofacies/Generated Dataframes/total_df.csv.gz', compression='gzip')\n",
        "total_df.head(3)"
      ]
    },
    {
      "cell_type": "markdown",
      "metadata": {
        "id": "QvLM2w46wGhu"
      },
      "source": [
        "## Class Balance of LITHO"
      ]
    },
    {
      "cell_type": "code",
      "execution_count": 6,
      "metadata": {
        "colab": {
          "base_uri": "https://localhost:8080/",
          "height": 0
        },
        "id": "dSQwWHv6vy8Y",
        "outputId": "71cd99d5-3e92-46ee-87df-35186c6760a0"
      },
      "outputs": [
        {
          "output_type": "execute_result",
          "data": {
            "text/plain": [
              "Text(0.5, 1.0, 'Lithology Classes - Target Variable Balance')"
            ]
          },
          "metadata": {},
          "execution_count": 6
        },
        {
          "output_type": "display_data",
          "data": {
            "text/plain": [
              "<Figure size 720x504 with 1 Axes>"
            ],
            "image/png": "[encoded data removed]"
          },
          "metadata": {
            "needs_background": "light"
          }
        }
      ],
      "source": [
        "#target variable classes balance\n",
        "plt.figure(figsize=(10,7))\n",
        "\n",
        "sns.barplot(x=total_df['LITHOLOGY_GEOLINK'].value_counts().index, y=total_df['LITHOLOGY_GEOLINK'].value_counts())\n",
        "plt.xlabel('Lithology Classes', fontsize=10)\n",
        "plt.ylabel('Count', fontsize=10)\n",
        "plt.title('Lithology Classes - Target Variable Balance', fontsize=15)"
      ]
    },
    {
      "cell_type": "code",
      "execution_count": 7,
      "metadata": {
        "id": "7ZpFQwr8wcTO",
        "colab": {
          "base_uri": "https://localhost:8080/",
          "height": 0
        },
        "outputId": "6e1b7dcc-91b4-4f72-9256-92ee375c09f8"
      },
      "outputs": [
        {
          "output_type": "execute_result",
          "data": {
            "text/plain": [
              "     Lithology Attribute Abbreviation\n",
              "0       CrossBedded Sand         35.0\n",
              "1              Anhydrite         22.0\n",
              "2                  Chalk         12.0\n",
              "3                 Gravel         36.0\n",
              "4              Intrusive         23.0\n",
              "5            Sandy Shale         25.0\n",
              "6        Sandy Limestone         16.0\n",
              "7                Breccia         31.0\n",
              "8       Calcareous Shale         14.0\n",
              "9                 Halite         33.0\n",
              "10                 Chalk          9.0\n",
              "11             Extrusive         19.0\n",
              "12                  Coal         18.0\n",
              "13          Conglomerate         17.0\n",
              "14      CrossBedded Sand          3.0\n",
              "15             Dolomite2         15.0\n",
              "16                Gypsum         26.0\n",
              "17                Halite         21.0\n",
              "18                Halite         34.0\n",
              "19             Limestone         11.0\n",
              "20                 Chalk         13.0\n",
              "21            Shaly Sand         30.0\n",
              "22             Intrusive         24.0\n",
              "23                Halite         32.0\n",
              "24  Calcareous Sandstone         10.0\n",
              "25                  Sand          1.0\n",
              "26       Shaly Sandstone          4.0\n",
              "27                 Shale          8.0\n",
              "28                  Silt          6.0\n",
              "29                  Silt          5.0\n",
              "30                  Sand          2.0\n",
              "31                 Shale          7.0\n",
              "32                 Chert         29.0\n",
              "33                Halite         27.0\n",
              "34             Extrusive         28.0\n",
              "35             Extrusive         20.0\n",
              "36                   NaN      -999,25"
            ],
            "text/html": [
              "\n",
              "  <div id=\"df-9c741f7f-c919-48d6-9061-5642f659b219\">\n",
              "    <div class=\"colab-df-container\">\n",
              "      <div>\n",
              "<style scoped>\n",
              "    .dataframe tbody tr th:only-of-type {\n",
              "        vertical-align: middle;\n",
              "    }\n",
              "\n",
              "    .dataframe tbody tr th {\n",
              "        vertical-align: top;\n",
              "    }\n",
              "\n",
              "    .dataframe thead th {\n",
              "        text-align: right;\n",
              "    }\n",
              "</style>\n",
              "<table border=\"1\" class=\"dataframe\">\n",
              "  <thead>\n",
              "    <tr style=\"text-align: right;\">\n",
              "      <th></th>\n",
              "      <th>Lithology Attribute</th>\n",
              "      <th>Abbreviation</th>\n",
              "    </tr>\n",
              "  </thead>\n",
              "  <tbody>\n",
              "    <tr>\n",
              "      <th>0</th>\n",
              "      <td>CrossBedded Sand</td>\n",
              "      <td>35.0</td>\n",
              "    </tr>\n",
              "    <tr>\n",
              "      <th>1</th>\n",
              "      <td>Anhydrite</td>\n",
              "      <td>22.0</td>\n",
              "    </tr>\n",
              "    <tr>\n",
              "      <th>2</th>\n",
              "      <td>Chalk</td>\n",
              "      <td>12.0</td>\n",
              "    </tr>\n",
              "    <tr>\n",
              "      <th>3</th>\n",
              "      <td>Gravel</td>\n",
              "      <td>36.0</td>\n",
              "    </tr>\n",
              "    <tr>\n",
              "      <th>4</th>\n",
              "      <td>Intrusive</td>\n",
              "      <td>23.0</td>\n",
              "    </tr>\n",
              "    <tr>\n",
              "      <th>5</th>\n",
              "      <td>Sandy Shale</td>\n",
              "      <td>25.0</td>\n",
              "    </tr>\n",
              "    <tr>\n",
              "      <th>6</th>\n",
              "      <td>Sandy Limestone</td>\n",
              "      <td>16.0</td>\n",
              "    </tr>\n",
              "    <tr>\n",
              "      <th>7</th>\n",
              "      <td>Breccia</td>\n",
              "      <td>31.0</td>\n",
              "    </tr>\n",
              "    <tr>\n",
              "      <th>8</th>\n",
              "      <td>Calcareous Shale</td>\n",
              "      <td>14.0</td>\n",
              "    </tr>\n",
              "    <tr>\n",
              "      <th>9</th>\n",
              "      <td>Halite</td>\n",
              "      <td>33.0</td>\n",
              "    </tr>\n",
              "    <tr>\n",
              "      <th>10</th>\n",
              "      <td>Chalk</td>\n",
              "      <td>9.0</td>\n",
              "    </tr>\n",
              "    <tr>\n",
              "      <th>11</th>\n",
              "      <td>Extrusive</td>\n",
              "      <td>19.0</td>\n",
              "    </tr>\n",
              "    <tr>\n",
              "      <th>12</th>\n",
              "      <td>Coal</td>\n",
              "      <td>18.0</td>\n",
              "    </tr>\n",
              "    <tr>\n",
              "      <th>13</th>\n",
              "      <td>Conglomerate</td>\n",
              "      <td>17.0</td>\n",
              "    </tr>\n",
              "    <tr>\n",
              "      <th>14</th>\n",
              "      <td>CrossBedded Sand</td>\n",
              "      <td>3.0</td>\n",
              "    </tr>\n",
              "    <tr>\n",
              "      <th>15</th>\n",
              "      <td>Dolomite2</td>\n",
              "      <td>15.0</td>\n",
              "    </tr>\n",
              "    <tr>\n",
              "      <th>16</th>\n",
              "      <td>Gypsum</td>\n",
              "      <td>26.0</td>\n",
              "    </tr>\n",
              "    <tr>\n",
              "      <th>17</th>\n",
              "      <td>Halite</td>\n",
              "      <td>21.0</td>\n",
              "    </tr>\n",
              "    <tr>\n",
              "      <th>18</th>\n",
              "      <td>Halite</td>\n",
              "      <td>34.0</td>\n",
              "    </tr>\n",
              "    <tr>\n",
              "      <th>19</th>\n",
              "      <td>Limestone</td>\n",
              "      <td>11.0</td>\n",
              "    </tr>\n",
              "    <tr>\n",
              "      <th>20</th>\n",
              "      <td>Chalk</td>\n",
              "      <td>13.0</td>\n",
              "    </tr>\n",
              "    <tr>\n",
              "      <th>21</th>\n",
              "      <td>Shaly Sand</td>\n",
              "      <td>30.0</td>\n",
              "    </tr>\n",
              "    <tr>\n",
              "      <th>22</th>\n",
              "      <td>Intrusive</td>\n",
              "      <td>24.0</td>\n",
              "    </tr>\n",
              "    <tr>\n",
              "      <th>23</th>\n",
              "      <td>Halite</td>\n",
              "      <td>32.0</td>\n",
              "    </tr>\n",
              "    <tr>\n",
              "      <th>24</th>\n",
              "      <td>Calcareous Sandstone</td>\n",
              "      <td>10.0</td>\n",
              "    </tr>\n",
              "    <tr>\n",
              "      <th>25</th>\n",
              "      <td>Sand</td>\n",
              "      <td>1.0</td>\n",
              "    </tr>\n",
              "    <tr>\n",
              "      <th>26</th>\n",
              "      <td>Shaly Sandstone</td>\n",
              "      <td>4.0</td>\n",
              "    </tr>\n",
              "    <tr>\n",
              "      <th>27</th>\n",
              "      <td>Shale</td>\n",
              "      <td>8.0</td>\n",
              "    </tr>\n",
              "    <tr>\n",
              "      <th>28</th>\n",
              "      <td>Silt</td>\n",
              "      <td>6.0</td>\n",
              "    </tr>\n",
              "    <tr>\n",
              "      <th>29</th>\n",
              "      <td>Silt</td>\n",
              "      <td>5.0</td>\n",
              "    </tr>\n",
              "    <tr>\n",
              "      <th>30</th>\n",
              "      <td>Sand</td>\n",
              "      <td>2.0</td>\n",
              "    </tr>\n",
              "    <tr>\n",
              "      <th>31</th>\n",
              "      <td>Shale</td>\n",
              "      <td>7.0</td>\n",
              "    </tr>\n",
              "    <tr>\n",
              "      <th>32</th>\n",
              "      <td>Chert</td>\n",
              "      <td>29.0</td>\n",
              "    </tr>\n",
              "    <tr>\n",
              "      <th>33</th>\n",
              "      <td>Halite</td>\n",
              "      <td>27.0</td>\n",
              "    </tr>\n",
              "    <tr>\n",
              "      <th>34</th>\n",
              "      <td>Extrusive</td>\n",
              "      <td>28.0</td>\n",
              "    </tr>\n",
              "    <tr>\n",
              "      <th>35</th>\n",
              "      <td>Extrusive</td>\n",
              "      <td>20.0</td>\n",
              "    </tr>\n",
              "    <tr>\n",
              "      <th>36</th>\n",
              "      <td>NaN</td>\n",
              "      <td>-999,25</td>\n",
              "    </tr>\n",
              "  </tbody>\n",
              "</table>\n",
              "</div>\n",
              "      <button class=\"colab-df-convert\" onclick=\"convertToInteractive('df-9c741f7f-c919-48d6-9061-5642f659b219')\"\n",
              "              title=\"Convert this dataframe to an interactive table.\"\n",
              "              style=\"display:none;\">\n",
              "        \n",
              "  <svg xmlns=\"http://www.w3.org/2000/svg\" height=\"24px\"viewBox=\"0 0 24 24\"\n",
              "       width=\"24px\">\n",
              "    <path d=\"M0 0h24v24H0V0z\" fill=\"none\"/>\n",
              "    <path d=\"M18.56 5.44l.94 2.06.94-2.06 2.06-.94-2.06-.94-.94-2.06-.94 2.06-2.06.94zm-11 1L8.5 8.5l.94-2.06 2.06-.94-2.06-.94L8.5 2.5l-.94 2.06-2.06.94zm10 10l.94 2.06.94-2.06 2.06-.94-2.06-.94-.94-2.06-.94 2.06-2.06.94z\"/><path d=\"M17.41 7.96l-1.37-1.37c-.4-.4-.92-.59-1.43-.59-.52 0-1.04.2-1.43.59L10.3 9.45l-7.72 7.72c-.78.78-.78 2.05 0 2.83L4 21.41c.39.39.9.59 1.41.59.51 0 1.02-.2 1.41-.59l7.78-7.78 2.81-2.81c.8-.78.8-2.07 0-2.86zM5.41 20L4 18.59l7.72-7.72 1.47 1.35L5.41 20z\"/>\n",
              "  </svg>\n",
              "      </button>\n",
              "      \n",
              "  <style>\n",
              "    .colab-df-container {\n",
              "      display:flex;\n",
              "      flex-wrap:wrap;\n",
              "      gap: 12px;\n",
              "    }\n",
              "\n",
              "    .colab-df-convert {\n",
              "      background-color: #E8F0FE;\n",
              "      border: none;\n",
              "      border-radius: 50%;\n",
              "      cursor: pointer;\n",
              "      display: none;\n",
              "      fill: #1967D2;\n",
              "      height: 32px;\n",
              "      padding: 0 0 0 0;\n",
              "      width: 32px;\n",
              "    }\n",
              "\n",
              "    .colab-df-convert:hover {\n",
              "      background-color: #E2EBFA;\n",
              "      box-shadow: 0px 1px 2px rgba(60, 64, 67, 0.3), 0px 1px 3px 1px rgba(60, 64, 67, 0.15);\n",
              "      fill: #174EA6;\n",
              "    }\n",
              "\n",
              "    [theme=dark] .colab-df-convert {\n",
              "      background-color: #3B4455;\n",
              "      fill: #D2E3FC;\n",
              "    }\n",
              "\n",
              "    [theme=dark] .colab-df-convert:hover {\n",
              "      background-color: #434B5C;\n",
              "      box-shadow: 0px 1px 3px 1px rgba(0, 0, 0, 0.15);\n",
              "      filter: drop-shadow(0px 1px 2px rgba(0, 0, 0, 0.3));\n",
              "      fill: #FFFFFF;\n",
              "    }\n",
              "  </style>\n",
              "\n",
              "      <script>\n",
              "        const buttonEl =\n",
              "          document.querySelector('#df-9c741f7f-c919-48d6-9061-5642f659b219 button.colab-df-convert');\n",
              "        buttonEl.style.display =\n",
              "          google.colab.kernel.accessAllowed ? 'block' : 'none';\n",
              "\n",
              "        async function convertToInteractive(key) {\n",
              "          const element = document.querySelector('#df-9c741f7f-c919-48d6-9061-5642f659b219');\n",
              "          const dataTable =\n",
              "            await google.colab.kernel.invokeFunction('convertToInteractive',\n",
              "                                                     [key], {});\n",
              "          if (!dataTable) return;\n",
              "\n",
              "          const docLinkHtml = 'Like what you see? Visit the ' +\n",
              "            '<a target=\"_blank\" href=https://colab.research.google.com/notebooks/data_table.ipynb>data table notebook</a>'\n",
              "            + ' to learn more about interactive tables.';\n",
              "          element.innerHTML = '';\n",
              "          dataTable['output_type'] = 'display_data';\n",
              "          await google.colab.output.renderOutput(dataTable, element);\n",
              "          const docLink = document.createElement('div');\n",
              "          docLink.innerHTML = docLinkHtml;\n",
              "          element.appendChild(docLink);\n",
              "        }\n",
              "      </script>\n",
              "    </div>\n",
              "  </div>\n",
              "  "
            ]
          },
          "metadata": {},
          "execution_count": 7
        }
      ],
      "source": [
        "#what do these values mean in terms of lihology\n",
        "\n",
        "file_path = '/content/gdrive/MyDrive/Dev tools/Data - NorthSea Electrofacies/Generated Dataframes/litho_code.csv.gz'\n",
        "\n",
        "litho_code = pd.read_csv(file_path , compression='gzip')\n",
        "litho_code[['Lithology Attribute','Abbreviation']]"
      ]
    },
    {
      "cell_type": "markdown",
      "source": [
        "\n",
        "\n",
        "---\n",
        "\n"
      ],
      "metadata": {
        "id": "jpFvI-U56jbk"
      }
    },
    {
      "cell_type": "markdown",
      "metadata": {
        "id": "PYtgARUYz_Tu"
      },
      "source": [
        "⚓ As per the df shown above, from the litho_code df data, we can combine the abbreviations 1,2,3 together since they're all have \"Sand\" as the lithology attribute, same applies to some other abbreviations..."
      ]
    },
    {
      "cell_type": "code",
      "execution_count": 8,
      "metadata": {
        "id": "a8oz5aP90dGY"
      },
      "outputs": [],
      "source": [
        "total_df['LITHOLOGY_GEOLINK_NEW'] = total_df['LITHOLOGY_GEOLINK']\n",
        "\n",
        "for code in total_df.index:\n",
        "\n",
        "    if (total_df['LITHOLOGY_GEOLINK_NEW'][code] == 2 or total_df['LITHOLOGY_GEOLINK_NEW'][code] == 3):\n",
        "        total_df['LITHOLOGY_GEOLINK_NEW'][code] = 1\n",
        "\n",
        "    elif total_df['LITHOLOGY_GEOLINK_NEW'][code] == 6:\n",
        "        total_df['LITHOLOGY_GEOLINK_NEW'][code] = 5\n",
        "\n",
        "    elif total_df['LITHOLOGY_GEOLINK_NEW'][code] == 34:\n",
        "        total_df['LITHOLOGY_GEOLINK_NEW'][code] = 33\n",
        "\n",
        "\n",
        "    elif total_df['LITHOLOGY_GEOLINK_NEW'][code] == 13:\n",
        "        total_df['LITHOLOGY_GEOLINK_NEW'][code] = 12\n",
        "\n",
        "    else:\n",
        "        pass"
      ]
    },
    {
      "cell_type": "code",
      "execution_count": 9,
      "metadata": {
        "colab": {
          "base_uri": "https://localhost:8080/",
          "height": 0
        },
        "id": "eiW_VHI61U20",
        "outputId": "b6aeed84-edc7-488d-e139-64fb9dc68e7c"
      },
      "outputs": [
        {
          "output_type": "execute_result",
          "data": {
            "text/plain": [
              "Text(0.5, 1.0, 'Lithology Classes - Target Variable Balance')"
            ]
          },
          "metadata": {},
          "execution_count": 9
        },
        {
          "output_type": "display_data",
          "data": {
            "text/plain": [
              "<Figure size 720x504 with 1 Axes>"
            ],
            "image/png": "[encoded data removed]"
          },
          "metadata": {
            "needs_background": "light"
          }
        }
      ],
      "source": [
        "#visualizing the new classes balance of the target variable\n",
        "plt.figure(figsize=(10,7))\n",
        "\n",
        "sns.barplot(x=total_df['LITHOLOGY_GEOLINK_NEW'].value_counts().index, y=total_df['LITHOLOGY_GEOLINK_NEW'].value_counts())\n",
        "plt.xlabel('Lithology Classes', fontsize=10)\n",
        "plt.ylabel('Count', fontsize=10)\n",
        "plt.title('Lithology Classes - Target Variable Balance', fontsize=15)"
      ]
    },
    {
      "cell_type": "markdown",
      "metadata": {
        "id": "7qJcsmGc3D8j"
      },
      "source": [
        "\n",
        "\n",
        "---\n",
        "\n"
      ]
    },
    {
      "cell_type": "markdown",
      "metadata": {
        "id": "Qlg8shS-3B7e"
      },
      "source": [
        "# Feature Engineering"
      ]
    },
    {
      "cell_type": "markdown",
      "metadata": {
        "id": "kICXAfRe3NW2"
      },
      "source": [
        "## Adding a column of DRDN and Acoustic Impedance values"
      ]
    },
    {
      "cell_type": "code",
      "execution_count": 10,
      "metadata": {
        "id": "PfpHAOuV2-dF"
      },
      "outputs": [],
      "source": [
        "total_df['DRDN'] = ((total_df['RHOB'] - 2)/0.05) - ((0.45 - total_df['NPHI'])/0.03)\n",
        "total_df['AI'] = total_df['RHOB'] * (1e6/total_df['DTC']) * 0.3048\n",
        "\n",
        "(mu_DRDN, sigma_DRDN) = stats.norm.fit(total_df[total_df.DRDN.notnull()].DRDN.values)\n",
        "(mu_AI, sigma_AI) = stats.norm.fit(total_df[total_df.AI.notnull()].AI.values)\n"
      ]
    },
    {
      "cell_type": "code",
      "execution_count": 11,
      "metadata": {
        "colab": {
          "base_uri": "https://localhost:8080/",
          "height": 0
        },
        "id": "blu-ol8K9Fxx",
        "outputId": "f22b2a7e-0933-41be-85b2-8e12efd648d7"
      },
      "outputs": [
        {
          "output_type": "display_data",
          "data": {
            "text/plain": [
              "<Figure size 1800x720 with 2 Axes>"
            ],
            "image/png": "[encoded data removed]"
          },
          "metadata": {
            "needs_background": "light"
          }
        }
      ],
      "source": [
        "plt.figure(figsize=(25,10))\n",
        "\n",
        "plt.subplot(121)\n",
        "(mu, sigma) = stats.norm.fit(total_df[total_df.DRDN.notnull()].DRDN.values)\n",
        "sns.distplot(total_df[total_df.DRDN.notnull()].DRDN.values)\n",
        "plt.legend('Normal distribution')\n",
        "plt.ylabel('Frequency')\n",
        "plt.title('DRDN distribution -- Mu:' + ' ' + str(mu_DRDN) + ' ' + 'Sigma:' + ' ' + str(sigma_DRDN) )\n",
        "\n",
        "plt.subplot(122)\n",
        "sns.distplot(total_df[total_df.AI.notnull()].AI.values)\n",
        "plt.legend('Normal distribution')\n",
        "plt.ylabel('Frequency')\n",
        "plt.xlim([0, 20000])\n",
        "plt.title('AI distribution -- Mu:' + ' ' + str(mu_AI) + ' ' + 'Sigma:' + ' ' + str(sigma_AI) )\n",
        "\n",
        "plt.show()"
      ]
    },
    {
      "cell_type": "markdown",
      "metadata": {
        "id": "G45EhRy69bFR"
      },
      "source": [
        "# Modeling"
      ]
    },
    {
      "cell_type": "code",
      "execution_count": 12,
      "metadata": {
        "colab": {
          "base_uri": "https://localhost:8080/",
          "height": 143
        },
        "id": "0hrDdeNS9QuH",
        "outputId": "3162696c-b5b8-4d07-d050-577fef25e660"
      },
      "outputs": [
        {
          "output_type": "execute_result",
          "data": {
            "text/plain": [
              "         DEPTH       CALI      NPHI   RHOB          GR         DTC      RDEP  \\\n",
              "0  1150.763794  13.071999  0.463152  1.970   85.510208   95.029999  3.951845   \n",
              "1  1150.916260  13.155000  0.503288  1.951   91.014000  114.057999  2.285331   \n",
              "2  1151.068604  13.819000  0.528165  1.934  101.687447  115.072998  1.652506   \n",
              "\n",
              "       RMED  LITHOLOGY_GEOLINK  LITHOLOGY_GEOLINK_NEW      DRDN           AI  \n",
              "0  1.696892                NaN                    NaN -0.161600  6318.594301  \n",
              "1  1.483686                NaN                    NaN  0.796265  5213.705303  \n",
              "2  1.257905                NaN                    NaN  1.285500  5122.689203  "
            ],
            "text/html": [
              "\n",
              "  <div id=\"df-f606e863-b9db-4516-9055-d76146e306d5\">\n",
              "    <div class=\"colab-df-container\">\n",
              "      <div>\n",
              "<style scoped>\n",
              "    .dataframe tbody tr th:only-of-type {\n",
              "        vertical-align: middle;\n",
              "    }\n",
              "\n",
              "    .dataframe tbody tr th {\n",
              "        vertical-align: top;\n",
              "    }\n",
              "\n",
              "    .dataframe thead th {\n",
              "        text-align: right;\n",
              "    }\n",
              "</style>\n",
              "<table border=\"1\" class=\"dataframe\">\n",
              "  <thead>\n",
              "    <tr style=\"text-align: right;\">\n",
              "      <th></th>\n",
              "      <th>DEPTH</th>\n",
              "      <th>CALI</th>\n",
              "      <th>NPHI</th>\n",
              "      <th>RHOB</th>\n",
              "      <th>GR</th>\n",
              "      <th>DTC</th>\n",
              "      <th>RDEP</th>\n",
              "      <th>RMED</th>\n",
              "      <th>LITHOLOGY_GEOLINK</th>\n",
              "      <th>LITHOLOGY_GEOLINK_NEW</th>\n",
              "      <th>DRDN</th>\n",
              "      <th>AI</th>\n",
              "    </tr>\n",
              "  </thead>\n",
              "  <tbody>\n",
              "    <tr>\n",
              "      <th>0</th>\n",
              "      <td>1150.763794</td>\n",
              "      <td>13.071999</td>\n",
              "      <td>0.463152</td>\n",
              "      <td>1.970</td>\n",
              "      <td>85.510208</td>\n",
              "      <td>95.029999</td>\n",
              "      <td>3.951845</td>\n",
              "      <td>1.696892</td>\n",
              "      <td>NaN</td>\n",
              "      <td>NaN</td>\n",
              "      <td>-0.161600</td>\n",
              "      <td>6318.594301</td>\n",
              "    </tr>\n",
              "    <tr>\n",
              "      <th>1</th>\n",
              "      <td>1150.916260</td>\n",
              "      <td>13.155000</td>\n",
              "      <td>0.503288</td>\n",
              "      <td>1.951</td>\n",
              "      <td>91.014000</td>\n",
              "      <td>114.057999</td>\n",
              "      <td>2.285331</td>\n",
              "      <td>1.483686</td>\n",
              "      <td>NaN</td>\n",
              "      <td>NaN</td>\n",
              "      <td>0.796265</td>\n",
              "      <td>5213.705303</td>\n",
              "    </tr>\n",
              "    <tr>\n",
              "      <th>2</th>\n",
              "      <td>1151.068604</td>\n",
              "      <td>13.819000</td>\n",
              "      <td>0.528165</td>\n",
              "      <td>1.934</td>\n",
              "      <td>101.687447</td>\n",
              "      <td>115.072998</td>\n",
              "      <td>1.652506</td>\n",
              "      <td>1.257905</td>\n",
              "      <td>NaN</td>\n",
              "      <td>NaN</td>\n",
              "      <td>1.285500</td>\n",
              "      <td>5122.689203</td>\n",
              "    </tr>\n",
              "  </tbody>\n",
              "</table>\n",
              "</div>\n",
              "      <button class=\"colab-df-convert\" onclick=\"convertToInteractive('df-f606e863-b9db-4516-9055-d76146e306d5')\"\n",
              "              title=\"Convert this dataframe to an interactive table.\"\n",
              "              style=\"display:none;\">\n",
              "        \n",
              "  <svg xmlns=\"http://www.w3.org/2000/svg\" height=\"24px\"viewBox=\"0 0 24 24\"\n",
              "       width=\"24px\">\n",
              "    <path d=\"M0 0h24v24H0V0z\" fill=\"none\"/>\n",
              "    <path d=\"M18.56 5.44l.94 2.06.94-2.06 2.06-.94-2.06-.94-.94-2.06-.94 2.06-2.06.94zm-11 1L8.5 8.5l.94-2.06 2.06-.94-2.06-.94L8.5 2.5l-.94 2.06-2.06.94zm10 10l.94 2.06.94-2.06 2.06-.94-2.06-.94-.94-2.06-.94 2.06-2.06.94z\"/><path d=\"M17.41 7.96l-1.37-1.37c-.4-.4-.92-.59-1.43-.59-.52 0-1.04.2-1.43.59L10.3 9.45l-7.72 7.72c-.78.78-.78 2.05 0 2.83L4 21.41c.39.39.9.59 1.41.59.51 0 1.02-.2 1.41-.59l7.78-7.78 2.81-2.81c.8-.78.8-2.07 0-2.86zM5.41 20L4 18.59l7.72-7.72 1.47 1.35L5.41 20z\"/>\n",
              "  </svg>\n",
              "      </button>\n",
              "      \n",
              "  <style>\n",
              "    .colab-df-container {\n",
              "      display:flex;\n",
              "      flex-wrap:wrap;\n",
              "      gap: 12px;\n",
              "    }\n",
              "\n",
              "    .colab-df-convert {\n",
              "      background-color: #E8F0FE;\n",
              "      border: none;\n",
              "      border-radius: 50%;\n",
              "      cursor: pointer;\n",
              "      display: none;\n",
              "      fill: #1967D2;\n",
              "      height: 32px;\n",
              "      padding: 0 0 0 0;\n",
              "      width: 32px;\n",
              "    }\n",
              "\n",
              "    .colab-df-convert:hover {\n",
              "      background-color: #E2EBFA;\n",
              "      box-shadow: 0px 1px 2px rgba(60, 64, 67, 0.3), 0px 1px 3px 1px rgba(60, 64, 67, 0.15);\n",
              "      fill: #174EA6;\n",
              "    }\n",
              "\n",
              "    [theme=dark] .colab-df-convert {\n",
              "      background-color: #3B4455;\n",
              "      fill: #D2E3FC;\n",
              "    }\n",
              "\n",
              "    [theme=dark] .colab-df-convert:hover {\n",
              "      background-color: #434B5C;\n",
              "      box-shadow: 0px 1px 3px 1px rgba(0, 0, 0, 0.15);\n",
              "      filter: drop-shadow(0px 1px 2px rgba(0, 0, 0, 0.3));\n",
              "      fill: #FFFFFF;\n",
              "    }\n",
              "  </style>\n",
              "\n",
              "      <script>\n",
              "        const buttonEl =\n",
              "          document.querySelector('#df-f606e863-b9db-4516-9055-d76146e306d5 button.colab-df-convert');\n",
              "        buttonEl.style.display =\n",
              "          google.colab.kernel.accessAllowed ? 'block' : 'none';\n",
              "\n",
              "        async function convertToInteractive(key) {\n",
              "          const element = document.querySelector('#df-f606e863-b9db-4516-9055-d76146e306d5');\n",
              "          const dataTable =\n",
              "            await google.colab.kernel.invokeFunction('convertToInteractive',\n",
              "                                                     [key], {});\n",
              "          if (!dataTable) return;\n",
              "\n",
              "          const docLinkHtml = 'Like what you see? Visit the ' +\n",
              "            '<a target=\"_blank\" href=https://colab.research.google.com/notebooks/data_table.ipynb>data table notebook</a>'\n",
              "            + ' to learn more about interactive tables.';\n",
              "          element.innerHTML = '';\n",
              "          dataTable['output_type'] = 'display_data';\n",
              "          await google.colab.output.renderOutput(dataTable, element);\n",
              "          const docLink = document.createElement('div');\n",
              "          docLink.innerHTML = docLinkHtml;\n",
              "          element.appendChild(docLink);\n",
              "        }\n",
              "      </script>\n",
              "    </div>\n",
              "  </div>\n",
              "  "
            ]
          },
          "metadata": {},
          "execution_count": 12
        }
      ],
      "source": [
        "total_df.head(3)"
      ]
    },
    {
      "cell_type": "code",
      "execution_count": 13,
      "metadata": {
        "colab": {
          "base_uri": "https://localhost:8080/",
          "height": 161
        },
        "id": "uehV3dYn9YMa",
        "outputId": "0a340445-d64e-421b-d235-4424bb0b682c"
      },
      "outputs": [
        {
          "output_type": "stream",
          "name": "stdout",
          "text": [
            "(964961, 11)\n"
          ]
        },
        {
          "output_type": "execute_result",
          "data": {
            "text/plain": [
              "            DEPTH   CALI      NPHI      RHOB         GR         DTC      RDEP  \\\n",
              "5208  1949.949585  8.570  0.317236  2.442991  67.179001  100.081024  2.389882   \n",
              "5209  1950.101929  8.569  0.315236  2.436997  74.393997  100.094559  2.315941   \n",
              "5210  1950.254394  8.574  0.313566  2.433013  75.471001   99.545738  2.241971   \n",
              "\n",
              "          RMED  LITHOLOGY_GEOLINK_NEW      DRDN           AI  \n",
              "5208  2.788822                   12.0  4.434358  7440.206805  \n",
              "5209  2.717173                   12.0  4.247793  7420.949508  \n",
              "5210  2.638127                   12.0  4.112470  7449.664488  "
            ],
            "text/html": [
              "\n",
              "  <div id=\"df-d5531aee-5bba-48fd-88ab-0fc8c557030e\">\n",
              "    <div class=\"colab-df-container\">\n",
              "      <div>\n",
              "<style scoped>\n",
              "    .dataframe tbody tr th:only-of-type {\n",
              "        vertical-align: middle;\n",
              "    }\n",
              "\n",
              "    .dataframe tbody tr th {\n",
              "        vertical-align: top;\n",
              "    }\n",
              "\n",
              "    .dataframe thead th {\n",
              "        text-align: right;\n",
              "    }\n",
              "</style>\n",
              "<table border=\"1\" class=\"dataframe\">\n",
              "  <thead>\n",
              "    <tr style=\"text-align: right;\">\n",
              "      <th></th>\n",
              "      <th>DEPTH</th>\n",
              "      <th>CALI</th>\n",
              "      <th>NPHI</th>\n",
              "      <th>RHOB</th>\n",
              "      <th>GR</th>\n",
              "      <th>DTC</th>\n",
              "      <th>RDEP</th>\n",
              "      <th>RMED</th>\n",
              "      <th>LITHOLOGY_GEOLINK_NEW</th>\n",
              "      <th>DRDN</th>\n",
              "      <th>AI</th>\n",
              "    </tr>\n",
              "  </thead>\n",
              "  <tbody>\n",
              "    <tr>\n",
              "      <th>5208</th>\n",
              "      <td>1949.949585</td>\n",
              "      <td>8.570</td>\n",
              "      <td>0.317236</td>\n",
              "      <td>2.442991</td>\n",
              "      <td>67.179001</td>\n",
              "      <td>100.081024</td>\n",
              "      <td>2.389882</td>\n",
              "      <td>2.788822</td>\n",
              "      <td>12.0</td>\n",
              "      <td>4.434358</td>\n",
              "      <td>7440.206805</td>\n",
              "    </tr>\n",
              "    <tr>\n",
              "      <th>5209</th>\n",
              "      <td>1950.101929</td>\n",
              "      <td>8.569</td>\n",
              "      <td>0.315236</td>\n",
              "      <td>2.436997</td>\n",
              "      <td>74.393997</td>\n",
              "      <td>100.094559</td>\n",
              "      <td>2.315941</td>\n",
              "      <td>2.717173</td>\n",
              "      <td>12.0</td>\n",
              "      <td>4.247793</td>\n",
              "      <td>7420.949508</td>\n",
              "    </tr>\n",
              "    <tr>\n",
              "      <th>5210</th>\n",
              "      <td>1950.254394</td>\n",
              "      <td>8.574</td>\n",
              "      <td>0.313566</td>\n",
              "      <td>2.433013</td>\n",
              "      <td>75.471001</td>\n",
              "      <td>99.545738</td>\n",
              "      <td>2.241971</td>\n",
              "      <td>2.638127</td>\n",
              "      <td>12.0</td>\n",
              "      <td>4.112470</td>\n",
              "      <td>7449.664488</td>\n",
              "    </tr>\n",
              "  </tbody>\n",
              "</table>\n",
              "</div>\n",
              "      <button class=\"colab-df-convert\" onclick=\"convertToInteractive('df-d5531aee-5bba-48fd-88ab-0fc8c557030e')\"\n",
              "              title=\"Convert this dataframe to an interactive table.\"\n",
              "              style=\"display:none;\">\n",
              "        \n",
              "  <svg xmlns=\"http://www.w3.org/2000/svg\" height=\"24px\"viewBox=\"0 0 24 24\"\n",
              "       width=\"24px\">\n",
              "    <path d=\"M0 0h24v24H0V0z\" fill=\"none\"/>\n",
              "    <path d=\"M18.56 5.44l.94 2.06.94-2.06 2.06-.94-2.06-.94-.94-2.06-.94 2.06-2.06.94zm-11 1L8.5 8.5l.94-2.06 2.06-.94-2.06-.94L8.5 2.5l-.94 2.06-2.06.94zm10 10l.94 2.06.94-2.06 2.06-.94-2.06-.94-.94-2.06-.94 2.06-2.06.94z\"/><path d=\"M17.41 7.96l-1.37-1.37c-.4-.4-.92-.59-1.43-.59-.52 0-1.04.2-1.43.59L10.3 9.45l-7.72 7.72c-.78.78-.78 2.05 0 2.83L4 21.41c.39.39.9.59 1.41.59.51 0 1.02-.2 1.41-.59l7.78-7.78 2.81-2.81c.8-.78.8-2.07 0-2.86zM5.41 20L4 18.59l7.72-7.72 1.47 1.35L5.41 20z\"/>\n",
              "  </svg>\n",
              "      </button>\n",
              "      \n",
              "  <style>\n",
              "    .colab-df-container {\n",
              "      display:flex;\n",
              "      flex-wrap:wrap;\n",
              "      gap: 12px;\n",
              "    }\n",
              "\n",
              "    .colab-df-convert {\n",
              "      background-color: #E8F0FE;\n",
              "      border: none;\n",
              "      border-radius: 50%;\n",
              "      cursor: pointer;\n",
              "      display: none;\n",
              "      fill: #1967D2;\n",
              "      height: 32px;\n",
              "      padding: 0 0 0 0;\n",
              "      width: 32px;\n",
              "    }\n",
              "\n",
              "    .colab-df-convert:hover {\n",
              "      background-color: #E2EBFA;\n",
              "      box-shadow: 0px 1px 2px rgba(60, 64, 67, 0.3), 0px 1px 3px 1px rgba(60, 64, 67, 0.15);\n",
              "      fill: #174EA6;\n",
              "    }\n",
              "\n",
              "    [theme=dark] .colab-df-convert {\n",
              "      background-color: #3B4455;\n",
              "      fill: #D2E3FC;\n",
              "    }\n",
              "\n",
              "    [theme=dark] .colab-df-convert:hover {\n",
              "      background-color: #434B5C;\n",
              "      box-shadow: 0px 1px 3px 1px rgba(0, 0, 0, 0.15);\n",
              "      filter: drop-shadow(0px 1px 2px rgba(0, 0, 0, 0.3));\n",
              "      fill: #FFFFFF;\n",
              "    }\n",
              "  </style>\n",
              "\n",
              "      <script>\n",
              "        const buttonEl =\n",
              "          document.querySelector('#df-d5531aee-5bba-48fd-88ab-0fc8c557030e button.colab-df-convert');\n",
              "        buttonEl.style.display =\n",
              "          google.colab.kernel.accessAllowed ? 'block' : 'none';\n",
              "\n",
              "        async function convertToInteractive(key) {\n",
              "          const element = document.querySelector('#df-d5531aee-5bba-48fd-88ab-0fc8c557030e');\n",
              "          const dataTable =\n",
              "            await google.colab.kernel.invokeFunction('convertToInteractive',\n",
              "                                                     [key], {});\n",
              "          if (!dataTable) return;\n",
              "\n",
              "          const docLinkHtml = 'Like what you see? Visit the ' +\n",
              "            '<a target=\"_blank\" href=https://colab.research.google.com/notebooks/data_table.ipynb>data table notebook</a>'\n",
              "            + ' to learn more about interactive tables.';\n",
              "          element.innerHTML = '';\n",
              "          dataTable['output_type'] = 'display_data';\n",
              "          await google.colab.output.renderOutput(dataTable, element);\n",
              "          const docLink = document.createElement('div');\n",
              "          docLink.innerHTML = docLinkHtml;\n",
              "          element.appendChild(docLink);\n",
              "        }\n",
              "      </script>\n",
              "    </div>\n",
              "  </div>\n",
              "  "
            ]
          },
          "metadata": {},
          "execution_count": 13
        }
      ],
      "source": [
        "#Data that has non-null LITHOLOGY_GEOLINK_NEW values\n",
        "litho_data = total_df[pd.notnull(total_df['LITHOLOGY_GEOLINK_NEW'])].drop(columns=['LITHOLOGY_GEOLINK']) # litho2 optimum set (84.5)\n",
        "print(litho_data.shape)\n",
        "litho_data.head(3)"
      ]
    },
    {
      "cell_type": "code",
      "execution_count": 14,
      "metadata": {
        "colab": {
          "base_uri": "https://localhost:8080/",
          "height": 143
        },
        "id": "VQxSLqP59nBa",
        "outputId": "1096116e-47d9-4a0e-d3ef-51a277c2620e"
      },
      "outputs": [
        {
          "output_type": "execute_result",
          "data": {
            "text/plain": [
              "            DEPTH   CALI      NPHI      RHOB         GR         DTC      RDEP  \\\n",
              "5208  1949.949585  8.570  0.317236  2.442991  67.179001  100.081024  2.389882   \n",
              "5209  1950.101929  8.569  0.315236  2.436997  74.393997  100.094559  2.315941   \n",
              "5210  1950.254394  8.574  0.313566  2.433013  75.471001   99.545738  2.241971   \n",
              "\n",
              "          RMED  LITHOLOGY_GEOLINK_NEW      DRDN           AI  \n",
              "5208  2.788822                     12  4.434358  7440.206805  \n",
              "5209  2.717173                     12  4.247793  7420.949508  \n",
              "5210  2.638127                     12  4.112470  7449.664488  "
            ],
            "text/html": [
              "\n",
              "  <div id=\"df-5ce160c3-7506-4202-9e72-969aa9b6c0df\">\n",
              "    <div class=\"colab-df-container\">\n",
              "      <div>\n",
              "<style scoped>\n",
              "    .dataframe tbody tr th:only-of-type {\n",
              "        vertical-align: middle;\n",
              "    }\n",
              "\n",
              "    .dataframe tbody tr th {\n",
              "        vertical-align: top;\n",
              "    }\n",
              "\n",
              "    .dataframe thead th {\n",
              "        text-align: right;\n",
              "    }\n",
              "</style>\n",
              "<table border=\"1\" class=\"dataframe\">\n",
              "  <thead>\n",
              "    <tr style=\"text-align: right;\">\n",
              "      <th></th>\n",
              "      <th>DEPTH</th>\n",
              "      <th>CALI</th>\n",
              "      <th>NPHI</th>\n",
              "      <th>RHOB</th>\n",
              "      <th>GR</th>\n",
              "      <th>DTC</th>\n",
              "      <th>RDEP</th>\n",
              "      <th>RMED</th>\n",
              "      <th>LITHOLOGY_GEOLINK_NEW</th>\n",
              "      <th>DRDN</th>\n",
              "      <th>AI</th>\n",
              "    </tr>\n",
              "  </thead>\n",
              "  <tbody>\n",
              "    <tr>\n",
              "      <th>5208</th>\n",
              "      <td>1949.949585</td>\n",
              "      <td>8.570</td>\n",
              "      <td>0.317236</td>\n",
              "      <td>2.442991</td>\n",
              "      <td>67.179001</td>\n",
              "      <td>100.081024</td>\n",
              "      <td>2.389882</td>\n",
              "      <td>2.788822</td>\n",
              "      <td>12</td>\n",
              "      <td>4.434358</td>\n",
              "      <td>7440.206805</td>\n",
              "    </tr>\n",
              "    <tr>\n",
              "      <th>5209</th>\n",
              "      <td>1950.101929</td>\n",
              "      <td>8.569</td>\n",
              "      <td>0.315236</td>\n",
              "      <td>2.436997</td>\n",
              "      <td>74.393997</td>\n",
              "      <td>100.094559</td>\n",
              "      <td>2.315941</td>\n",
              "      <td>2.717173</td>\n",
              "      <td>12</td>\n",
              "      <td>4.247793</td>\n",
              "      <td>7420.949508</td>\n",
              "    </tr>\n",
              "    <tr>\n",
              "      <th>5210</th>\n",
              "      <td>1950.254394</td>\n",
              "      <td>8.574</td>\n",
              "      <td>0.313566</td>\n",
              "      <td>2.433013</td>\n",
              "      <td>75.471001</td>\n",
              "      <td>99.545738</td>\n",
              "      <td>2.241971</td>\n",
              "      <td>2.638127</td>\n",
              "      <td>12</td>\n",
              "      <td>4.112470</td>\n",
              "      <td>7449.664488</td>\n",
              "    </tr>\n",
              "  </tbody>\n",
              "</table>\n",
              "</div>\n",
              "      <button class=\"colab-df-convert\" onclick=\"convertToInteractive('df-5ce160c3-7506-4202-9e72-969aa9b6c0df')\"\n",
              "              title=\"Convert this dataframe to an interactive table.\"\n",
              "              style=\"display:none;\">\n",
              "        \n",
              "  <svg xmlns=\"http://www.w3.org/2000/svg\" height=\"24px\"viewBox=\"0 0 24 24\"\n",
              "       width=\"24px\">\n",
              "    <path d=\"M0 0h24v24H0V0z\" fill=\"none\"/>\n",
              "    <path d=\"M18.56 5.44l.94 2.06.94-2.06 2.06-.94-2.06-.94-.94-2.06-.94 2.06-2.06.94zm-11 1L8.5 8.5l.94-2.06 2.06-.94-2.06-.94L8.5 2.5l-.94 2.06-2.06.94zm10 10l.94 2.06.94-2.06 2.06-.94-2.06-.94-.94-2.06-.94 2.06-2.06.94z\"/><path d=\"M17.41 7.96l-1.37-1.37c-.4-.4-.92-.59-1.43-.59-.52 0-1.04.2-1.43.59L10.3 9.45l-7.72 7.72c-.78.78-.78 2.05 0 2.83L4 21.41c.39.39.9.59 1.41.59.51 0 1.02-.2 1.41-.59l7.78-7.78 2.81-2.81c.8-.78.8-2.07 0-2.86zM5.41 20L4 18.59l7.72-7.72 1.47 1.35L5.41 20z\"/>\n",
              "  </svg>\n",
              "      </button>\n",
              "      \n",
              "  <style>\n",
              "    .colab-df-container {\n",
              "      display:flex;\n",
              "      flex-wrap:wrap;\n",
              "      gap: 12px;\n",
              "    }\n",
              "\n",
              "    .colab-df-convert {\n",
              "      background-color: #E8F0FE;\n",
              "      border: none;\n",
              "      border-radius: 50%;\n",
              "      cursor: pointer;\n",
              "      display: none;\n",
              "      fill: #1967D2;\n",
              "      height: 32px;\n",
              "      padding: 0 0 0 0;\n",
              "      width: 32px;\n",
              "    }\n",
              "\n",
              "    .colab-df-convert:hover {\n",
              "      background-color: #E2EBFA;\n",
              "      box-shadow: 0px 1px 2px rgba(60, 64, 67, 0.3), 0px 1px 3px 1px rgba(60, 64, 67, 0.15);\n",
              "      fill: #174EA6;\n",
              "    }\n",
              "\n",
              "    [theme=dark] .colab-df-convert {\n",
              "      background-color: #3B4455;\n",
              "      fill: #D2E3FC;\n",
              "    }\n",
              "\n",
              "    [theme=dark] .colab-df-convert:hover {\n",
              "      background-color: #434B5C;\n",
              "      box-shadow: 0px 1px 3px 1px rgba(0, 0, 0, 0.15);\n",
              "      filter: drop-shadow(0px 1px 2px rgba(0, 0, 0, 0.3));\n",
              "      fill: #FFFFFF;\n",
              "    }\n",
              "  </style>\n",
              "\n",
              "      <script>\n",
              "        const buttonEl =\n",
              "          document.querySelector('#df-5ce160c3-7506-4202-9e72-969aa9b6c0df button.colab-df-convert');\n",
              "        buttonEl.style.display =\n",
              "          google.colab.kernel.accessAllowed ? 'block' : 'none';\n",
              "\n",
              "        async function convertToInteractive(key) {\n",
              "          const element = document.querySelector('#df-5ce160c3-7506-4202-9e72-969aa9b6c0df');\n",
              "          const dataTable =\n",
              "            await google.colab.kernel.invokeFunction('convertToInteractive',\n",
              "                                                     [key], {});\n",
              "          if (!dataTable) return;\n",
              "\n",
              "          const docLinkHtml = 'Like what you see? Visit the ' +\n",
              "            '<a target=\"_blank\" href=https://colab.research.google.com/notebooks/data_table.ipynb>data table notebook</a>'\n",
              "            + ' to learn more about interactive tables.';\n",
              "          element.innerHTML = '';\n",
              "          dataTable['output_type'] = 'display_data';\n",
              "          await google.colab.output.renderOutput(dataTable, element);\n",
              "          const docLink = document.createElement('div');\n",
              "          docLink.innerHTML = docLinkHtml;\n",
              "          element.appendChild(docLink);\n",
              "        }\n",
              "      </script>\n",
              "    </div>\n",
              "  </div>\n",
              "  "
            ]
          },
          "metadata": {},
          "execution_count": 14
        }
      ],
      "source": [
        "# convert to int dtype\n",
        "litho_data['LITHOLOGY_GEOLINK_NEW'] = litho_data['LITHOLOGY_GEOLINK_NEW'].astype(int)\n",
        "litho_data.head(3)"
      ]
    },
    {
      "cell_type": "markdown",
      "source": [
        "\n",
        "\n",
        "---\n",
        "\n"
      ],
      "metadata": {
        "id": "42_l4wTW7Pcq"
      }
    },
    {
      "cell_type": "code",
      "execution_count": 15,
      "metadata": {
        "colab": {
          "base_uri": "https://localhost:8080/"
        },
        "id": "lKn01LXZ-fhd",
        "outputId": "9b9f9c34-08df-4869-c77d-cde87f8c48e7"
      },
      "outputs": [
        {
          "output_type": "stream",
          "name": "stdout",
          "text": [
            "Training Dataset:   (482480, 10) (482480,)\n",
            "Test Dataset:  (482481, 10) (482481,)\n"
          ]
        }
      ],
      "source": [
        "#dataset creation\n",
        "from sklearn.model_selection import train_test_split\n",
        "\n",
        "X = litho_data.drop(columns='LITHOLOGY_GEOLINK_NEW')\n",
        "Y = litho_data['LITHOLOGY_GEOLINK_NEW'].values\n",
        "\n",
        "x_train, x_test, y_train, y_test = train_test_split(X, Y, test_size = 0.5, random_state=42) # close to the tabnet training dataset size\n",
        "\n",
        "print('Training Dataset:  ', x_train.shape, y_train.shape)\n",
        "print('Test Dataset: ', x_test.shape, y_test.shape)"
      ]
    },
    {
      "cell_type": "code",
      "source": [
        "from sklearn.pipeline import Pipeline\n",
        "from sklearn.preprocessing import RobustScaler\n",
        "from sklearn import linear_model\n",
        "from sklearn.neighbors import KNeighborsClassifier\n",
        "from sklearn.tree import DecisionTreeClassifier\n",
        "from sklearn.ensemble import RandomForestClassifier\n",
        "from sklearn.ensemble import AdaBoostClassifier, GradientBoostingClassifier\n",
        "from xgboost import XGBClassifier\n",
        "!pip install catboost\n",
        "from catboost import CatBoostClassifier\n",
        "from lightgbm import LGBMClassifier\n",
        "from sklearn.model_selection import cross_val_score, KFold, RandomizedSearchCV, cross_validate\n"
      ],
      "metadata": {
        "colab": {
          "base_uri": "https://localhost:8080/"
        },
        "id": "anW8HXlzLcYa",
        "outputId": "fed9b33e-1b0c-4073-e35c-ad7e9487d549"
      },
      "execution_count": 16,
      "outputs": [
        {
          "output_type": "stream",
          "name": "stdout",
          "text": [
            "Looking in indexes: https://pypi.org/simple, https://us-python.pkg.dev/colab-wheels/public/simple/\n",
            "Collecting catboost\n",
            "  Downloading catboost-1.0.6-cp37-none-manylinux1_x86_64.whl (76.6 MB)\n",
            "\u001b[K     |████████████████████████████████| 76.6 MB 1.3 MB/s \n",
            "\u001b[?25hRequirement already satisfied: graphviz in /usr/local/lib/python3.7/dist-packages (from catboost) (0.10.1)\n",
            "Requirement already satisfied: matplotlib in /usr/local/lib/python3.7/dist-packages (from catboost) (3.2.2)\n",
            "Requirement already satisfied: plotly in /usr/local/lib/python3.7/dist-packages (from catboost) (5.5.0)\n",
            "Requirement already satisfied: pandas>=0.24.0 in /usr/local/lib/python3.7/dist-packages (from catboost) (1.3.5)\n",
            "Requirement already satisfied: numpy>=1.16.0 in /usr/local/lib/python3.7/dist-packages (from catboost) (1.21.6)\n",
            "Requirement already satisfied: scipy in /usr/local/lib/python3.7/dist-packages (from catboost) (1.7.3)\n",
            "Requirement already satisfied: six in /usr/local/lib/python3.7/dist-packages (from catboost) (1.15.0)\n",
            "Requirement already satisfied: python-dateutil>=2.7.3 in /usr/local/lib/python3.7/dist-packages (from pandas>=0.24.0->catboost) (2.8.2)\n",
            "Requirement already satisfied: pytz>=2017.3 in /usr/local/lib/python3.7/dist-packages (from pandas>=0.24.0->catboost) (2022.2.1)\n",
            "Requirement already satisfied: cycler>=0.10 in /usr/local/lib/python3.7/dist-packages (from matplotlib->catboost) (0.11.0)\n",
            "Requirement already satisfied: pyparsing!=2.0.4,!=2.1.2,!=2.1.6,>=2.0.1 in /usr/local/lib/python3.7/dist-packages (from matplotlib->catboost) (3.0.9)\n",
            "Requirement already satisfied: kiwisolver>=1.0.1 in /usr/local/lib/python3.7/dist-packages (from matplotlib->catboost) (1.4.4)\n",
            "Requirement already satisfied: typing-extensions in /usr/local/lib/python3.7/dist-packages (from kiwisolver>=1.0.1->matplotlib->catboost) (4.1.1)\n",
            "Requirement already satisfied: tenacity>=6.2.0 in /usr/local/lib/python3.7/dist-packages (from plotly->catboost) (8.0.1)\n",
            "Installing collected packages: catboost\n",
            "Successfully installed catboost-1.0.6\n"
          ]
        }
      ]
    },
    {
      "cell_type": "code",
      "execution_count": 22,
      "metadata": {
        "id": "4lCGiSLQ_B9z"
      },
      "outputs": [],
      "source": [
        "#Model Selection\n",
        "\n",
        "class_pipelines = []\n",
        "\n",
        "class_pipelines.append(('ScaledRidge', Pipeline([('Scaler', RobustScaler()),('Ridge', linear_model.RidgeClassifier())])))\n",
        "class_pipelines.append(('ScaledSGDCls', Pipeline([('Scaler', RobustScaler()),('SGDCls', linear_model.SGDClassifier(n_jobs=60))])))\n",
        "class_pipelines.append(('ScaledKNNCls', Pipeline([('Scaler', RobustScaler()),('KNNCls', KNeighborsClassifier(n_jobs=60))])))\n",
        "class_pipelines.append(('ScaledDTC', Pipeline([('Scaler', RobustScaler()),('DTC', DecisionTreeClassifier())])))\n",
        "class_pipelines.append(('ScaledRFC', Pipeline([('Scaler', RobustScaler()),('RFC', RandomForestClassifier(n_jobs=60))])))\n",
        "class_pipelines.append(('ScaledXGB', Pipeline([('Scaler', RobustScaler()),('XGB', XGBClassifier(tree_method='gpu_hist'))])))\n",
        "class_pipelines.append(('ScaledCAT', Pipeline([('Scaler', RobustScaler()),('CAT', CatBoostClassifier(verbose=False, task_type='GPU', devices='0-2'))])))\n",
        "class_pipelines.append(('ScaledLGBM', Pipeline([('Scaler', RobustScaler()),('LGBM', LGBMClassifier(n_jobs=60))])))"
      ]
    },
    {
      "cell_type": "code",
      "execution_count": null,
      "metadata": {
        "colab": {
          "base_uri": "https://localhost:8080/"
        },
        "id": "TRcVnkSB_aCQ",
        "outputId": "f5357cf7-da18-4201-c653-22d882e11659"
      },
      "outputs": [
        {
          "output_type": "stream",
          "name": "stdout",
          "text": [
            "ScaledRidge Acc:  0.5717480517327143 \\ 0.0022802320325357775 \n",
            "\n",
            "ScaledRidge BalAcc:  0.14147673412198522 \\ 0.0006283257192499201 \n",
            "\n",
            "ScaledRidge F1:  0.129697796246851 \\ 0.0008020145827309508 \n",
            "\n",
            "===================================================\n",
            "ScaledSGDCls Acc:  0.561389073122202 \\ 0.0044021954908151015 \n",
            "\n",
            "ScaledSGDCls BalAcc:  0.16702958609513913 \\ 0.005112148334581395 \n",
            "\n",
            "ScaledSGDCls F1:  0.15867341016302833 \\ 0.0075628685329339074 \n",
            "\n",
            "===================================================\n",
            "ScaledKNNCls Acc:  0.8759368263969491 \\ 0.0008458391598071946 \n",
            "\n",
            "ScaledKNNCls BalAcc:  0.7209001064678531 \\ 0.006658560393867458 \n",
            "\n",
            "ScaledKNNCls F1:  0.7528414440736075 \\ 0.008222210047861401 \n",
            "\n",
            "===================================================\n",
            "ScaledDTC Acc:  0.8435810810810811 \\ 0.001247169127368178 \n",
            "\n",
            "ScaledDTC BalAcc:  0.7234812620042408 \\ 0.007676125517196939 \n",
            "\n",
            "ScaledDTC F1:  0.7271168278822738 \\ 0.009042018281958813 \n",
            "\n",
            "===================================================\n",
            "ScaledRFC Acc:  0.9023565743657768 \\ 0.0006361101193429915 \n",
            "\n",
            "ScaledRFC BalAcc:  0.7453504205128765 \\ 0.014852053902186187 \n",
            "\n",
            "ScaledRFC F1:  0.7992343290312546 \\ 0.01567772473831576 \n",
            "\n",
            "===================================================\n",
            "ScaledXGB Acc:  0.6986838832697728 \\ 0.0019227256421209442 \n",
            "\n",
            "ScaledXGB BalAcc:  0.44422172343327554 \\ 0.006875087784777212 \n",
            "\n",
            "ScaledXGB F1:  0.4888379355971109 \\ 0.006792986308814465 \n",
            "\n",
            "===================================================\n",
            "ScaledCAT Acc:  0.8635197313878296 \\ 0.000986739192760056 \n",
            "\n",
            "ScaledCAT BalAcc:  0.7318914623152053 \\ 0.009584392653837032 \n",
            "\n",
            "ScaledCAT F1:  0.7716960281231342 \\ 0.006702012976886946 \n",
            "\n",
            "===================================================\n",
            "ScaledLGBM Acc:  0.7848242414193335 \\ 0.005267866886015969 \n",
            "\n",
            "ScaledLGBM BalAcc:  0.5870271654865185 \\ 0.005899147350130054 \n",
            "\n",
            "ScaledLGBM F1:  0.5961339620690465 \\ 0.005145273291949429 \n",
            "\n",
            "===================================================\n"
          ]
        }
      ],
      "source": [
        "from sklearn.metrics import precision_score, recall_score, f1_score, accuracy_score, balanced_accuracy_score, make_scorer\n",
        "\n",
        "results = []\n",
        "names = []\n",
        "\n",
        "for name, model in class_pipelines:\n",
        "\n",
        "    kfold = KFold(n_splits=5)\n",
        "\n",
        "    scorers = {'accuracy': make_scorer(accuracy_score), \n",
        "               'balanced_accuracy': make_scorer(balanced_accuracy_score), \n",
        "               'f1': make_scorer(f1_score, average='macro')}\n",
        "\n",
        "    final_scorers = cross_validate(model, x_train, y_train, cv=kfold, scoring=scorers)\n",
        "    results.append(final_scorers)\n",
        "    names.append(name)\n",
        "    print(name, 'Acc: ', final_scorers['test_accuracy'].mean(), '\\\\', final_scorers['test_accuracy'].std(), '\\n')\n",
        "    print(name, 'BalAcc: ', final_scorers['test_balanced_accuracy'].mean(), '\\\\', final_scorers['test_balanced_accuracy'].std(), '\\n')\n",
        "    print(name, 'F1: ', final_scorers['test_f1'].mean(), '\\\\', final_scorers['test_f1'].std(), '\\n')\n",
        "    print(\"===================================================\")"
      ]
    },
    {
      "cell_type": "markdown",
      "source": [
        "\n",
        "\n",
        "---\n",
        "\n"
      ],
      "metadata": {
        "id": "y3qPonFRVlGn"
      }
    },
    {
      "cell_type": "code",
      "source": [
        "# hyperparameter tuning\n",
        "\n",
        "from hyperopt import hp, fmin, tpe, STATUS_OK, Trials\n",
        "\n",
        "\n",
        "space ={'learning_rate': hp.uniform(\"x.learning_rate\", 0.01, 1.0),\n",
        "        'max_depth': hp.choice ('x.max_depth',  np.arange(5, 11, 1, dtype=int)),\n",
        "        'iterations': hp.choice ('x.iterations', np.arange(10, 1000, 20, dtype=int)),\n",
        "        'bagging_temperature' : hp.uniform ('x.bagging_temperature', 0.0, 1.0),\n",
        "        'border_count' : hp.choice ('x.border_count', np.arange(1, 255, 10, dtype=int)),\n",
        "        'l2_leaf_reg' : hp.choice ('x.l2_leaf_reg', np.arange(2, 30, 1, dtype=int)),\n",
        "        'verbose': hp.choice ('x.verbose', [False]),\n",
        "        'task_type': hp.choice ('x.task_type', ['GPU']),\n",
        "        'devices': hp.choice ('x.devices', ['0-3'])\n",
        "    }\n",
        "\n",
        "\n",
        "\n",
        "#  Defining Objective Function\n",
        "def objective(space):\n",
        "    # Instantiate the classifier\n",
        "    clf = CatBoostClassifier( task_type='GPU')\n",
        "        \n",
        "    # Fit the classsifier\n",
        "    clf.fit(RobustScaler().fit_transform(x_train), y_train)\n",
        "    \n",
        "    # Predict on Cross Validation data\n",
        "    pred = clf.predict(RobustScaler().fit_transform(x_test))\n",
        "    \n",
        "    # Calculate our Metric - accuracy\n",
        "    accuracy = balanced_accuracy_score(y_test, pred)\n",
        "# return needs to be in this below format. We use negative of accuracy since we want to maximize it.\n",
        "    return {'loss': -accuracy, 'status': STATUS_OK }"
      ],
      "metadata": {
        "id": "Z98iprqEVm0S"
      },
      "execution_count": 17,
      "outputs": []
    },
    {
      "cell_type": "code",
      "source": [
        "X = litho_data.drop(columns=['LITHOLOGY_GEOLINK_NEW', 'DRDN', 'AI'])\n",
        "\n",
        "Y = litho_data['LITHOLOGY_GEOLINK_NEW'].values\n",
        "\n",
        "x_train, x_test, y_train, y_test = train_test_split(X, Y, test_size = 0.5, random_state=42) # close to the tabnet training dataset size"
      ],
      "metadata": {
        "id": "Lf0KKMFyWBUY"
      },
      "execution_count": 18,
      "outputs": []
    },
    {
      "cell_type": "code",
      "source": [
        "from sklearn.metrics import precision_score, recall_score, f1_score, accuracy_score, balanced_accuracy_score, make_scorer\n",
        "\n",
        "start_time = time.time()\n",
        "trials = Trials()\n",
        "best = fmin(fn=objective,\n",
        "            space=space,\n",
        "            algo=tpe.suggest,\n",
        "            max_evals=300,\n",
        "            trials=trials)  \n",
        "print(best)\n",
        "print(str(round((time.time() - start_time)/60,1)) + ' minutes taken') "
      ],
      "metadata": {
        "id": "pGBO0fRKWUUr"
      },
      "execution_count": null,
      "outputs": []
    },
    {
      "cell_type": "markdown",
      "source": [
        "The result of best hyperparameters:\n",
        "\n",
        "{'x.bagging_temperature': 0.9027421701180264, 'x.border_count': 260, 'x.devices': 0-3, 'x.iterations': 850, 'x.l2_leaf_reg': 6, 'x.learning_rate': 0.40238621723872342, 'x.max_depth': 3, 'x.task_type': 'GPU', 'x.verbose': 0}\n",
        "\n",
        "137.5 minutes taken"
      ],
      "metadata": {
        "id": "HHS8bpW5DUZA"
      }
    },
    {
      "cell_type": "markdown",
      "source": [
        "\n",
        "\n",
        "---\n",
        "\n"
      ],
      "metadata": {
        "id": "tR-9s2dN7v9o"
      }
    },
    {
      "cell_type": "markdown",
      "source": [
        "**Training based on best parameters**"
      ],
      "metadata": {
        "id": "EAe7NhedXCtK"
      }
    },
    {
      "cell_type": "code",
      "source": [
        "from sklearn.metrics import precision_score, recall_score, f1_score, accuracy_score, balanced_accuracy_score, make_scorer\n",
        "\n",
        "start_time = time.time()\n",
        "\n",
        "best_class = CatBoostClassifier(bagging_temperature=0.9, border_count=260, devices='0-3', iterations=850, l2_leaf_reg=6, learning_rate=0.4, max_depth=6, task_type='GPU', verbose=False) # the rest of the best parameters are  the default ones\n",
        "best_class.fit(RobustScaler().fit_transform(x_train), y_train)\n",
        "\n",
        "print(str(round((time.time() - start_time)/60,1)) + ' minutes taken') "
      ],
      "metadata": {
        "colab": {
          "base_uri": "https://localhost:8080/"
        },
        "id": "cLKqBDiaDBi9",
        "outputId": "ecb8043d-8d34-428d-e1a9-ee64339f2d1a"
      },
      "execution_count": 21,
      "outputs": [
        {
          "output_type": "stream",
          "name": "stdout",
          "text": [
            "0.3 minutes taken\n"
          ]
        }
      ]
    },
    {
      "cell_type": "code",
      "source": [
        "start_time = time.time()\n",
        "\n",
        "y_predict = best_class.predict(RobustScaler().fit_transform(x_test))\n",
        "\n",
        "print(str(round((time.time() - start_time)/60,1)) + ' minutes taken') \n",
        "print('Accuracy: ', str(accuracy_score(y_test, y_predict)), '\\n')\n",
        "print('Balanced Accuracy: ', str(balanced_accuracy_score(y_test, y_predict)))\n",
        "print('F1-Score Macro: ', str(f1_score(y_test, y_predict, average='macro')))"
      ],
      "metadata": {
        "colab": {
          "base_uri": "https://localhost:8080/"
        },
        "id": "yzMTffN1DCHO",
        "outputId": "588ef8f6-a985-4475-cdb4-b246a05c3867"
      },
      "execution_count": 23,
      "outputs": [
        {
          "output_type": "stream",
          "name": "stdout",
          "text": [
            "0.0 minutes taken\n",
            "Accuracy:  0.8701814164702859 \n",
            "\n",
            "Balanced Accuracy:  0.7412331618076122\n",
            "F1-Score Macro:  0.7796538008206877\n"
          ]
        }
      ]
    },
    {
      "cell_type": "markdown",
      "source": [
        "\n",
        "\n",
        "---\n",
        "\n"
      ],
      "metadata": {
        "id": "3ag2G8NhC-lQ"
      }
    },
    {
      "cell_type": "markdown",
      "source": [
        "**Feature Importance**"
      ],
      "metadata": {
        "id": "sf4SeKDqFZYy"
      }
    },
    {
      "cell_type": "code",
      "source": [
        "from catboost import Pool\n",
        "\n",
        "train_pool = Pool(x_train, y_train)\n",
        "tree_feature_importances = (best_class.get_feature_importance(train_pool, type='LossFunctionChange'))\n",
        "sorted_idx = tree_feature_importances.argsort()\n",
        "y_ticks = np.arange(0, len(X.columns))\n",
        "fig, ax = plt.subplots()\n",
        "ax.barh(y_ticks, tree_feature_importances[sorted_idx])\n",
        "ax.set_yticklabels(X.columns[sorted_idx])\n",
        "ax.set_yticks(y_ticks)\n",
        "ax.set_title(\"Catboost Feature Importances (MDI)\")\n",
        "fig.tight_layout()\n",
        "plt.show()"
      ],
      "metadata": {
        "id": "qU5fIRqwXeH-",
        "colab": {
          "base_uri": "https://localhost:8080/",
          "height": 297
        },
        "outputId": "b477d2a5-04ec-4b94-9e1d-5bb9753b19b2"
      },
      "execution_count": 24,
      "outputs": [
        {
          "output_type": "display_data",
          "data": {
            "text/plain": [
              "<Figure size 432x288 with 1 Axes>"
            ],
            "image/png": "[encoded data removed]"
          },
          "metadata": {
            "needs_background": "light"
          }
        }
      ]
    },
    {
      "cell_type": "markdown",
      "source": [
        "**Confusion matrix**"
      ],
      "metadata": {
        "id": "uGdqnoapFWQ3"
      }
    },
    {
      "cell_type": "code",
      "source": [
        "from sklearn.metrics import confusion_matrix\n",
        "\n",
        "cf_matrix = confusion_matrix(y_test, y_predict)\n",
        "\n",
        "fig, ax = plt.subplots(figsize=(10, 10))\n",
        "sns.heatmap(cf_matrix.astype('float') / cf_matrix.sum(axis=1)[:, np.newaxis], cmap=plt.cm.Blues, annot=True, fmt='.1f', xticklabels=np.sort(litho_data['LITHOLOGY_GEOLINK_NEW'].unique()), yticklabels=np.sort(litho_data['LITHOLOGY_GEOLINK_NEW'].unique())) # confusion matrix normalized as in Sklearn documentation\n",
        "\n",
        "plt.yticks(rotation=0) \n",
        "ax.set_ylim(len(cf_matrix)-0.1, -0.5)\n",
        "\n",
        "plt.show()"
      ],
      "metadata": {
        "id": "eHsG4TWwXg4M",
        "colab": {
          "base_uri": "https://localhost:8080/",
          "height": 592
        },
        "outputId": "78ae29e1-96aa-49f7-9782-87282c03e032"
      },
      "execution_count": 26,
      "outputs": [
        {
          "output_type": "display_data",
          "data": {
            "text/plain": [
              "<Figure size 720x720 with 2 Axes>"
            ],
            "image/png": "[encoded data removed]"
          },
          "metadata": {
            "needs_background": "light"
          }
        }
      ]
    }
  ],
  "metadata": {
    "colab": {
      "collapsed_sections": [
        "UpRBpcFfuzCx",
        "Qlg8shS-3B7e"
      ],
      "provenance": [],
      "toc_visible": true,
      "authorship_tag": "ABX9TyOqufsb0ruEoGwtvkc4s8lm",
      "include_colab_link": true
    },
    "kernelspec": {
      "display_name": "Python 3",
      "name": "python3"
    },
    "language_info": {
      "name": "python"
    },
    "accelerator": "GPU"
  },
  "nbformat": 4,
  "nbformat_minor": 0
}