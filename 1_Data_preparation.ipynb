{
  "nbformat": 4,
  "nbformat_minor": 0,
  "metadata": {
    "colab": {
      "provenance": [],
      "collapsed_sections": [
        "xvFBNbS49Pg5",
        "P4CA5I0z-S9A",
        "ENaLyhpF-4Qr",
        "WgQCZByXuevR",
        "Owh6sppRuOlc",
        "rkLAOloWvye6",
        "9yyY_os9zxQb",
        "K4WBq8_SzdWM",
        "NrBtYWk92q22",
        "TAN0oUM2ffAq",
        "ZPvvuMfEa3L3"
      ],
      "authorship_tag": "ABX9TyPqi+6e7XFRBHCcGeOsCpT0",
      "include_colab_link": true
    },
    "kernelspec": {
      "name": "python3",
      "display_name": "Python 3"
    },
    "language_info": {
      "name": "python"
    }
  },
  "cells": [
    {
      "cell_type": "markdown",
      "metadata": {
        "id": "view-in-github",
        "colab_type": "text"
      },
      "source": [
        "<a href=\"https://colab.research.google.com/github/soulayman-al-abdallah/ML-Petro-well-log-lithology/blob/main/part_1_Data_preparation.ipynb\" target=\"_parent\"><img src=\"https://colab.research.google.com/assets/colab-badge.svg\" alt=\"Open In Colab\"/></a>"
      ]
    },
    {
      "cell_type": "markdown",
      "source": [
        "Datasets: \n",
        "- **Lithology code data.xlsx** : A schedule defining each geological lithology with an integer unique value (i.e. 3,10,32...)\n",
        "- **GEOLINK_Lithology and wells NORTH SEA** : A directory containing many LAS files, each LAS file presents a well and features 25+ relevant logs data\n",
        "\n",
        "Our main tasks in this notebook focuses on the 2nd dataset as follow:\n",
        "\n",
        "- Data cleaning and determining the common 10 features present in different LAS files\n",
        "- Applying EDA\n",
        "- Preprocessing Outliers and Missing Values\n",
        "\n",
        "We end the work here by saving 2 dataframes: **Litho_code.csv** and **df_main.csv**"
      ],
      "metadata": {
        "id": "CjzEq8qmG6Ja"
      }
    },
    {
      "cell_type": "markdown",
      "source": [
        "\n",
        "\n",
        "---\n",
        "\n",
        "\n",
        "\n",
        "---\n",
        "\n",
        "\n",
        "\n",
        "---\n",
        "\n"
      ],
      "metadata": {
        "id": "WvSLX0X4wOkj"
      }
    },
    {
      "cell_type": "markdown",
      "source": [
        "# Importing Modules\n"
      ],
      "metadata": {
        "id": "3YIEceMdpE2I"
      }
    },
    {
      "cell_type": "code",
      "source": [
        "import warnings\n",
        "warnings.filterwarnings('ignore')"
      ],
      "metadata": {
        "id": "Gogc4PLTWeWW"
      },
      "execution_count": 1,
      "outputs": []
    },
    {
      "cell_type": "code",
      "execution_count": 2,
      "metadata": {
        "id": "J52Y-6mapE4a",
        "colab": {
          "base_uri": "https://localhost:8080/"
        },
        "outputId": "8d484ab7-41ec-4efc-be09-207ced945b00"
      },
      "outputs": [
        {
          "output_type": "stream",
          "name": "stdout",
          "text": [
            "Looking in indexes: https://pypi.org/simple, https://us-python.pkg.dev/colab-wheels/public/simple/\n",
            "Collecting lasio\n",
            "  Downloading lasio-0.30-py2.py3-none-any.whl (43 kB)\n",
            "\u001b[K     |████████████████████████████████| 43 kB 1.7 MB/s \n",
            "\u001b[?25hRequirement already satisfied: numpy in /usr/local/lib/python3.7/dist-packages (from lasio) (1.21.6)\n",
            "Installing collected packages: lasio\n",
            "Successfully installed lasio-0.30\n"
          ]
        }
      ],
      "source": [
        "import pandas as pd\n",
        "import numpy as np\n",
        "import matplotlib.pyplot as plt\n",
        "import seaborn as sns\n",
        "from scipy import stats\n",
        "from collections import Counter\n",
        "import time\n",
        "import multiprocessing\n",
        "!pip install lasio\n",
        "import lasio\n",
        "import os\n",
        "from os import path\n",
        "from collections import Counter"
      ]
    },
    {
      "cell_type": "code",
      "source": [
        "from google.colab import drive\n",
        "drive.mount('/content/gdrive')"
      ],
      "metadata": {
        "colab": {
          "base_uri": "https://localhost:8080/"
        },
        "id": "u8UjpcduVfi-",
        "outputId": "f1ba2651-a8fe-4e9f-911e-654b8d68f9df"
      },
      "execution_count": 3,
      "outputs": [
        {
          "output_type": "stream",
          "name": "stdout",
          "text": [
            "Mounted at /content/gdrive\n"
          ]
        }
      ]
    },
    {
      "cell_type": "markdown",
      "source": [
        "# Reading data"
      ],
      "metadata": {
        "id": "xvFBNbS49Pg5"
      }
    },
    {
      "cell_type": "markdown",
      "source": [
        "## Lithology code data"
      ],
      "metadata": {
        "id": "P4CA5I0z-S9A"
      }
    },
    {
      "cell_type": "code",
      "source": [
        "file_path = '/content/gdrive/MyDrive/Dev tools/Data - NorthSea Electrofacies/Lithology code data.xlsx'\n",
        "\n",
        "litho_code = pd.read_excel(file_path)\n",
        "litho_code.head()"
      ],
      "metadata": {
        "colab": {
          "base_uri": "https://localhost:8080/",
          "height": 206
        },
        "id": "Hpl0D9Cw9UFy",
        "outputId": "6518ea8d-7d70-4a7d-bd5b-c1a1f6e0eb04"
      },
      "execution_count": null,
      "outputs": [
        {
          "output_type": "execute_result",
          "data": {
            "text/plain": [
              "               Unnamed: 0      Unnamed: 1           Unnamed: 2    Unnamed: 3\n",
              "0               Lithology           Color  Lithology Attribute  Abbreviation\n",
              "1       Aeolian Sandstone     LightYellow     CrossBedded Sand          35.0\n",
              "2               Anhydrite   Light Magenta            Anhydrite          22.0\n",
              "3  Argillaceous Limestone     Dodger Blue                Chalk          12.0\n",
              "4                  Arkose  LightGoldenrod               Gravel          36.0"
            ],
            "text/html": [
              "\n",
              "  <div id=\"df-761063be-07f8-4c13-a566-d408de0b9f0e\">\n",
              "    <div class=\"colab-df-container\">\n",
              "      <div>\n",
              "<style scoped>\n",
              "    .dataframe tbody tr th:only-of-type {\n",
              "        vertical-align: middle;\n",
              "    }\n",
              "\n",
              "    .dataframe tbody tr th {\n",
              "        vertical-align: top;\n",
              "    }\n",
              "\n",
              "    .dataframe thead th {\n",
              "        text-align: right;\n",
              "    }\n",
              "</style>\n",
              "<table border=\"1\" class=\"dataframe\">\n",
              "  <thead>\n",
              "    <tr style=\"text-align: right;\">\n",
              "      <th></th>\n",
              "      <th>Unnamed: 0</th>\n",
              "      <th>Unnamed: 1</th>\n",
              "      <th>Unnamed: 2</th>\n",
              "      <th>Unnamed: 3</th>\n",
              "    </tr>\n",
              "  </thead>\n",
              "  <tbody>\n",
              "    <tr>\n",
              "      <th>0</th>\n",
              "      <td>Lithology</td>\n",
              "      <td>Color</td>\n",
              "      <td>Lithology Attribute</td>\n",
              "      <td>Abbreviation</td>\n",
              "    </tr>\n",
              "    <tr>\n",
              "      <th>1</th>\n",
              "      <td>Aeolian Sandstone</td>\n",
              "      <td>LightYellow</td>\n",
              "      <td>CrossBedded Sand</td>\n",
              "      <td>35.0</td>\n",
              "    </tr>\n",
              "    <tr>\n",
              "      <th>2</th>\n",
              "      <td>Anhydrite</td>\n",
              "      <td>Light Magenta</td>\n",
              "      <td>Anhydrite</td>\n",
              "      <td>22.0</td>\n",
              "    </tr>\n",
              "    <tr>\n",
              "      <th>3</th>\n",
              "      <td>Argillaceous Limestone</td>\n",
              "      <td>Dodger Blue</td>\n",
              "      <td>Chalk</td>\n",
              "      <td>12.0</td>\n",
              "    </tr>\n",
              "    <tr>\n",
              "      <th>4</th>\n",
              "      <td>Arkose</td>\n",
              "      <td>LightGoldenrod</td>\n",
              "      <td>Gravel</td>\n",
              "      <td>36.0</td>\n",
              "    </tr>\n",
              "  </tbody>\n",
              "</table>\n",
              "</div>\n",
              "      <button class=\"colab-df-convert\" onclick=\"convertToInteractive('df-761063be-07f8-4c13-a566-d408de0b9f0e')\"\n",
              "              title=\"Convert this dataframe to an interactive table.\"\n",
              "              style=\"display:none;\">\n",
              "        \n",
              "  <svg xmlns=\"http://www.w3.org/2000/svg\" height=\"24px\"viewBox=\"0 0 24 24\"\n",
              "       width=\"24px\">\n",
              "    <path d=\"M0 0h24v24H0V0z\" fill=\"none\"/>\n",
              "    <path d=\"M18.56 5.44l.94 2.06.94-2.06 2.06-.94-2.06-.94-.94-2.06-.94 2.06-2.06.94zm-11 1L8.5 8.5l.94-2.06 2.06-.94-2.06-.94L8.5 2.5l-.94 2.06-2.06.94zm10 10l.94 2.06.94-2.06 2.06-.94-2.06-.94-.94-2.06-.94 2.06-2.06.94z\"/><path d=\"M17.41 7.96l-1.37-1.37c-.4-.4-.92-.59-1.43-.59-.52 0-1.04.2-1.43.59L10.3 9.45l-7.72 7.72c-.78.78-.78 2.05 0 2.83L4 21.41c.39.39.9.59 1.41.59.51 0 1.02-.2 1.41-.59l7.78-7.78 2.81-2.81c.8-.78.8-2.07 0-2.86zM5.41 20L4 18.59l7.72-7.72 1.47 1.35L5.41 20z\"/>\n",
              "  </svg>\n",
              "      </button>\n",
              "      \n",
              "  <style>\n",
              "    .colab-df-container {\n",
              "      display:flex;\n",
              "      flex-wrap:wrap;\n",
              "      gap: 12px;\n",
              "    }\n",
              "\n",
              "    .colab-df-convert {\n",
              "      background-color: #E8F0FE;\n",
              "      border: none;\n",
              "      border-radius: 50%;\n",
              "      cursor: pointer;\n",
              "      display: none;\n",
              "      fill: #1967D2;\n",
              "      height: 32px;\n",
              "      padding: 0 0 0 0;\n",
              "      width: 32px;\n",
              "    }\n",
              "\n",
              "    .colab-df-convert:hover {\n",
              "      background-color: #E2EBFA;\n",
              "      box-shadow: 0px 1px 2px rgba(60, 64, 67, 0.3), 0px 1px 3px 1px rgba(60, 64, 67, 0.15);\n",
              "      fill: #174EA6;\n",
              "    }\n",
              "\n",
              "    [theme=dark] .colab-df-convert {\n",
              "      background-color: #3B4455;\n",
              "      fill: #D2E3FC;\n",
              "    }\n",
              "\n",
              "    [theme=dark] .colab-df-convert:hover {\n",
              "      background-color: #434B5C;\n",
              "      box-shadow: 0px 1px 3px 1px rgba(0, 0, 0, 0.15);\n",
              "      filter: drop-shadow(0px 1px 2px rgba(0, 0, 0, 0.3));\n",
              "      fill: #FFFFFF;\n",
              "    }\n",
              "  </style>\n",
              "\n",
              "      <script>\n",
              "        const buttonEl =\n",
              "          document.querySelector('#df-761063be-07f8-4c13-a566-d408de0b9f0e button.colab-df-convert');\n",
              "        buttonEl.style.display =\n",
              "          google.colab.kernel.accessAllowed ? 'block' : 'none';\n",
              "\n",
              "        async function convertToInteractive(key) {\n",
              "          const element = document.querySelector('#df-761063be-07f8-4c13-a566-d408de0b9f0e');\n",
              "          const dataTable =\n",
              "            await google.colab.kernel.invokeFunction('convertToInteractive',\n",
              "                                                     [key], {});\n",
              "          if (!dataTable) return;\n",
              "\n",
              "          const docLinkHtml = 'Like what you see? Visit the ' +\n",
              "            '<a target=\"_blank\" href=https://colab.research.google.com/notebooks/data_table.ipynb>data table notebook</a>'\n",
              "            + ' to learn more about interactive tables.';\n",
              "          element.innerHTML = '';\n",
              "          dataTable['output_type'] = 'display_data';\n",
              "          await google.colab.output.renderOutput(dataTable, element);\n",
              "          const docLink = document.createElement('div');\n",
              "          docLink.innerHTML = docLinkHtml;\n",
              "          element.appendChild(docLink);\n",
              "        }\n",
              "      </script>\n",
              "    </div>\n",
              "  </div>\n",
              "  "
            ]
          },
          "metadata": {},
          "execution_count": 5
        }
      ]
    },
    {
      "cell_type": "code",
      "source": [
        "#Use the first row as columns titles\n",
        "litho_code.columns = litho_code.iloc[0]\n",
        "\n",
        "#Dropping the first row aftrwards\n",
        "litho_code.drop(index=0 , inplace=True)\n",
        "litho_code.head()"
      ],
      "metadata": {
        "colab": {
          "base_uri": "https://localhost:8080/",
          "height": 206
        },
        "id": "W3glb1Wn-X9k",
        "outputId": "8b2b0cb2-693a-4ed7-8d7e-ba6c867e23dc"
      },
      "execution_count": null,
      "outputs": [
        {
          "output_type": "execute_result",
          "data": {
            "text/plain": [
              "0               Lithology           Color Lithology Attribute Abbreviation\n",
              "1       Aeolian Sandstone     LightYellow    CrossBedded Sand         35.0\n",
              "2               Anhydrite   Light Magenta           Anhydrite         22.0\n",
              "3  Argillaceous Limestone     Dodger Blue               Chalk         12.0\n",
              "4                  Arkose  LightGoldenrod              Gravel         36.0\n",
              "5                Basement          Salmon           Intrusive         23.0"
            ],
            "text/html": [
              "\n",
              "  <div id=\"df-d79daeaa-bc3d-4a7e-beb4-9d7852bf0b5a\">\n",
              "    <div class=\"colab-df-container\">\n",
              "      <div>\n",
              "<style scoped>\n",
              "    .dataframe tbody tr th:only-of-type {\n",
              "        vertical-align: middle;\n",
              "    }\n",
              "\n",
              "    .dataframe tbody tr th {\n",
              "        vertical-align: top;\n",
              "    }\n",
              "\n",
              "    .dataframe thead th {\n",
              "        text-align: right;\n",
              "    }\n",
              "</style>\n",
              "<table border=\"1\" class=\"dataframe\">\n",
              "  <thead>\n",
              "    <tr style=\"text-align: right;\">\n",
              "      <th></th>\n",
              "      <th>Lithology</th>\n",
              "      <th>Color</th>\n",
              "      <th>Lithology Attribute</th>\n",
              "      <th>Abbreviation</th>\n",
              "    </tr>\n",
              "  </thead>\n",
              "  <tbody>\n",
              "    <tr>\n",
              "      <th>1</th>\n",
              "      <td>Aeolian Sandstone</td>\n",
              "      <td>LightYellow</td>\n",
              "      <td>CrossBedded Sand</td>\n",
              "      <td>35.0</td>\n",
              "    </tr>\n",
              "    <tr>\n",
              "      <th>2</th>\n",
              "      <td>Anhydrite</td>\n",
              "      <td>Light Magenta</td>\n",
              "      <td>Anhydrite</td>\n",
              "      <td>22.0</td>\n",
              "    </tr>\n",
              "    <tr>\n",
              "      <th>3</th>\n",
              "      <td>Argillaceous Limestone</td>\n",
              "      <td>Dodger Blue</td>\n",
              "      <td>Chalk</td>\n",
              "      <td>12.0</td>\n",
              "    </tr>\n",
              "    <tr>\n",
              "      <th>4</th>\n",
              "      <td>Arkose</td>\n",
              "      <td>LightGoldenrod</td>\n",
              "      <td>Gravel</td>\n",
              "      <td>36.0</td>\n",
              "    </tr>\n",
              "    <tr>\n",
              "      <th>5</th>\n",
              "      <td>Basement</td>\n",
              "      <td>Salmon</td>\n",
              "      <td>Intrusive</td>\n",
              "      <td>23.0</td>\n",
              "    </tr>\n",
              "  </tbody>\n",
              "</table>\n",
              "</div>\n",
              "      <button class=\"colab-df-convert\" onclick=\"convertToInteractive('df-d79daeaa-bc3d-4a7e-beb4-9d7852bf0b5a')\"\n",
              "              title=\"Convert this dataframe to an interactive table.\"\n",
              "              style=\"display:none;\">\n",
              "        \n",
              "  <svg xmlns=\"http://www.w3.org/2000/svg\" height=\"24px\"viewBox=\"0 0 24 24\"\n",
              "       width=\"24px\">\n",
              "    <path d=\"M0 0h24v24H0V0z\" fill=\"none\"/>\n",
              "    <path d=\"M18.56 5.44l.94 2.06.94-2.06 2.06-.94-2.06-.94-.94-2.06-.94 2.06-2.06.94zm-11 1L8.5 8.5l.94-2.06 2.06-.94-2.06-.94L8.5 2.5l-.94 2.06-2.06.94zm10 10l.94 2.06.94-2.06 2.06-.94-2.06-.94-.94-2.06-.94 2.06-2.06.94z\"/><path d=\"M17.41 7.96l-1.37-1.37c-.4-.4-.92-.59-1.43-.59-.52 0-1.04.2-1.43.59L10.3 9.45l-7.72 7.72c-.78.78-.78 2.05 0 2.83L4 21.41c.39.39.9.59 1.41.59.51 0 1.02-.2 1.41-.59l7.78-7.78 2.81-2.81c.8-.78.8-2.07 0-2.86zM5.41 20L4 18.59l7.72-7.72 1.47 1.35L5.41 20z\"/>\n",
              "  </svg>\n",
              "      </button>\n",
              "      \n",
              "  <style>\n",
              "    .colab-df-container {\n",
              "      display:flex;\n",
              "      flex-wrap:wrap;\n",
              "      gap: 12px;\n",
              "    }\n",
              "\n",
              "    .colab-df-convert {\n",
              "      background-color: #E8F0FE;\n",
              "      border: none;\n",
              "      border-radius: 50%;\n",
              "      cursor: pointer;\n",
              "      display: none;\n",
              "      fill: #1967D2;\n",
              "      height: 32px;\n",
              "      padding: 0 0 0 0;\n",
              "      width: 32px;\n",
              "    }\n",
              "\n",
              "    .colab-df-convert:hover {\n",
              "      background-color: #E2EBFA;\n",
              "      box-shadow: 0px 1px 2px rgba(60, 64, 67, 0.3), 0px 1px 3px 1px rgba(60, 64, 67, 0.15);\n",
              "      fill: #174EA6;\n",
              "    }\n",
              "\n",
              "    [theme=dark] .colab-df-convert {\n",
              "      background-color: #3B4455;\n",
              "      fill: #D2E3FC;\n",
              "    }\n",
              "\n",
              "    [theme=dark] .colab-df-convert:hover {\n",
              "      background-color: #434B5C;\n",
              "      box-shadow: 0px 1px 3px 1px rgba(0, 0, 0, 0.15);\n",
              "      filter: drop-shadow(0px 1px 2px rgba(0, 0, 0, 0.3));\n",
              "      fill: #FFFFFF;\n",
              "    }\n",
              "  </style>\n",
              "\n",
              "      <script>\n",
              "        const buttonEl =\n",
              "          document.querySelector('#df-d79daeaa-bc3d-4a7e-beb4-9d7852bf0b5a button.colab-df-convert');\n",
              "        buttonEl.style.display =\n",
              "          google.colab.kernel.accessAllowed ? 'block' : 'none';\n",
              "\n",
              "        async function convertToInteractive(key) {\n",
              "          const element = document.querySelector('#df-d79daeaa-bc3d-4a7e-beb4-9d7852bf0b5a');\n",
              "          const dataTable =\n",
              "            await google.colab.kernel.invokeFunction('convertToInteractive',\n",
              "                                                     [key], {});\n",
              "          if (!dataTable) return;\n",
              "\n",
              "          const docLinkHtml = 'Like what you see? Visit the ' +\n",
              "            '<a target=\"_blank\" href=https://colab.research.google.com/notebooks/data_table.ipynb>data table notebook</a>'\n",
              "            + ' to learn more about interactive tables.';\n",
              "          element.innerHTML = '';\n",
              "          dataTable['output_type'] = 'display_data';\n",
              "          await google.colab.output.renderOutput(dataTable, element);\n",
              "          const docLink = document.createElement('div');\n",
              "          docLink.innerHTML = docLinkHtml;\n",
              "          element.appendChild(docLink);\n",
              "        }\n",
              "      </script>\n",
              "    </div>\n",
              "  </div>\n",
              "  "
            ]
          },
          "metadata": {},
          "execution_count": 6
        }
      ]
    },
    {
      "cell_type": "markdown",
      "source": [
        "## Las files"
      ],
      "metadata": {
        "id": "ENaLyhpF-4Qr"
      }
    },
    {
      "cell_type": "code",
      "source": [
        "#reading\n",
        "\n",
        "def read_las_directory(path_to_folder):\n",
        "    \"\"\"Reads all las files on the given folder.\"\"\"\n",
        "\n",
        "    main_name = {}\n",
        "    for i in (os.listdir(path_to_folder)):\n",
        "        main_name[os.path.splitext(i)[0]] = lasio.read(os.path.join(path_to_folder, i))\n",
        "    return main_name\n",
        "\n",
        "\n",
        "path = '/content/gdrive/MyDrive/Dev tools/Data - NorthSea Electrofacies/GEOLINK_Lithology and wells NORTH SEA'\n",
        "npd_wells = read_las_directory(path)"
      ],
      "metadata": {
        "id": "La9MzgTo-76A"
      },
      "execution_count": 4,
      "outputs": []
    },
    {
      "cell_type": "markdown",
      "source": [
        "\n",
        "\n",
        "---\n",
        "\n"
      ],
      "metadata": {
        "id": "ktiBWCPnPX-h"
      }
    },
    {
      "cell_type": "markdown",
      "source": [
        "### Dataframe preparation"
      ],
      "metadata": {
        "id": "WgQCZByXuevR"
      }
    },
    {
      "cell_type": "code",
      "source": [
        "#inspecting\n",
        "\n",
        "print('Number of Las Files read: ' + str(len(npd_wells)))\n",
        "print('---------------------------')\n",
        "print('Some Las files ID: ' + str(list(npd_wells.keys())[:4])) # A list of some of the key values = id values\n",
        "print('---------------------------')\n",
        "print('Some Las files objects holding info: ' + str(list(npd_wells.values())[:4])) # A list of some of the dict values\n",
        "print('---------------------------')\n",
        "print(str(npd_wells['34_10-19'].curves))        # Available curves = features for one of the ids"
      ],
      "metadata": {
        "colab": {
          "base_uri": "https://localhost:8080/"
        },
        "id": "vID3jLAMB0Og",
        "outputId": "0060065b-435b-40f5-f366-b429d2cb1b8b"
      },
      "execution_count": 25,
      "outputs": [
        {
          "output_type": "stream",
          "name": "stdout",
          "text": [
            "Number of Las Files read: 223\n",
            "---------------------------\n",
            "Some Las files ID: ['16_10-1', '16_8-1', '16_7-7 S', '15_9-4']\n",
            "---------------------------\n",
            "Some Las files objects holding info: [<lasio.las.LASFile object at 0x7f6963a80650>, <lasio.las.LASFile object at 0x7f6963121150>, <lasio.las.LASFile object at 0x7f6963a9d690>, <lasio.las.LASFile object at 0x7f6963a52750>]\n",
            "---------------------------\n",
            "Mnemonic           Unit   Value  Description        \n",
            "--------           ----   -----  -----------        \n",
            "DEPT               m             DEPTH              \n",
            "LITHOLOGY_GEOLINK  _             Lithology_geolink  \n",
            "CALI               in            CALI               \n",
            "DRHO               g/cm3         DRHO               \n",
            "NPHI               m3/m3         NPHI               \n",
            "RHOB               g/cm3         RHOB               \n",
            "GR                 gAPI          GR                 \n",
            "DTC                us/ft         DTC                \n",
            "RDEP               ohm.m         RDEP               \n",
            "SP                 mV            SP                 \n",
            "RSHA               ohm.m         RSHA               \n",
            "RMED               ohm.m         RMED               \n"
          ]
        }
      ]
    },
    {
      "cell_type": "markdown",
      "source": [
        "\n",
        "\n",
        "---\n",
        "\n"
      ],
      "metadata": {
        "id": "1DYfoBaEQCBk"
      }
    },
    {
      "cell_type": "code",
      "source": [
        "#Converting las dictionary to dataframe\n",
        "\n",
        "npd_wells_df = {}\n",
        "\n",
        "for id in list(npd_wells.keys()):\n",
        "\n",
        "    npd_wells_df[id] = npd_wells[id].df()\n",
        "\n",
        "    #Creating Main Dataframe\n",
        "    npd_wells_df[id]['WELL_NAME'] = id\n",
        "\n",
        "    #Converting Depth to a Column\n",
        "    npd_wells_df[id]['DEPTH'] = npd_wells_df[id].index"
      ],
      "metadata": {
        "id": "G7xlJZb-DGZ8"
      },
      "execution_count": null,
      "outputs": []
    },
    {
      "cell_type": "code",
      "source": [
        "# las dict example\n",
        "npd_wells['15_9-12']"
      ],
      "metadata": {
        "colab": {
          "base_uri": "https://localhost:8080/"
        },
        "id": "mLctKoIGzl1O",
        "outputId": "fbaa30a0-9917-4296-dec4-e13b868ed44f"
      },
      "execution_count": null,
      "outputs": [
        {
          "output_type": "execute_result",
          "data": {
            "text/plain": [
              "<lasio.las.LASFile at 0x7ff104a42390>"
            ]
          },
          "metadata": {},
          "execution_count": 11
        }
      ]
    },
    {
      "cell_type": "code",
      "source": [
        "# df example\n",
        "npd_wells_df['15_9-12']"
      ],
      "metadata": {
        "colab": {
          "base_uri": "https://localhost:8080/",
          "height": 455
        },
        "id": "GR9pKe6PD_op",
        "outputId": "28f9ab39-9ec6-49ea-bb1e-05499bc3065f"
      },
      "execution_count": null,
      "outputs": [
        {
          "output_type": "execute_result",
          "data": {
            "text/plain": [
              "             LITHOLOGY_GEOLINK       CALI   DRHO     NPHI   RHOB         GR  \\\n",
              "DEPT                                                                          \n",
              "493.493134                 NaN  19.406000 -0.708      NaN  1.789  64.497482   \n",
              "493.645538                 NaN  19.406000 -0.722      NaN  1.754  62.406261   \n",
              "493.797943                 NaN  19.406000 -0.620      NaN  1.778  62.629055   \n",
              "493.950348                 NaN  19.452999 -0.648      NaN  1.642  65.998596   \n",
              "494.102722                 NaN  19.452999 -0.685      NaN  1.563  64.997223   \n",
              "...                        ...        ...    ...      ...    ...        ...   \n",
              "3751.957031                NaN   7.555000  0.085  0.13574  2.586        NaN   \n",
              "3752.109375                NaN   7.555000  0.085  0.13574  2.586        NaN   \n",
              "3752.261963                NaN   7.555000  0.085  0.13574  2.586        NaN   \n",
              "3752.414307                NaN   7.555000  0.085  0.13574  2.586        NaN   \n",
              "3752.566650                NaN   7.555000  0.085  0.13574  2.586        NaN   \n",
              "\n",
              "                    DTC         DTE      RDEP         SP      RSHA  RXO  \\\n",
              "DEPT                                                                      \n",
              "493.493134   167.582153  50815100.0  1.574993   0.694700  1.546029  NaN   \n",
              "493.645538   167.425064  50761636.0  1.569011   0.445339  1.570030  NaN   \n",
              "493.797943   167.808395  50886056.0  1.578010   0.727901  1.594994  NaN   \n",
              "493.950348   169.244873  51314492.0  1.586024   1.474898  1.589930  NaN   \n",
              "494.102722   170.635086  51763464.0  1.603011  -0.023000  1.540016  NaN   \n",
              "...                 ...         ...       ...        ...       ...  ...   \n",
              "3751.957031         NaN         NaN  3.363003  70.302795  3.159997  NaN   \n",
              "3752.109375         NaN         NaN  3.364997  70.799194  3.158000  NaN   \n",
              "3752.261963         NaN         NaN  3.363006  71.544258  3.158000  NaN   \n",
              "3752.414307         NaN         NaN  3.364537  70.463211  3.158000  NaN   \n",
              "3752.566650         NaN         NaN  1.829987  71.841957  3.158000  NaN   \n",
              "\n",
              "                 RMED WELL_NAME        DEPTH  \n",
              "DEPT                                          \n",
              "493.493134   1.546029   15_9-12   493.493134  \n",
              "493.645538   1.570030   15_9-12   493.645538  \n",
              "493.797943   1.594994   15_9-12   493.797943  \n",
              "493.950348   1.589930   15_9-12   493.950348  \n",
              "494.102722   1.540016   15_9-12   494.102722  \n",
              "...               ...       ...          ...  \n",
              "3751.957031  3.159997   15_9-12  3751.957031  \n",
              "3752.109375  3.158000   15_9-12  3752.109375  \n",
              "3752.261963  3.158000   15_9-12  3752.261963  \n",
              "3752.414307  3.158000   15_9-12  3752.414307  \n",
              "3752.566650  3.158000   15_9-12  3752.566650  \n",
              "\n",
              "[21386 rows x 15 columns]"
            ],
            "text/html": [
              "\n",
              "  <div id=\"df-7791ac1c-748d-43fd-aad6-749eb74314aa\">\n",
              "    <div class=\"colab-df-container\">\n",
              "      <div>\n",
              "<style scoped>\n",
              "    .dataframe tbody tr th:only-of-type {\n",
              "        vertical-align: middle;\n",
              "    }\n",
              "\n",
              "    .dataframe tbody tr th {\n",
              "        vertical-align: top;\n",
              "    }\n",
              "\n",
              "    .dataframe thead th {\n",
              "        text-align: right;\n",
              "    }\n",
              "</style>\n",
              "<table border=\"1\" class=\"dataframe\">\n",
              "  <thead>\n",
              "    <tr style=\"text-align: right;\">\n",
              "      <th></th>\n",
              "      <th>LITHOLOGY_GEOLINK</th>\n",
              "      <th>CALI</th>\n",
              "      <th>DRHO</th>\n",
              "      <th>NPHI</th>\n",
              "      <th>RHOB</th>\n",
              "      <th>GR</th>\n",
              "      <th>DTC</th>\n",
              "      <th>DTE</th>\n",
              "      <th>RDEP</th>\n",
              "      <th>SP</th>\n",
              "      <th>RSHA</th>\n",
              "      <th>RXO</th>\n",
              "      <th>RMED</th>\n",
              "      <th>WELL_NAME</th>\n",
              "      <th>DEPTH</th>\n",
              "    </tr>\n",
              "    <tr>\n",
              "      <th>DEPT</th>\n",
              "      <th></th>\n",
              "      <th></th>\n",
              "      <th></th>\n",
              "      <th></th>\n",
              "      <th></th>\n",
              "      <th></th>\n",
              "      <th></th>\n",
              "      <th></th>\n",
              "      <th></th>\n",
              "      <th></th>\n",
              "      <th></th>\n",
              "      <th></th>\n",
              "      <th></th>\n",
              "      <th></th>\n",
              "      <th></th>\n",
              "    </tr>\n",
              "  </thead>\n",
              "  <tbody>\n",
              "    <tr>\n",
              "      <th>493.493134</th>\n",
              "      <td>NaN</td>\n",
              "      <td>19.406000</td>\n",
              "      <td>-0.708</td>\n",
              "      <td>NaN</td>\n",
              "      <td>1.789</td>\n",
              "      <td>64.497482</td>\n",
              "      <td>167.582153</td>\n",
              "      <td>50815100.0</td>\n",
              "      <td>1.574993</td>\n",
              "      <td>0.694700</td>\n",
              "      <td>1.546029</td>\n",
              "      <td>NaN</td>\n",
              "      <td>1.546029</td>\n",
              "      <td>15_9-12</td>\n",
              "      <td>493.493134</td>\n",
              "    </tr>\n",
              "    <tr>\n",
              "      <th>493.645538</th>\n",
              "      <td>NaN</td>\n",
              "      <td>19.406000</td>\n",
              "      <td>-0.722</td>\n",
              "      <td>NaN</td>\n",
              "      <td>1.754</td>\n",
              "      <td>62.406261</td>\n",
              "      <td>167.425064</td>\n",
              "      <td>50761636.0</td>\n",
              "      <td>1.569011</td>\n",
              "      <td>0.445339</td>\n",
              "      <td>1.570030</td>\n",
              "      <td>NaN</td>\n",
              "      <td>1.570030</td>\n",
              "      <td>15_9-12</td>\n",
              "      <td>493.645538</td>\n",
              "    </tr>\n",
              "    <tr>\n",
              "      <th>493.797943</th>\n",
              "      <td>NaN</td>\n",
              "      <td>19.406000</td>\n",
              "      <td>-0.620</td>\n",
              "      <td>NaN</td>\n",
              "      <td>1.778</td>\n",
              "      <td>62.629055</td>\n",
              "      <td>167.808395</td>\n",
              "      <td>50886056.0</td>\n",
              "      <td>1.578010</td>\n",
              "      <td>0.727901</td>\n",
              "      <td>1.594994</td>\n",
              "      <td>NaN</td>\n",
              "      <td>1.594994</td>\n",
              "      <td>15_9-12</td>\n",
              "      <td>493.797943</td>\n",
              "    </tr>\n",
              "    <tr>\n",
              "      <th>493.950348</th>\n",
              "      <td>NaN</td>\n",
              "      <td>19.452999</td>\n",
              "      <td>-0.648</td>\n",
              "      <td>NaN</td>\n",
              "      <td>1.642</td>\n",
              "      <td>65.998596</td>\n",
              "      <td>169.244873</td>\n",
              "      <td>51314492.0</td>\n",
              "      <td>1.586024</td>\n",
              "      <td>1.474898</td>\n",
              "      <td>1.589930</td>\n",
              "      <td>NaN</td>\n",
              "      <td>1.589930</td>\n",
              "      <td>15_9-12</td>\n",
              "      <td>493.950348</td>\n",
              "    </tr>\n",
              "    <tr>\n",
              "      <th>494.102722</th>\n",
              "      <td>NaN</td>\n",
              "      <td>19.452999</td>\n",
              "      <td>-0.685</td>\n",
              "      <td>NaN</td>\n",
              "      <td>1.563</td>\n",
              "      <td>64.997223</td>\n",
              "      <td>170.635086</td>\n",
              "      <td>51763464.0</td>\n",
              "      <td>1.603011</td>\n",
              "      <td>-0.023000</td>\n",
              "      <td>1.540016</td>\n",
              "      <td>NaN</td>\n",
              "      <td>1.540016</td>\n",
              "      <td>15_9-12</td>\n",
              "      <td>494.102722</td>\n",
              "    </tr>\n",
              "    <tr>\n",
              "      <th>...</th>\n",
              "      <td>...</td>\n",
              "      <td>...</td>\n",
              "      <td>...</td>\n",
              "      <td>...</td>\n",
              "      <td>...</td>\n",
              "      <td>...</td>\n",
              "      <td>...</td>\n",
              "      <td>...</td>\n",
              "      <td>...</td>\n",
              "      <td>...</td>\n",
              "      <td>...</td>\n",
              "      <td>...</td>\n",
              "      <td>...</td>\n",
              "      <td>...</td>\n",
              "      <td>...</td>\n",
              "    </tr>\n",
              "    <tr>\n",
              "      <th>3751.957031</th>\n",
              "      <td>NaN</td>\n",
              "      <td>7.555000</td>\n",
              "      <td>0.085</td>\n",
              "      <td>0.13574</td>\n",
              "      <td>2.586</td>\n",
              "      <td>NaN</td>\n",
              "      <td>NaN</td>\n",
              "      <td>NaN</td>\n",
              "      <td>3.363003</td>\n",
              "      <td>70.302795</td>\n",
              "      <td>3.159997</td>\n",
              "      <td>NaN</td>\n",
              "      <td>3.159997</td>\n",
              "      <td>15_9-12</td>\n",
              "      <td>3751.957031</td>\n",
              "    </tr>\n",
              "    <tr>\n",
              "      <th>3752.109375</th>\n",
              "      <td>NaN</td>\n",
              "      <td>7.555000</td>\n",
              "      <td>0.085</td>\n",
              "      <td>0.13574</td>\n",
              "      <td>2.586</td>\n",
              "      <td>NaN</td>\n",
              "      <td>NaN</td>\n",
              "      <td>NaN</td>\n",
              "      <td>3.364997</td>\n",
              "      <td>70.799194</td>\n",
              "      <td>3.158000</td>\n",
              "      <td>NaN</td>\n",
              "      <td>3.158000</td>\n",
              "      <td>15_9-12</td>\n",
              "      <td>3752.109375</td>\n",
              "    </tr>\n",
              "    <tr>\n",
              "      <th>3752.261963</th>\n",
              "      <td>NaN</td>\n",
              "      <td>7.555000</td>\n",
              "      <td>0.085</td>\n",
              "      <td>0.13574</td>\n",
              "      <td>2.586</td>\n",
              "      <td>NaN</td>\n",
              "      <td>NaN</td>\n",
              "      <td>NaN</td>\n",
              "      <td>3.363006</td>\n",
              "      <td>71.544258</td>\n",
              "      <td>3.158000</td>\n",
              "      <td>NaN</td>\n",
              "      <td>3.158000</td>\n",
              "      <td>15_9-12</td>\n",
              "      <td>3752.261963</td>\n",
              "    </tr>\n",
              "    <tr>\n",
              "      <th>3752.414307</th>\n",
              "      <td>NaN</td>\n",
              "      <td>7.555000</td>\n",
              "      <td>0.085</td>\n",
              "      <td>0.13574</td>\n",
              "      <td>2.586</td>\n",
              "      <td>NaN</td>\n",
              "      <td>NaN</td>\n",
              "      <td>NaN</td>\n",
              "      <td>3.364537</td>\n",
              "      <td>70.463211</td>\n",
              "      <td>3.158000</td>\n",
              "      <td>NaN</td>\n",
              "      <td>3.158000</td>\n",
              "      <td>15_9-12</td>\n",
              "      <td>3752.414307</td>\n",
              "    </tr>\n",
              "    <tr>\n",
              "      <th>3752.566650</th>\n",
              "      <td>NaN</td>\n",
              "      <td>7.555000</td>\n",
              "      <td>0.085</td>\n",
              "      <td>0.13574</td>\n",
              "      <td>2.586</td>\n",
              "      <td>NaN</td>\n",
              "      <td>NaN</td>\n",
              "      <td>NaN</td>\n",
              "      <td>1.829987</td>\n",
              "      <td>71.841957</td>\n",
              "      <td>3.158000</td>\n",
              "      <td>NaN</td>\n",
              "      <td>3.158000</td>\n",
              "      <td>15_9-12</td>\n",
              "      <td>3752.566650</td>\n",
              "    </tr>\n",
              "  </tbody>\n",
              "</table>\n",
              "<p>21386 rows × 15 columns</p>\n",
              "</div>\n",
              "      <button class=\"colab-df-convert\" onclick=\"convertToInteractive('df-7791ac1c-748d-43fd-aad6-749eb74314aa')\"\n",
              "              title=\"Convert this dataframe to an interactive table.\"\n",
              "              style=\"display:none;\">\n",
              "        \n",
              "  <svg xmlns=\"http://www.w3.org/2000/svg\" height=\"24px\"viewBox=\"0 0 24 24\"\n",
              "       width=\"24px\">\n",
              "    <path d=\"M0 0h24v24H0V0z\" fill=\"none\"/>\n",
              "    <path d=\"M18.56 5.44l.94 2.06.94-2.06 2.06-.94-2.06-.94-.94-2.06-.94 2.06-2.06.94zm-11 1L8.5 8.5l.94-2.06 2.06-.94-2.06-.94L8.5 2.5l-.94 2.06-2.06.94zm10 10l.94 2.06.94-2.06 2.06-.94-2.06-.94-.94-2.06-.94 2.06-2.06.94z\"/><path d=\"M17.41 7.96l-1.37-1.37c-.4-.4-.92-.59-1.43-.59-.52 0-1.04.2-1.43.59L10.3 9.45l-7.72 7.72c-.78.78-.78 2.05 0 2.83L4 21.41c.39.39.9.59 1.41.59.51 0 1.02-.2 1.41-.59l7.78-7.78 2.81-2.81c.8-.78.8-2.07 0-2.86zM5.41 20L4 18.59l7.72-7.72 1.47 1.35L5.41 20z\"/>\n",
              "  </svg>\n",
              "      </button>\n",
              "      \n",
              "  <style>\n",
              "    .colab-df-container {\n",
              "      display:flex;\n",
              "      flex-wrap:wrap;\n",
              "      gap: 12px;\n",
              "    }\n",
              "\n",
              "    .colab-df-convert {\n",
              "      background-color: #E8F0FE;\n",
              "      border: none;\n",
              "      border-radius: 50%;\n",
              "      cursor: pointer;\n",
              "      display: none;\n",
              "      fill: #1967D2;\n",
              "      height: 32px;\n",
              "      padding: 0 0 0 0;\n",
              "      width: 32px;\n",
              "    }\n",
              "\n",
              "    .colab-df-convert:hover {\n",
              "      background-color: #E2EBFA;\n",
              "      box-shadow: 0px 1px 2px rgba(60, 64, 67, 0.3), 0px 1px 3px 1px rgba(60, 64, 67, 0.15);\n",
              "      fill: #174EA6;\n",
              "    }\n",
              "\n",
              "    [theme=dark] .colab-df-convert {\n",
              "      background-color: #3B4455;\n",
              "      fill: #D2E3FC;\n",
              "    }\n",
              "\n",
              "    [theme=dark] .colab-df-convert:hover {\n",
              "      background-color: #434B5C;\n",
              "      box-shadow: 0px 1px 3px 1px rgba(0, 0, 0, 0.15);\n",
              "      filter: drop-shadow(0px 1px 2px rgba(0, 0, 0, 0.3));\n",
              "      fill: #FFFFFF;\n",
              "    }\n",
              "  </style>\n",
              "\n",
              "      <script>\n",
              "        const buttonEl =\n",
              "          document.querySelector('#df-7791ac1c-748d-43fd-aad6-749eb74314aa button.colab-df-convert');\n",
              "        buttonEl.style.display =\n",
              "          google.colab.kernel.accessAllowed ? 'block' : 'none';\n",
              "\n",
              "        async function convertToInteractive(key) {\n",
              "          const element = document.querySelector('#df-7791ac1c-748d-43fd-aad6-749eb74314aa');\n",
              "          const dataTable =\n",
              "            await google.colab.kernel.invokeFunction('convertToInteractive',\n",
              "                                                     [key], {});\n",
              "          if (!dataTable) return;\n",
              "\n",
              "          const docLinkHtml = 'Like what you see? Visit the ' +\n",
              "            '<a target=\"_blank\" href=https://colab.research.google.com/notebooks/data_table.ipynb>data table notebook</a>'\n",
              "            + ' to learn more about interactive tables.';\n",
              "          element.innerHTML = '';\n",
              "          dataTable['output_type'] = 'display_data';\n",
              "          await google.colab.output.renderOutput(dataTable, element);\n",
              "          const docLink = document.createElement('div');\n",
              "          docLink.innerHTML = docLinkHtml;\n",
              "          element.appendChild(docLink);\n",
              "        }\n",
              "      </script>\n",
              "    </div>\n",
              "  </div>\n",
              "  "
            ]
          },
          "metadata": {},
          "execution_count": 12
        }
      ]
    },
    {
      "cell_type": "markdown",
      "source": [
        "⚓ The Dataframe is somehow ready, but we need to chck the balance of data among the different features=logs, to see if we keep it or edit the present features."
      ],
      "metadata": {
        "id": "mdmu17aCQ9Gl"
      }
    },
    {
      "cell_type": "markdown",
      "source": [
        "\n",
        "\n",
        "---\n",
        "\n"
      ],
      "metadata": {
        "id": "joKqt7aEQ1n-"
      }
    },
    {
      "cell_type": "markdown",
      "source": [
        "### Feature Selection"
      ],
      "metadata": {
        "id": "Owh6sppRuOlc"
      }
    },
    {
      "cell_type": "code",
      "source": [
        "#Analyzing the data balance of features = logs by well\n",
        "\n",
        "wlist = list(npd_wells_df.keys())\n",
        "unique_logs = []\n",
        "\n",
        "for i in wlist:\n",
        "    temp = npd_wells_df[i].columns\n",
        "    unique_logs.extend(temp)\n",
        "\n",
        "unique_logs = list(set(unique_logs))\n",
        "\n",
        "print('List of unique logs: ', unique_logs, '\\n')\n",
        "print('Number of unique logs: ', len(unique_logs))"
      ],
      "metadata": {
        "colab": {
          "base_uri": "https://localhost:8080/"
        },
        "id": "x_MXS1MjxQhj",
        "outputId": "de99d0f7-f62d-42bb-a7ae-1146df82c8be"
      },
      "execution_count": null,
      "outputs": [
        {
          "output_type": "stream",
          "name": "stdout",
          "text": [
            "List of unique logs:  ['BS', 'MUDWEIGHT', 'DCAL', 'DTS', 'WELL_NAME', 'DEPTH', 'ROP', 'RDEP', 'NPHI', 'DTE', 'GR', 'SGR', 'DT', 'TGAS', 'RXO', 'URAN', 'RHOB', 'LITHOLOGY_GEOLINK', 'DTC', 'PEF', 'RHOM', 'CGR', 'THOR', 'RMIC', 'RSHA', 'SP', 'DRHO', 'RMED', 'CALI'] \n",
            "\n",
            "Number of unique logs:  29\n"
          ]
        }
      ]
    },
    {
      "cell_type": "code",
      "source": [
        "#counting the feature presence FREQUENCY in the 223 files = parts of the big npd_wells_df dictionary\n",
        "\n",
        "log_dict = dict.fromkeys(unique_logs, 0)\n",
        "\n",
        "for l in list(log_dict.keys()):                       # log_dict                            {'GR': 0,'DCAL': 0,'URAN': 0,'TGAS': 0, ....}\n",
        "    \n",
        "    for w in npd_wells_df.keys():                     # npd_wells_df.keys()                 ['25_8-9', '31_4-2', '25_6-2', '30_3-4 R', '34_7-15 S', ....]\n",
        "\n",
        "        if l in npd_wells_df[w].columns:              # npd_wells_df['15_9-12'].columns     ['LITHOLOGY_GEOLINK', 'CALI', 'DRHO', 'NPHI', 'RHOB', 'GR', 'DTC', 'DTE','RDEP', 'SP', 'RSHA', 'RXO', 'RMED', 'WELL_NAME', 'DEPTH']\n",
        "\n",
        "            log_dict[l] = log_dict[l] + 1             # increment the matching feature = column name by 1\n",
        "\n",
        "\n",
        "print(log_dict)"
      ],
      "metadata": {
        "colab": {
          "base_uri": "https://localhost:8080/"
        },
        "id": "YlYLoqynxdZB",
        "outputId": "50de3995-c6dd-4baa-e6fc-8af8a0d8ce41"
      },
      "execution_count": null,
      "outputs": [
        {
          "output_type": "stream",
          "name": "stdout",
          "text": [
            "{'BS': 106, 'MUDWEIGHT': 14, 'DCAL': 35, 'DTS': 49, 'WELL_NAME': 223, 'DEPTH': 223, 'ROP': 53, 'RDEP': 204, 'NPHI': 188, 'DTE': 59, 'GR': 205, 'SGR': 18, 'DT': 7, 'TGAS': 1, 'RXO': 14, 'URAN': 34, 'RHOB': 200, 'LITHOLOGY_GEOLINK': 223, 'DTC': 198, 'PEF': 91, 'RHOM': 4, 'CGR': 1, 'THOR': 34, 'RMIC': 35, 'RSHA': 154, 'SP': 147, 'DRHO': 187, 'RMED': 200, 'CALI': 196}\n"
          ]
        }
      ]
    },
    {
      "cell_type": "code",
      "source": [
        "#using the frequency dict in a df creation to visualize each feature's presence percentage\n",
        "\n",
        "log_df = pd.DataFrame(log_dict.items(), columns=['logs', 'count'])\n",
        "log_df['percent'] = (log_df['count'] / 223)*100\n",
        "\n",
        "log_df.head()"
      ],
      "metadata": {
        "colab": {
          "base_uri": "https://localhost:8080/",
          "height": 206
        },
        "id": "RZxHw6oExl-4",
        "outputId": "05c78d74-3636-4d5a-d67e-55ec57a1151b"
      },
      "execution_count": null,
      "outputs": [
        {
          "output_type": "execute_result",
          "data": {
            "text/plain": [
              "        logs  count     percent\n",
              "0         BS    106   47.533632\n",
              "1  MUDWEIGHT     14    6.278027\n",
              "2       DCAL     35   15.695067\n",
              "3        DTS     49   21.973094\n",
              "4  WELL_NAME    223  100.000000"
            ],
            "text/html": [
              "\n",
              "  <div id=\"df-f6b98321-e292-4a7e-b2f3-0c521949c96b\">\n",
              "    <div class=\"colab-df-container\">\n",
              "      <div>\n",
              "<style scoped>\n",
              "    .dataframe tbody tr th:only-of-type {\n",
              "        vertical-align: middle;\n",
              "    }\n",
              "\n",
              "    .dataframe tbody tr th {\n",
              "        vertical-align: top;\n",
              "    }\n",
              "\n",
              "    .dataframe thead th {\n",
              "        text-align: right;\n",
              "    }\n",
              "</style>\n",
              "<table border=\"1\" class=\"dataframe\">\n",
              "  <thead>\n",
              "    <tr style=\"text-align: right;\">\n",
              "      <th></th>\n",
              "      <th>logs</th>\n",
              "      <th>count</th>\n",
              "      <th>percent</th>\n",
              "    </tr>\n",
              "  </thead>\n",
              "  <tbody>\n",
              "    <tr>\n",
              "      <th>0</th>\n",
              "      <td>BS</td>\n",
              "      <td>106</td>\n",
              "      <td>47.533632</td>\n",
              "    </tr>\n",
              "    <tr>\n",
              "      <th>1</th>\n",
              "      <td>MUDWEIGHT</td>\n",
              "      <td>14</td>\n",
              "      <td>6.278027</td>\n",
              "    </tr>\n",
              "    <tr>\n",
              "      <th>2</th>\n",
              "      <td>DCAL</td>\n",
              "      <td>35</td>\n",
              "      <td>15.695067</td>\n",
              "    </tr>\n",
              "    <tr>\n",
              "      <th>3</th>\n",
              "      <td>DTS</td>\n",
              "      <td>49</td>\n",
              "      <td>21.973094</td>\n",
              "    </tr>\n",
              "    <tr>\n",
              "      <th>4</th>\n",
              "      <td>WELL_NAME</td>\n",
              "      <td>223</td>\n",
              "      <td>100.000000</td>\n",
              "    </tr>\n",
              "  </tbody>\n",
              "</table>\n",
              "</div>\n",
              "      <button class=\"colab-df-convert\" onclick=\"convertToInteractive('df-f6b98321-e292-4a7e-b2f3-0c521949c96b')\"\n",
              "              title=\"Convert this dataframe to an interactive table.\"\n",
              "              style=\"display:none;\">\n",
              "        \n",
              "  <svg xmlns=\"http://www.w3.org/2000/svg\" height=\"24px\"viewBox=\"0 0 24 24\"\n",
              "       width=\"24px\">\n",
              "    <path d=\"M0 0h24v24H0V0z\" fill=\"none\"/>\n",
              "    <path d=\"M18.56 5.44l.94 2.06.94-2.06 2.06-.94-2.06-.94-.94-2.06-.94 2.06-2.06.94zm-11 1L8.5 8.5l.94-2.06 2.06-.94-2.06-.94L8.5 2.5l-.94 2.06-2.06.94zm10 10l.94 2.06.94-2.06 2.06-.94-2.06-.94-.94-2.06-.94 2.06-2.06.94z\"/><path d=\"M17.41 7.96l-1.37-1.37c-.4-.4-.92-.59-1.43-.59-.52 0-1.04.2-1.43.59L10.3 9.45l-7.72 7.72c-.78.78-.78 2.05 0 2.83L4 21.41c.39.39.9.59 1.41.59.51 0 1.02-.2 1.41-.59l7.78-7.78 2.81-2.81c.8-.78.8-2.07 0-2.86zM5.41 20L4 18.59l7.72-7.72 1.47 1.35L5.41 20z\"/>\n",
              "  </svg>\n",
              "      </button>\n",
              "      \n",
              "  <style>\n",
              "    .colab-df-container {\n",
              "      display:flex;\n",
              "      flex-wrap:wrap;\n",
              "      gap: 12px;\n",
              "    }\n",
              "\n",
              "    .colab-df-convert {\n",
              "      background-color: #E8F0FE;\n",
              "      border: none;\n",
              "      border-radius: 50%;\n",
              "      cursor: pointer;\n",
              "      display: none;\n",
              "      fill: #1967D2;\n",
              "      height: 32px;\n",
              "      padding: 0 0 0 0;\n",
              "      width: 32px;\n",
              "    }\n",
              "\n",
              "    .colab-df-convert:hover {\n",
              "      background-color: #E2EBFA;\n",
              "      box-shadow: 0px 1px 2px rgba(60, 64, 67, 0.3), 0px 1px 3px 1px rgba(60, 64, 67, 0.15);\n",
              "      fill: #174EA6;\n",
              "    }\n",
              "\n",
              "    [theme=dark] .colab-df-convert {\n",
              "      background-color: #3B4455;\n",
              "      fill: #D2E3FC;\n",
              "    }\n",
              "\n",
              "    [theme=dark] .colab-df-convert:hover {\n",
              "      background-color: #434B5C;\n",
              "      box-shadow: 0px 1px 3px 1px rgba(0, 0, 0, 0.15);\n",
              "      filter: drop-shadow(0px 1px 2px rgba(0, 0, 0, 0.3));\n",
              "      fill: #FFFFFF;\n",
              "    }\n",
              "  </style>\n",
              "\n",
              "      <script>\n",
              "        const buttonEl =\n",
              "          document.querySelector('#df-f6b98321-e292-4a7e-b2f3-0c521949c96b button.colab-df-convert');\n",
              "        buttonEl.style.display =\n",
              "          google.colab.kernel.accessAllowed ? 'block' : 'none';\n",
              "\n",
              "        async function convertToInteractive(key) {\n",
              "          const element = document.querySelector('#df-f6b98321-e292-4a7e-b2f3-0c521949c96b');\n",
              "          const dataTable =\n",
              "            await google.colab.kernel.invokeFunction('convertToInteractive',\n",
              "                                                     [key], {});\n",
              "          if (!dataTable) return;\n",
              "\n",
              "          const docLinkHtml = 'Like what you see? Visit the ' +\n",
              "            '<a target=\"_blank\" href=https://colab.research.google.com/notebooks/data_table.ipynb>data table notebook</a>'\n",
              "            + ' to learn more about interactive tables.';\n",
              "          element.innerHTML = '';\n",
              "          dataTable['output_type'] = 'display_data';\n",
              "          await google.colab.output.renderOutput(dataTable, element);\n",
              "          const docLink = document.createElement('div');\n",
              "          docLink.innerHTML = docLinkHtml;\n",
              "          element.appendChild(docLink);\n",
              "        }\n",
              "      </script>\n",
              "    </div>\n",
              "  </div>\n",
              "  "
            ]
          },
          "metadata": {},
          "execution_count": 15
        }
      ]
    },
    {
      "cell_type": "code",
      "source": [
        "plt.figure(figsize=(30,10))\n",
        "sns.barplot(x='logs', y='percent', data=log_df)"
      ],
      "metadata": {
        "colab": {
          "base_uri": "https://localhost:8080/",
          "height": 490
        },
        "id": "A4DIK0Idxo0E",
        "outputId": "4faf8631-1fbe-471a-8a4a-ece3dbdbcdf8"
      },
      "execution_count": null,
      "outputs": [
        {
          "output_type": "execute_result",
          "data": {
            "text/plain": [
              "<matplotlib.axes._subplots.AxesSubplot at 0x7ff102b7b150>"
            ]
          },
          "metadata": {},
          "execution_count": 16
        },
        {
          "output_type": "display_data",
          "data": {
            "text/plain": [
              "<Figure size 2160x720 with 1 Axes>"
            ],
            "image/png": "[encoded data removed]"
          },
          "metadata": {
            "needs_background": "light"
          }
        }
      ]
    },
    {
      "cell_type": "markdown",
      "source": [
        "We will select **the most frequent features**=logs:\n",
        "\n",
        "['DEPTH','LITHOLOGY_GEOLINK', 'CALI', 'NPHI', 'RHOB', 'GR', 'DTC', 'RDEP', 'RMED', 'WELL_NAME']"
      ],
      "metadata": {
        "id": "I1e5pBDevko9"
      }
    },
    {
      "cell_type": "markdown",
      "source": [
        "\n",
        "\n",
        "---\n",
        "\n"
      ],
      "metadata": {
        "id": "UyfKu6syFKbd"
      }
    },
    {
      "cell_type": "markdown",
      "source": [
        "### Finalizing Dataframe"
      ],
      "metadata": {
        "id": "rkLAOloWvye6"
      }
    },
    {
      "cell_type": "code",
      "source": [
        "# selected logs\n",
        "logs_list = ['DEPTH','LITHOLOGY_GEOLINK', 'CALI', 'NPHI', 'RHOB', 'GR', 'DTC', 'RDEP', 'RMED', 'WELL_NAME']\n",
        "\n",
        "#creating an empty dataframe\n",
        "df_main = pd.DataFrame(columns= logs_list)\n",
        "\n",
        "#filling dataframe\n",
        "for id in list(npd_wells_df.keys()):                                                    # npd_wells_df.keys()     ['25_8-9', '31_4-2', '25_6-2', '30_3-4 R', '34_7-15 S', ...]\n",
        "\n",
        "  matching_logs_list = []\n",
        "  for i in range(len(logs_list)):\n",
        "    if logs_list[i] in npd_wells_df[id].columns:                                        # npd_wells_df['15_9-12'].columns     ['LITHOLOGY_GEOLINK', 'CALI', 'DRHO', 'NPHI', 'RHOB', 'GR', 'DTC', 'DTE','RDEP', 'SP', 'RSHA', 'RXO', 'RMED', 'WELL_NAME', 'DEPTH']\n",
        "\n",
        "      matching_logs_list.append(logs_list[i])                                           # Adding the matching logs to a selection list\n",
        "\n",
        "  df_main = df_main.append(npd_wells_df[id][matching_logs_list], ignore_index=True)     # Appending data of matching_logs_list columns, to a new df, from the old df"
      ],
      "metadata": {
        "id": "YWvwzbewFM_x"
      },
      "execution_count": null,
      "outputs": []
    },
    {
      "cell_type": "code",
      "source": [
        "print(df_main.shape)\n",
        "df_main.head(3)"
      ],
      "metadata": {
        "colab": {
          "base_uri": "https://localhost:8080/",
          "height": 161
        },
        "id": "ivbMFX0xLL0n",
        "outputId": "fb61b075-9ec5-4070-e6d4-e36f0236b434"
      },
      "execution_count": null,
      "outputs": [
        {
          "output_type": "stream",
          "name": "stdout",
          "text": [
            "(3147162, 10)\n"
          ]
        },
        {
          "output_type": "execute_result",
          "data": {
            "text/plain": [
              "         DEPTH  LITHOLOGY_GEOLINK       CALI      NPHI   RHOB         GR  \\\n",
              "0  1150.001831                NaN  12.992999  0.609459  1.993        NaN   \n",
              "1  1150.154297                NaN  13.020000  0.575707  1.974  76.547997   \n",
              "2  1150.306641                NaN  13.057000  0.533268  2.012  80.304985   \n",
              "\n",
              "         DTC        RDEP      RMED WELL_NAME  \n",
              "0  89.681007         NaN       NaN  35_11-10  \n",
              "1  88.305000  691.920349  0.882822  35_11-10  \n",
              "2  89.204002  729.229492  1.385391  35_11-10  "
            ],
            "text/html": [
              "\n",
              "  <div id=\"df-a998a751-44e0-4858-95ec-84072d279af4\">\n",
              "    <div class=\"colab-df-container\">\n",
              "      <div>\n",
              "<style scoped>\n",
              "    .dataframe tbody tr th:only-of-type {\n",
              "        vertical-align: middle;\n",
              "    }\n",
              "\n",
              "    .dataframe tbody tr th {\n",
              "        vertical-align: top;\n",
              "    }\n",
              "\n",
              "    .dataframe thead th {\n",
              "        text-align: right;\n",
              "    }\n",
              "</style>\n",
              "<table border=\"1\" class=\"dataframe\">\n",
              "  <thead>\n",
              "    <tr style=\"text-align: right;\">\n",
              "      <th></th>\n",
              "      <th>DEPTH</th>\n",
              "      <th>LITHOLOGY_GEOLINK</th>\n",
              "      <th>CALI</th>\n",
              "      <th>NPHI</th>\n",
              "      <th>RHOB</th>\n",
              "      <th>GR</th>\n",
              "      <th>DTC</th>\n",
              "      <th>RDEP</th>\n",
              "      <th>RMED</th>\n",
              "      <th>WELL_NAME</th>\n",
              "    </tr>\n",
              "  </thead>\n",
              "  <tbody>\n",
              "    <tr>\n",
              "      <th>0</th>\n",
              "      <td>1150.001831</td>\n",
              "      <td>NaN</td>\n",
              "      <td>12.992999</td>\n",
              "      <td>0.609459</td>\n",
              "      <td>1.993</td>\n",
              "      <td>NaN</td>\n",
              "      <td>89.681007</td>\n",
              "      <td>NaN</td>\n",
              "      <td>NaN</td>\n",
              "      <td>35_11-10</td>\n",
              "    </tr>\n",
              "    <tr>\n",
              "      <th>1</th>\n",
              "      <td>1150.154297</td>\n",
              "      <td>NaN</td>\n",
              "      <td>13.020000</td>\n",
              "      <td>0.575707</td>\n",
              "      <td>1.974</td>\n",
              "      <td>76.547997</td>\n",
              "      <td>88.305000</td>\n",
              "      <td>691.920349</td>\n",
              "      <td>0.882822</td>\n",
              "      <td>35_11-10</td>\n",
              "    </tr>\n",
              "    <tr>\n",
              "      <th>2</th>\n",
              "      <td>1150.306641</td>\n",
              "      <td>NaN</td>\n",
              "      <td>13.057000</td>\n",
              "      <td>0.533268</td>\n",
              "      <td>2.012</td>\n",
              "      <td>80.304985</td>\n",
              "      <td>89.204002</td>\n",
              "      <td>729.229492</td>\n",
              "      <td>1.385391</td>\n",
              "      <td>35_11-10</td>\n",
              "    </tr>\n",
              "  </tbody>\n",
              "</table>\n",
              "</div>\n",
              "      <button class=\"colab-df-convert\" onclick=\"convertToInteractive('df-a998a751-44e0-4858-95ec-84072d279af4')\"\n",
              "              title=\"Convert this dataframe to an interactive table.\"\n",
              "              style=\"display:none;\">\n",
              "        \n",
              "  <svg xmlns=\"http://www.w3.org/2000/svg\" height=\"24px\"viewBox=\"0 0 24 24\"\n",
              "       width=\"24px\">\n",
              "    <path d=\"M0 0h24v24H0V0z\" fill=\"none\"/>\n",
              "    <path d=\"M18.56 5.44l.94 2.06.94-2.06 2.06-.94-2.06-.94-.94-2.06-.94 2.06-2.06.94zm-11 1L8.5 8.5l.94-2.06 2.06-.94-2.06-.94L8.5 2.5l-.94 2.06-2.06.94zm10 10l.94 2.06.94-2.06 2.06-.94-2.06-.94-.94-2.06-.94 2.06-2.06.94z\"/><path d=\"M17.41 7.96l-1.37-1.37c-.4-.4-.92-.59-1.43-.59-.52 0-1.04.2-1.43.59L10.3 9.45l-7.72 7.72c-.78.78-.78 2.05 0 2.83L4 21.41c.39.39.9.59 1.41.59.51 0 1.02-.2 1.41-.59l7.78-7.78 2.81-2.81c.8-.78.8-2.07 0-2.86zM5.41 20L4 18.59l7.72-7.72 1.47 1.35L5.41 20z\"/>\n",
              "  </svg>\n",
              "      </button>\n",
              "      \n",
              "  <style>\n",
              "    .colab-df-container {\n",
              "      display:flex;\n",
              "      flex-wrap:wrap;\n",
              "      gap: 12px;\n",
              "    }\n",
              "\n",
              "    .colab-df-convert {\n",
              "      background-color: #E8F0FE;\n",
              "      border: none;\n",
              "      border-radius: 50%;\n",
              "      cursor: pointer;\n",
              "      display: none;\n",
              "      fill: #1967D2;\n",
              "      height: 32px;\n",
              "      padding: 0 0 0 0;\n",
              "      width: 32px;\n",
              "    }\n",
              "\n",
              "    .colab-df-convert:hover {\n",
              "      background-color: #E2EBFA;\n",
              "      box-shadow: 0px 1px 2px rgba(60, 64, 67, 0.3), 0px 1px 3px 1px rgba(60, 64, 67, 0.15);\n",
              "      fill: #174EA6;\n",
              "    }\n",
              "\n",
              "    [theme=dark] .colab-df-convert {\n",
              "      background-color: #3B4455;\n",
              "      fill: #D2E3FC;\n",
              "    }\n",
              "\n",
              "    [theme=dark] .colab-df-convert:hover {\n",
              "      background-color: #434B5C;\n",
              "      box-shadow: 0px 1px 3px 1px rgba(0, 0, 0, 0.15);\n",
              "      filter: drop-shadow(0px 1px 2px rgba(0, 0, 0, 0.3));\n",
              "      fill: #FFFFFF;\n",
              "    }\n",
              "  </style>\n",
              "\n",
              "      <script>\n",
              "        const buttonEl =\n",
              "          document.querySelector('#df-a998a751-44e0-4858-95ec-84072d279af4 button.colab-df-convert');\n",
              "        buttonEl.style.display =\n",
              "          google.colab.kernel.accessAllowed ? 'block' : 'none';\n",
              "\n",
              "        async function convertToInteractive(key) {\n",
              "          const element = document.querySelector('#df-a998a751-44e0-4858-95ec-84072d279af4');\n",
              "          const dataTable =\n",
              "            await google.colab.kernel.invokeFunction('convertToInteractive',\n",
              "                                                     [key], {});\n",
              "          if (!dataTable) return;\n",
              "\n",
              "          const docLinkHtml = 'Like what you see? Visit the ' +\n",
              "            '<a target=\"_blank\" href=https://colab.research.google.com/notebooks/data_table.ipynb>data table notebook</a>'\n",
              "            + ' to learn more about interactive tables.';\n",
              "          element.innerHTML = '';\n",
              "          dataTable['output_type'] = 'display_data';\n",
              "          await google.colab.output.renderOutput(dataTable, element);\n",
              "          const docLink = document.createElement('div');\n",
              "          docLink.innerHTML = docLinkHtml;\n",
              "          element.appendChild(docLink);\n",
              "        }\n",
              "      </script>\n",
              "    </div>\n",
              "  </div>\n",
              "  "
            ]
          },
          "metadata": {},
          "execution_count": 18
        }
      ]
    },
    {
      "cell_type": "code",
      "source": [
        "df_main.tail(3)"
      ],
      "metadata": {
        "colab": {
          "base_uri": "https://localhost:8080/",
          "height": 143
        },
        "id": "oD21d5E1JSt2",
        "outputId": "271b8e07-95dd-4be0-f3bf-0fc5477c8a90"
      },
      "execution_count": null,
      "outputs": [
        {
          "output_type": "execute_result",
          "data": {
            "text/plain": [
              "               DEPTH  LITHOLOGY_GEOLINK   CALI    NPHI   RHOB  GR  DTC   RDEP  \\\n",
              "3147159  2802.968994                NaN  8.641  0.0752 -1.712 NaN  NaN  4.293   \n",
              "3147160  2803.121338                NaN  8.641  0.0752 -1.712 NaN  NaN    NaN   \n",
              "3147161  2803.273926                NaN  8.641  0.0752 -1.712 NaN  NaN    NaN   \n",
              "\n",
              "         RMED WELL_NAME  \n",
              "3147159   NaN  34_10-12  \n",
              "3147160   NaN  34_10-12  \n",
              "3147161   NaN  34_10-12  "
            ],
            "text/html": [
              "\n",
              "  <div id=\"df-b6a5ec38-1cc6-4c2e-b02d-ead1c72f8ee9\">\n",
              "    <div class=\"colab-df-container\">\n",
              "      <div>\n",
              "<style scoped>\n",
              "    .dataframe tbody tr th:only-of-type {\n",
              "        vertical-align: middle;\n",
              "    }\n",
              "\n",
              "    .dataframe tbody tr th {\n",
              "        vertical-align: top;\n",
              "    }\n",
              "\n",
              "    .dataframe thead th {\n",
              "        text-align: right;\n",
              "    }\n",
              "</style>\n",
              "<table border=\"1\" class=\"dataframe\">\n",
              "  <thead>\n",
              "    <tr style=\"text-align: right;\">\n",
              "      <th></th>\n",
              "      <th>DEPTH</th>\n",
              "      <th>LITHOLOGY_GEOLINK</th>\n",
              "      <th>CALI</th>\n",
              "      <th>NPHI</th>\n",
              "      <th>RHOB</th>\n",
              "      <th>GR</th>\n",
              "      <th>DTC</th>\n",
              "      <th>RDEP</th>\n",
              "      <th>RMED</th>\n",
              "      <th>WELL_NAME</th>\n",
              "    </tr>\n",
              "  </thead>\n",
              "  <tbody>\n",
              "    <tr>\n",
              "      <th>3147159</th>\n",
              "      <td>2802.968994</td>\n",
              "      <td>NaN</td>\n",
              "      <td>8.641</td>\n",
              "      <td>0.0752</td>\n",
              "      <td>-1.712</td>\n",
              "      <td>NaN</td>\n",
              "      <td>NaN</td>\n",
              "      <td>4.293</td>\n",
              "      <td>NaN</td>\n",
              "      <td>34_10-12</td>\n",
              "    </tr>\n",
              "    <tr>\n",
              "      <th>3147160</th>\n",
              "      <td>2803.121338</td>\n",
              "      <td>NaN</td>\n",
              "      <td>8.641</td>\n",
              "      <td>0.0752</td>\n",
              "      <td>-1.712</td>\n",
              "      <td>NaN</td>\n",
              "      <td>NaN</td>\n",
              "      <td>NaN</td>\n",
              "      <td>NaN</td>\n",
              "      <td>34_10-12</td>\n",
              "    </tr>\n",
              "    <tr>\n",
              "      <th>3147161</th>\n",
              "      <td>2803.273926</td>\n",
              "      <td>NaN</td>\n",
              "      <td>8.641</td>\n",
              "      <td>0.0752</td>\n",
              "      <td>-1.712</td>\n",
              "      <td>NaN</td>\n",
              "      <td>NaN</td>\n",
              "      <td>NaN</td>\n",
              "      <td>NaN</td>\n",
              "      <td>34_10-12</td>\n",
              "    </tr>\n",
              "  </tbody>\n",
              "</table>\n",
              "</div>\n",
              "      <button class=\"colab-df-convert\" onclick=\"convertToInteractive('df-b6a5ec38-1cc6-4c2e-b02d-ead1c72f8ee9')\"\n",
              "              title=\"Convert this dataframe to an interactive table.\"\n",
              "              style=\"display:none;\">\n",
              "        \n",
              "  <svg xmlns=\"http://www.w3.org/2000/svg\" height=\"24px\"viewBox=\"0 0 24 24\"\n",
              "       width=\"24px\">\n",
              "    <path d=\"M0 0h24v24H0V0z\" fill=\"none\"/>\n",
              "    <path d=\"M18.56 5.44l.94 2.06.94-2.06 2.06-.94-2.06-.94-.94-2.06-.94 2.06-2.06.94zm-11 1L8.5 8.5l.94-2.06 2.06-.94-2.06-.94L8.5 2.5l-.94 2.06-2.06.94zm10 10l.94 2.06.94-2.06 2.06-.94-2.06-.94-.94-2.06-.94 2.06-2.06.94z\"/><path d=\"M17.41 7.96l-1.37-1.37c-.4-.4-.92-.59-1.43-.59-.52 0-1.04.2-1.43.59L10.3 9.45l-7.72 7.72c-.78.78-.78 2.05 0 2.83L4 21.41c.39.39.9.59 1.41.59.51 0 1.02-.2 1.41-.59l7.78-7.78 2.81-2.81c.8-.78.8-2.07 0-2.86zM5.41 20L4 18.59l7.72-7.72 1.47 1.35L5.41 20z\"/>\n",
              "  </svg>\n",
              "      </button>\n",
              "      \n",
              "  <style>\n",
              "    .colab-df-container {\n",
              "      display:flex;\n",
              "      flex-wrap:wrap;\n",
              "      gap: 12px;\n",
              "    }\n",
              "\n",
              "    .colab-df-convert {\n",
              "      background-color: #E8F0FE;\n",
              "      border: none;\n",
              "      border-radius: 50%;\n",
              "      cursor: pointer;\n",
              "      display: none;\n",
              "      fill: #1967D2;\n",
              "      height: 32px;\n",
              "      padding: 0 0 0 0;\n",
              "      width: 32px;\n",
              "    }\n",
              "\n",
              "    .colab-df-convert:hover {\n",
              "      background-color: #E2EBFA;\n",
              "      box-shadow: 0px 1px 2px rgba(60, 64, 67, 0.3), 0px 1px 3px 1px rgba(60, 64, 67, 0.15);\n",
              "      fill: #174EA6;\n",
              "    }\n",
              "\n",
              "    [theme=dark] .colab-df-convert {\n",
              "      background-color: #3B4455;\n",
              "      fill: #D2E3FC;\n",
              "    }\n",
              "\n",
              "    [theme=dark] .colab-df-convert:hover {\n",
              "      background-color: #434B5C;\n",
              "      box-shadow: 0px 1px 3px 1px rgba(0, 0, 0, 0.15);\n",
              "      filter: drop-shadow(0px 1px 2px rgba(0, 0, 0, 0.3));\n",
              "      fill: #FFFFFF;\n",
              "    }\n",
              "  </style>\n",
              "\n",
              "      <script>\n",
              "        const buttonEl =\n",
              "          document.querySelector('#df-b6a5ec38-1cc6-4c2e-b02d-ead1c72f8ee9 button.colab-df-convert');\n",
              "        buttonEl.style.display =\n",
              "          google.colab.kernel.accessAllowed ? 'block' : 'none';\n",
              "\n",
              "        async function convertToInteractive(key) {\n",
              "          const element = document.querySelector('#df-b6a5ec38-1cc6-4c2e-b02d-ead1c72f8ee9');\n",
              "          const dataTable =\n",
              "            await google.colab.kernel.invokeFunction('convertToInteractive',\n",
              "                                                     [key], {});\n",
              "          if (!dataTable) return;\n",
              "\n",
              "          const docLinkHtml = 'Like what you see? Visit the ' +\n",
              "            '<a target=\"_blank\" href=https://colab.research.google.com/notebooks/data_table.ipynb>data table notebook</a>'\n",
              "            + ' to learn more about interactive tables.';\n",
              "          element.innerHTML = '';\n",
              "          dataTable['output_type'] = 'display_data';\n",
              "          await google.colab.output.renderOutput(dataTable, element);\n",
              "          const docLink = document.createElement('div');\n",
              "          docLink.innerHTML = docLinkHtml;\n",
              "          element.appendChild(docLink);\n",
              "        }\n",
              "      </script>\n",
              "    </div>\n",
              "  </div>\n",
              "  "
            ]
          },
          "metadata": {},
          "execution_count": 19
        }
      ]
    },
    {
      "cell_type": "code",
      "source": [
        "df_main.isnull().sum()"
      ],
      "metadata": {
        "colab": {
          "base_uri": "https://localhost:8080/"
        },
        "id": "hJB02lzoJuQy",
        "outputId": "fb45dd13-197d-4d79-aa6f-854c14255a05"
      },
      "execution_count": null,
      "outputs": [
        {
          "output_type": "execute_result",
          "data": {
            "text/plain": [
              "DEPTH                      0\n",
              "LITHOLOGY_GEOLINK    1496212\n",
              "CALI                  204648\n",
              "NPHI                 1253070\n",
              "RHOB                  372447\n",
              "GR                     39105\n",
              "DTC                   210475\n",
              "RDEP                   73604\n",
              "RMED                  202844\n",
              "WELL_NAME                  0\n",
              "dtype: int64"
            ]
          },
          "metadata": {},
          "execution_count": 20
        }
      ]
    },
    {
      "cell_type": "markdown",
      "source": [
        "\n",
        "\n",
        "---\n",
        "\n"
      ],
      "metadata": {
        "id": "IJes5q0Syv-s"
      }
    },
    {
      "cell_type": "markdown",
      "source": [
        "# Exploratory Data Analysis"
      ],
      "metadata": {
        "id": "ajtLgLLnyxNX"
      }
    },
    {
      "cell_type": "markdown",
      "source": [
        "## General Statistics"
      ],
      "metadata": {
        "id": "9yyY_os9zxQb"
      }
    },
    {
      "cell_type": "code",
      "source": [
        "df_main.head()"
      ],
      "metadata": {
        "id": "r37qMTmz4SAH",
        "outputId": "a1080010-39e1-4a9d-e5c1-a37a9a17dcbc",
        "colab": {
          "base_uri": "https://localhost:8080/",
          "height": 206
        }
      },
      "execution_count": null,
      "outputs": [
        {
          "output_type": "execute_result",
          "data": {
            "text/plain": [
              "         DEPTH  LITHOLOGY_GEOLINK       CALI      NPHI   RHOB         GR  \\\n",
              "0  1150.001831                NaN  12.992999  0.609459  1.993        NaN   \n",
              "1  1150.154297                NaN  13.020000  0.575707  1.974  76.547997   \n",
              "2  1150.306641                NaN  13.057000  0.533268  2.012  80.304985   \n",
              "3  1150.458984                NaN  13.058001  0.517751  1.997  80.808594   \n",
              "4  1150.611450                NaN  13.057000  0.495189  1.989  83.272003   \n",
              "\n",
              "         DTC        RDEP      RMED WELL_NAME  \n",
              "0  89.681007         NaN       NaN  35_11-10  \n",
              "1  88.305000  691.920349  0.882822  35_11-10  \n",
              "2  89.204002  729.229492  1.385391  35_11-10  \n",
              "3  86.650002  863.258118  1.374052  35_11-10  \n",
              "4  87.490005    8.905299  1.669051  35_11-10  "
            ],
            "text/html": [
              "\n",
              "  <div id=\"df-e8b83ce6-1388-4d33-ab05-5ce4bc0594cf\">\n",
              "    <div class=\"colab-df-container\">\n",
              "      <div>\n",
              "<style scoped>\n",
              "    .dataframe tbody tr th:only-of-type {\n",
              "        vertical-align: middle;\n",
              "    }\n",
              "\n",
              "    .dataframe tbody tr th {\n",
              "        vertical-align: top;\n",
              "    }\n",
              "\n",
              "    .dataframe thead th {\n",
              "        text-align: right;\n",
              "    }\n",
              "</style>\n",
              "<table border=\"1\" class=\"dataframe\">\n",
              "  <thead>\n",
              "    <tr style=\"text-align: right;\">\n",
              "      <th></th>\n",
              "      <th>DEPTH</th>\n",
              "      <th>LITHOLOGY_GEOLINK</th>\n",
              "      <th>CALI</th>\n",
              "      <th>NPHI</th>\n",
              "      <th>RHOB</th>\n",
              "      <th>GR</th>\n",
              "      <th>DTC</th>\n",
              "      <th>RDEP</th>\n",
              "      <th>RMED</th>\n",
              "      <th>WELL_NAME</th>\n",
              "    </tr>\n",
              "  </thead>\n",
              "  <tbody>\n",
              "    <tr>\n",
              "      <th>0</th>\n",
              "      <td>1150.001831</td>\n",
              "      <td>NaN</td>\n",
              "      <td>12.992999</td>\n",
              "      <td>0.609459</td>\n",
              "      <td>1.993</td>\n",
              "      <td>NaN</td>\n",
              "      <td>89.681007</td>\n",
              "      <td>NaN</td>\n",
              "      <td>NaN</td>\n",
              "      <td>35_11-10</td>\n",
              "    </tr>\n",
              "    <tr>\n",
              "      <th>1</th>\n",
              "      <td>1150.154297</td>\n",
              "      <td>NaN</td>\n",
              "      <td>13.020000</td>\n",
              "      <td>0.575707</td>\n",
              "      <td>1.974</td>\n",
              "      <td>76.547997</td>\n",
              "      <td>88.305000</td>\n",
              "      <td>691.920349</td>\n",
              "      <td>0.882822</td>\n",
              "      <td>35_11-10</td>\n",
              "    </tr>\n",
              "    <tr>\n",
              "      <th>2</th>\n",
              "      <td>1150.306641</td>\n",
              "      <td>NaN</td>\n",
              "      <td>13.057000</td>\n",
              "      <td>0.533268</td>\n",
              "      <td>2.012</td>\n",
              "      <td>80.304985</td>\n",
              "      <td>89.204002</td>\n",
              "      <td>729.229492</td>\n",
              "      <td>1.385391</td>\n",
              "      <td>35_11-10</td>\n",
              "    </tr>\n",
              "    <tr>\n",
              "      <th>3</th>\n",
              "      <td>1150.458984</td>\n",
              "      <td>NaN</td>\n",
              "      <td>13.058001</td>\n",
              "      <td>0.517751</td>\n",
              "      <td>1.997</td>\n",
              "      <td>80.808594</td>\n",
              "      <td>86.650002</td>\n",
              "      <td>863.258118</td>\n",
              "      <td>1.374052</td>\n",
              "      <td>35_11-10</td>\n",
              "    </tr>\n",
              "    <tr>\n",
              "      <th>4</th>\n",
              "      <td>1150.611450</td>\n",
              "      <td>NaN</td>\n",
              "      <td>13.057000</td>\n",
              "      <td>0.495189</td>\n",
              "      <td>1.989</td>\n",
              "      <td>83.272003</td>\n",
              "      <td>87.490005</td>\n",
              "      <td>8.905299</td>\n",
              "      <td>1.669051</td>\n",
              "      <td>35_11-10</td>\n",
              "    </tr>\n",
              "  </tbody>\n",
              "</table>\n",
              "</div>\n",
              "      <button class=\"colab-df-convert\" onclick=\"convertToInteractive('df-e8b83ce6-1388-4d33-ab05-5ce4bc0594cf')\"\n",
              "              title=\"Convert this dataframe to an interactive table.\"\n",
              "              style=\"display:none;\">\n",
              "        \n",
              "  <svg xmlns=\"http://www.w3.org/2000/svg\" height=\"24px\"viewBox=\"0 0 24 24\"\n",
              "       width=\"24px\">\n",
              "    <path d=\"M0 0h24v24H0V0z\" fill=\"none\"/>\n",
              "    <path d=\"M18.56 5.44l.94 2.06.94-2.06 2.06-.94-2.06-.94-.94-2.06-.94 2.06-2.06.94zm-11 1L8.5 8.5l.94-2.06 2.06-.94-2.06-.94L8.5 2.5l-.94 2.06-2.06.94zm10 10l.94 2.06.94-2.06 2.06-.94-2.06-.94-.94-2.06-.94 2.06-2.06.94z\"/><path d=\"M17.41 7.96l-1.37-1.37c-.4-.4-.92-.59-1.43-.59-.52 0-1.04.2-1.43.59L10.3 9.45l-7.72 7.72c-.78.78-.78 2.05 0 2.83L4 21.41c.39.39.9.59 1.41.59.51 0 1.02-.2 1.41-.59l7.78-7.78 2.81-2.81c.8-.78.8-2.07 0-2.86zM5.41 20L4 18.59l7.72-7.72 1.47 1.35L5.41 20z\"/>\n",
              "  </svg>\n",
              "      </button>\n",
              "      \n",
              "  <style>\n",
              "    .colab-df-container {\n",
              "      display:flex;\n",
              "      flex-wrap:wrap;\n",
              "      gap: 12px;\n",
              "    }\n",
              "\n",
              "    .colab-df-convert {\n",
              "      background-color: #E8F0FE;\n",
              "      border: none;\n",
              "      border-radius: 50%;\n",
              "      cursor: pointer;\n",
              "      display: none;\n",
              "      fill: #1967D2;\n",
              "      height: 32px;\n",
              "      padding: 0 0 0 0;\n",
              "      width: 32px;\n",
              "    }\n",
              "\n",
              "    .colab-df-convert:hover {\n",
              "      background-color: #E2EBFA;\n",
              "      box-shadow: 0px 1px 2px rgba(60, 64, 67, 0.3), 0px 1px 3px 1px rgba(60, 64, 67, 0.15);\n",
              "      fill: #174EA6;\n",
              "    }\n",
              "\n",
              "    [theme=dark] .colab-df-convert {\n",
              "      background-color: #3B4455;\n",
              "      fill: #D2E3FC;\n",
              "    }\n",
              "\n",
              "    [theme=dark] .colab-df-convert:hover {\n",
              "      background-color: #434B5C;\n",
              "      box-shadow: 0px 1px 3px 1px rgba(0, 0, 0, 0.15);\n",
              "      filter: drop-shadow(0px 1px 2px rgba(0, 0, 0, 0.3));\n",
              "      fill: #FFFFFF;\n",
              "    }\n",
              "  </style>\n",
              "\n",
              "      <script>\n",
              "        const buttonEl =\n",
              "          document.querySelector('#df-e8b83ce6-1388-4d33-ab05-5ce4bc0594cf button.colab-df-convert');\n",
              "        buttonEl.style.display =\n",
              "          google.colab.kernel.accessAllowed ? 'block' : 'none';\n",
              "\n",
              "        async function convertToInteractive(key) {\n",
              "          const element = document.querySelector('#df-e8b83ce6-1388-4d33-ab05-5ce4bc0594cf');\n",
              "          const dataTable =\n",
              "            await google.colab.kernel.invokeFunction('convertToInteractive',\n",
              "                                                     [key], {});\n",
              "          if (!dataTable) return;\n",
              "\n",
              "          const docLinkHtml = 'Like what you see? Visit the ' +\n",
              "            '<a target=\"_blank\" href=https://colab.research.google.com/notebooks/data_table.ipynb>data table notebook</a>'\n",
              "            + ' to learn more about interactive tables.';\n",
              "          element.innerHTML = '';\n",
              "          dataTable['output_type'] = 'display_data';\n",
              "          await google.colab.output.renderOutput(dataTable, element);\n",
              "          const docLink = document.createElement('div');\n",
              "          docLink.innerHTML = docLinkHtml;\n",
              "          element.appendChild(docLink);\n",
              "        }\n",
              "      </script>\n",
              "    </div>\n",
              "  </div>\n",
              "  "
            ]
          },
          "metadata": {},
          "execution_count": 21
        }
      ]
    },
    {
      "cell_type": "code",
      "source": [
        "nRow, nCol = df_main.shape\n",
        "print(f'There are {nRow} rows and {nCol} columns')"
      ],
      "metadata": {
        "colab": {
          "base_uri": "https://localhost:8080/"
        },
        "id": "lV9fhwkTy3Z_",
        "outputId": "4841f2a7-21db-430b-a4ee-bcdfcba7edc9"
      },
      "execution_count": null,
      "outputs": [
        {
          "output_type": "stream",
          "name": "stdout",
          "text": [
            "There are 3147162 rows and 10 columns\n"
          ]
        }
      ]
    },
    {
      "cell_type": "code",
      "source": [
        "df_main.describe()"
      ],
      "metadata": {
        "colab": {
          "base_uri": "https://localhost:8080/",
          "height": 300
        },
        "id": "uMgnt6QCvdHe",
        "outputId": "dded21d9-5bd9-4797-8cc1-82eaf6391d2f"
      },
      "execution_count": null,
      "outputs": [
        {
          "output_type": "execute_result",
          "data": {
            "text/plain": [
              "              DEPTH  LITHOLOGY_GEOLINK          CALI          NPHI  \\\n",
              "count  3.147162e+06       1.650950e+06  2.942514e+06  1.894092e+06   \n",
              "mean   2.178031e+03       7.425249e+00  1.342559e+01  1.751375e+00   \n",
              "std    1.038157e+03       4.628714e+00  4.065481e+00  1.408550e+02   \n",
              "min    8.015202e+01       1.000000e+00 -9.834000e+00 -1.009700e-01   \n",
              "25%    1.368847e+03       5.000000e+00  1.026520e+01  2.254500e-01   \n",
              "50%    2.088328e+03       6.000000e+00  1.284234e+01  3.220202e-01   \n",
              "75%    2.912315e+03       1.100000e+01  1.722600e+01  4.248798e-01   \n",
              "max    5.477854e+03       3.400000e+01  4.063500e+01  1.530410e+05   \n",
              "\n",
              "               RHOB            GR           DTC          RDEP          RMED  \n",
              "count  2.774715e+06  3.108057e+06  2.936687e+06  3.073558e+06  2.944318e+06  \n",
              "mean   2.273573e+00  6.598313e+01  1.141344e+02  3.263110e+01  5.127361e+01  \n",
              "std    3.268230e-01  4.916798e+01  3.454971e+01  4.901243e+02  2.809883e+04  \n",
              "min   -1.984000e+00 -9.990000e+02 -3.102476e+02 -9.999000e+03 -4.230000e-01  \n",
              "25%    2.083600e+00  4.426330e+01  8.761197e+01  9.240000e-01  9.133000e-01  \n",
              "50%    2.291000e+00  6.287677e+01  1.116960e+02  1.455498e+00  1.459000e+00  \n",
              "75%    2.481900e+00  8.396545e+01  1.432239e+02  2.552900e+00  2.642121e+00  \n",
              "max    1.916629e+02  3.279053e+04  9.881560e+02  7.450856e+04  1.968300e+07  "
            ],
            "text/html": [
              "\n",
              "  <div id=\"df-a1f003b1-ad43-497a-8c6d-6d1aad9f7666\">\n",
              "    <div class=\"colab-df-container\">\n",
              "      <div>\n",
              "<style scoped>\n",
              "    .dataframe tbody tr th:only-of-type {\n",
              "        vertical-align: middle;\n",
              "    }\n",
              "\n",
              "    .dataframe tbody tr th {\n",
              "        vertical-align: top;\n",
              "    }\n",
              "\n",
              "    .dataframe thead th {\n",
              "        text-align: right;\n",
              "    }\n",
              "</style>\n",
              "<table border=\"1\" class=\"dataframe\">\n",
              "  <thead>\n",
              "    <tr style=\"text-align: right;\">\n",
              "      <th></th>\n",
              "      <th>DEPTH</th>\n",
              "      <th>LITHOLOGY_GEOLINK</th>\n",
              "      <th>CALI</th>\n",
              "      <th>NPHI</th>\n",
              "      <th>RHOB</th>\n",
              "      <th>GR</th>\n",
              "      <th>DTC</th>\n",
              "      <th>RDEP</th>\n",
              "      <th>RMED</th>\n",
              "    </tr>\n",
              "  </thead>\n",
              "  <tbody>\n",
              "    <tr>\n",
              "      <th>count</th>\n",
              "      <td>3.147162e+06</td>\n",
              "      <td>1.650950e+06</td>\n",
              "      <td>2.942514e+06</td>\n",
              "      <td>1.894092e+06</td>\n",
              "      <td>2.774715e+06</td>\n",
              "      <td>3.108057e+06</td>\n",
              "      <td>2.936687e+06</td>\n",
              "      <td>3.073558e+06</td>\n",
              "      <td>2.944318e+06</td>\n",
              "    </tr>\n",
              "    <tr>\n",
              "      <th>mean</th>\n",
              "      <td>2.178031e+03</td>\n",
              "      <td>7.425249e+00</td>\n",
              "      <td>1.342559e+01</td>\n",
              "      <td>1.751375e+00</td>\n",
              "      <td>2.273573e+00</td>\n",
              "      <td>6.598313e+01</td>\n",
              "      <td>1.141344e+02</td>\n",
              "      <td>3.263110e+01</td>\n",
              "      <td>5.127361e+01</td>\n",
              "    </tr>\n",
              "    <tr>\n",
              "      <th>std</th>\n",
              "      <td>1.038157e+03</td>\n",
              "      <td>4.628714e+00</td>\n",
              "      <td>4.065481e+00</td>\n",
              "      <td>1.408550e+02</td>\n",
              "      <td>3.268230e-01</td>\n",
              "      <td>4.916798e+01</td>\n",
              "      <td>3.454971e+01</td>\n",
              "      <td>4.901243e+02</td>\n",
              "      <td>2.809883e+04</td>\n",
              "    </tr>\n",
              "    <tr>\n",
              "      <th>min</th>\n",
              "      <td>8.015202e+01</td>\n",
              "      <td>1.000000e+00</td>\n",
              "      <td>-9.834000e+00</td>\n",
              "      <td>-1.009700e-01</td>\n",
              "      <td>-1.984000e+00</td>\n",
              "      <td>-9.990000e+02</td>\n",
              "      <td>-3.102476e+02</td>\n",
              "      <td>-9.999000e+03</td>\n",
              "      <td>-4.230000e-01</td>\n",
              "    </tr>\n",
              "    <tr>\n",
              "      <th>25%</th>\n",
              "      <td>1.368847e+03</td>\n",
              "      <td>5.000000e+00</td>\n",
              "      <td>1.026520e+01</td>\n",
              "      <td>2.254500e-01</td>\n",
              "      <td>2.083600e+00</td>\n",
              "      <td>4.426330e+01</td>\n",
              "      <td>8.761197e+01</td>\n",
              "      <td>9.240000e-01</td>\n",
              "      <td>9.133000e-01</td>\n",
              "    </tr>\n",
              "    <tr>\n",
              "      <th>50%</th>\n",
              "      <td>2.088328e+03</td>\n",
              "      <td>6.000000e+00</td>\n",
              "      <td>1.284234e+01</td>\n",
              "      <td>3.220202e-01</td>\n",
              "      <td>2.291000e+00</td>\n",
              "      <td>6.287677e+01</td>\n",
              "      <td>1.116960e+02</td>\n",
              "      <td>1.455498e+00</td>\n",
              "      <td>1.459000e+00</td>\n",
              "    </tr>\n",
              "    <tr>\n",
              "      <th>75%</th>\n",
              "      <td>2.912315e+03</td>\n",
              "      <td>1.100000e+01</td>\n",
              "      <td>1.722600e+01</td>\n",
              "      <td>4.248798e-01</td>\n",
              "      <td>2.481900e+00</td>\n",
              "      <td>8.396545e+01</td>\n",
              "      <td>1.432239e+02</td>\n",
              "      <td>2.552900e+00</td>\n",
              "      <td>2.642121e+00</td>\n",
              "    </tr>\n",
              "    <tr>\n",
              "      <th>max</th>\n",
              "      <td>5.477854e+03</td>\n",
              "      <td>3.400000e+01</td>\n",
              "      <td>4.063500e+01</td>\n",
              "      <td>1.530410e+05</td>\n",
              "      <td>1.916629e+02</td>\n",
              "      <td>3.279053e+04</td>\n",
              "      <td>9.881560e+02</td>\n",
              "      <td>7.450856e+04</td>\n",
              "      <td>1.968300e+07</td>\n",
              "    </tr>\n",
              "  </tbody>\n",
              "</table>\n",
              "</div>\n",
              "      <button class=\"colab-df-convert\" onclick=\"convertToInteractive('df-a1f003b1-ad43-497a-8c6d-6d1aad9f7666')\"\n",
              "              title=\"Convert this dataframe to an interactive table.\"\n",
              "              style=\"display:none;\">\n",
              "        \n",
              "  <svg xmlns=\"http://www.w3.org/2000/svg\" height=\"24px\"viewBox=\"0 0 24 24\"\n",
              "       width=\"24px\">\n",
              "    <path d=\"M0 0h24v24H0V0z\" fill=\"none\"/>\n",
              "    <path d=\"M18.56 5.44l.94 2.06.94-2.06 2.06-.94-2.06-.94-.94-2.06-.94 2.06-2.06.94zm-11 1L8.5 8.5l.94-2.06 2.06-.94-2.06-.94L8.5 2.5l-.94 2.06-2.06.94zm10 10l.94 2.06.94-2.06 2.06-.94-2.06-.94-.94-2.06-.94 2.06-2.06.94z\"/><path d=\"M17.41 7.96l-1.37-1.37c-.4-.4-.92-.59-1.43-.59-.52 0-1.04.2-1.43.59L10.3 9.45l-7.72 7.72c-.78.78-.78 2.05 0 2.83L4 21.41c.39.39.9.59 1.41.59.51 0 1.02-.2 1.41-.59l7.78-7.78 2.81-2.81c.8-.78.8-2.07 0-2.86zM5.41 20L4 18.59l7.72-7.72 1.47 1.35L5.41 20z\"/>\n",
              "  </svg>\n",
              "      </button>\n",
              "      \n",
              "  <style>\n",
              "    .colab-df-container {\n",
              "      display:flex;\n",
              "      flex-wrap:wrap;\n",
              "      gap: 12px;\n",
              "    }\n",
              "\n",
              "    .colab-df-convert {\n",
              "      background-color: #E8F0FE;\n",
              "      border: none;\n",
              "      border-radius: 50%;\n",
              "      cursor: pointer;\n",
              "      display: none;\n",
              "      fill: #1967D2;\n",
              "      height: 32px;\n",
              "      padding: 0 0 0 0;\n",
              "      width: 32px;\n",
              "    }\n",
              "\n",
              "    .colab-df-convert:hover {\n",
              "      background-color: #E2EBFA;\n",
              "      box-shadow: 0px 1px 2px rgba(60, 64, 67, 0.3), 0px 1px 3px 1px rgba(60, 64, 67, 0.15);\n",
              "      fill: #174EA6;\n",
              "    }\n",
              "\n",
              "    [theme=dark] .colab-df-convert {\n",
              "      background-color: #3B4455;\n",
              "      fill: #D2E3FC;\n",
              "    }\n",
              "\n",
              "    [theme=dark] .colab-df-convert:hover {\n",
              "      background-color: #434B5C;\n",
              "      box-shadow: 0px 1px 3px 1px rgba(0, 0, 0, 0.15);\n",
              "      filter: drop-shadow(0px 1px 2px rgba(0, 0, 0, 0.3));\n",
              "      fill: #FFFFFF;\n",
              "    }\n",
              "  </style>\n",
              "\n",
              "      <script>\n",
              "        const buttonEl =\n",
              "          document.querySelector('#df-a1f003b1-ad43-497a-8c6d-6d1aad9f7666 button.colab-df-convert');\n",
              "        buttonEl.style.display =\n",
              "          google.colab.kernel.accessAllowed ? 'block' : 'none';\n",
              "\n",
              "        async function convertToInteractive(key) {\n",
              "          const element = document.querySelector('#df-a1f003b1-ad43-497a-8c6d-6d1aad9f7666');\n",
              "          const dataTable =\n",
              "            await google.colab.kernel.invokeFunction('convertToInteractive',\n",
              "                                                     [key], {});\n",
              "          if (!dataTable) return;\n",
              "\n",
              "          const docLinkHtml = 'Like what you see? Visit the ' +\n",
              "            '<a target=\"_blank\" href=https://colab.research.google.com/notebooks/data_table.ipynb>data table notebook</a>'\n",
              "            + ' to learn more about interactive tables.';\n",
              "          element.innerHTML = '';\n",
              "          dataTable['output_type'] = 'display_data';\n",
              "          await google.colab.output.renderOutput(dataTable, element);\n",
              "          const docLink = document.createElement('div');\n",
              "          docLink.innerHTML = docLinkHtml;\n",
              "          element.appendChild(docLink);\n",
              "        }\n",
              "      </script>\n",
              "    </div>\n",
              "  </div>\n",
              "  "
            ]
          },
          "metadata": {},
          "execution_count": 23
        }
      ]
    },
    {
      "cell_type": "markdown",
      "source": [
        "\n",
        "\n",
        "---\n",
        "\n"
      ],
      "metadata": {
        "id": "kZfHo-3Kvbu5"
      }
    },
    {
      "cell_type": "markdown",
      "source": [
        "## Balance of target variable"
      ],
      "metadata": {
        "id": "K4WBq8_SzdWM"
      }
    },
    {
      "cell_type": "markdown",
      "source": [
        "The target variable is: **LITHOLOGY_GEOLINK**"
      ],
      "metadata": {
        "id": "FGX-21ZRz_j6"
      }
    },
    {
      "cell_type": "code",
      "source": [
        "# the possible values of the LITHOLOGY_GEOLINK target variable\n",
        "df_main['LITHOLOGY_GEOLINK'].value_counts()"
      ],
      "metadata": {
        "colab": {
          "base_uri": "https://localhost:8080/"
        },
        "id": "vcrGnDC_z8iF",
        "outputId": "f7acb239-cb17-4ef7-fe25-11c71d7841e0"
      },
      "execution_count": null,
      "outputs": [
        {
          "output_type": "execute_result",
          "data": {
            "text/plain": [
              "5.0     380624\n",
              "6.0     362936\n",
              "13.0    179289\n",
              "7.0     114576\n",
              "2.0     113484\n",
              "3.0      89793\n",
              "11.0     70699\n",
              "12.0     70647\n",
              "4.0      61089\n",
              "1.0      47890\n",
              "19.0     38727\n",
              "16.0     32387\n",
              "21.0     29300\n",
              "9.0      25582\n",
              "10.0     14992\n",
              "18.0      5964\n",
              "22.0      3785\n",
              "15.0      3477\n",
              "26.0      2620\n",
              "17.0      1927\n",
              "33.0       865\n",
              "32.0       230\n",
              "34.0        54\n",
              "20.0        10\n",
              "30.0         2\n",
              "24.0         1\n",
              "Name: LITHOLOGY_GEOLINK, dtype: int64"
            ]
          },
          "metadata": {},
          "execution_count": 24
        }
      ]
    },
    {
      "cell_type": "code",
      "source": [
        "#visualizing the value counts of the target variable\n",
        "\n",
        "plt.figure(figsize=(20,7))\n",
        "\n",
        "sns.barplot(x=df_main['LITHOLOGY_GEOLINK'].value_counts().index,\n",
        "            y=df_main['LITHOLOGY_GEOLINK'].value_counts())\n",
        "plt.xlabel('Lithology Classes', fontsize=15)\n",
        "plt.ylabel('Count', fontsize=15)\n",
        "plt.title('Lithology Classes - Target Variable Balance', fontsize=20)"
      ],
      "metadata": {
        "colab": {
          "base_uri": "https://localhost:8080/",
          "height": 486
        },
        "id": "aroQnULVz8eB",
        "outputId": "f79c71e4-d2f3-4666-a3e5-0880b060cf0b"
      },
      "execution_count": null,
      "outputs": [
        {
          "output_type": "execute_result",
          "data": {
            "text/plain": [
              "Text(0.5, 1.0, 'Lithology Classes - Target Variable Balance')"
            ]
          },
          "metadata": {},
          "execution_count": 25
        },
        {
          "output_type": "display_data",
          "data": {
            "text/plain": [
              "<Figure size 1440x504 with 1 Axes>"
            ],
            "image/png": "[encoded data removed]"
          },
          "metadata": {
            "needs_background": "light"
          }
        }
      ]
    },
    {
      "cell_type": "markdown",
      "source": [
        "⚓ We can see that:\n",
        "We have an imbalance among the target variable data"
      ],
      "metadata": {
        "id": "b9eMITel1nta"
      }
    },
    {
      "cell_type": "markdown",
      "source": [
        "\n",
        "\n",
        "---\n",
        "\n"
      ],
      "metadata": {
        "id": "pkZk_0ubzs2R"
      }
    },
    {
      "cell_type": "markdown",
      "source": [
        "## Correlation between features"
      ],
      "metadata": {
        "id": "NrBtYWk92q22"
      }
    },
    {
      "cell_type": "code",
      "source": [
        "# correlation btw 2 features\n",
        "plt.plot('DTC','DEPTH', data= df_main,linestyle='none',  marker='o')\n",
        "plt.xlabel('DTC')\n",
        "plt.ylabel('DEPTH')\n",
        "plt.title('Relationship between sDTC & DEPTH')\n",
        "\n",
        "plt.show()\n",
        "\n",
        "print('The correlation factor btw DTC and DEPTH is: ', df_main['DTC'].corr(df_main['DEPTH']))"
      ],
      "metadata": {
        "colab": {
          "base_uri": "https://localhost:8080/",
          "height": 313
        },
        "id": "ZLoItWd-3mqV",
        "outputId": "c2966efe-0b62-4042-96c9-5ccd7f595b14"
      },
      "execution_count": null,
      "outputs": [
        {
          "output_type": "display_data",
          "data": {
            "text/plain": [
              "<Figure size 432x288 with 1 Axes>"
            ],
            "image/png": "[encoded data removed]"
          },
          "metadata": {
            "needs_background": "light"
          }
        },
        {
          "output_type": "stream",
          "name": "stdout",
          "text": [
            "The correlation factor btw DTC and DEPTH is:  -0.6785870974138587\n"
          ]
        }
      ]
    },
    {
      "cell_type": "code",
      "source": [
        "# correlation btw 2 features\n",
        "plt.plot('CALI','RHOB', data= df_main,linestyle='none',  marker='o')\n",
        "plt.xlabel('CALI')\n",
        "plt.ylabel('RHOB')\n",
        "plt.title('Relationship between CALI & RHOB')\n",
        "\n",
        "plt.show()\n",
        "\n",
        "print('The correlation factor btw CALI and RHOB is: ', df_main['CALI'].corr(df_main['RHOB']))"
      ],
      "metadata": {
        "colab": {
          "base_uri": "https://localhost:8080/",
          "height": 313
        },
        "id": "tlIAShwC4MHd",
        "outputId": "f94ad97d-0040-44c3-d5fa-c9b97154d435"
      },
      "execution_count": null,
      "outputs": [
        {
          "output_type": "display_data",
          "data": {
            "text/plain": [
              "<Figure size 432x288 with 1 Axes>"
            ],
            "image/png": "[encoded data removed]"
          },
          "metadata": {
            "needs_background": "light"
          }
        },
        {
          "output_type": "stream",
          "name": "stdout",
          "text": [
            "The correlation factor btw CALI and RHOB is:  -0.39720072649148486\n"
          ]
        }
      ]
    },
    {
      "cell_type": "code",
      "source": [
        "# correlation matrix btw all features\n",
        "\n",
        "corrmat_df = abs(df_main.corr()) # absolute correlation\n",
        "\n",
        "fig, ax = plt.subplots(figsize=(15, 10))\n",
        "\n",
        "sns.heatmap(corrmat_df, cbar=True, annot=True, square=True, fmt='.2f', annot_kws={'size': 10}, cmap='Blues')\n",
        "\n",
        "ax.set_ylim(len(corrmat_df)-0.1, -0.5)"
      ],
      "metadata": {
        "colab": {
          "base_uri": "https://localhost:8080/",
          "height": 708
        },
        "id": "-A48TdBl2wN1",
        "outputId": "370f6895-7274-4e9d-f407-853db8244b3f"
      },
      "execution_count": null,
      "outputs": [
        {
          "output_type": "execute_result",
          "data": {
            "text/plain": [
              "(8.9, -0.5)"
            ]
          },
          "metadata": {},
          "execution_count": 28
        },
        {
          "output_type": "display_data",
          "data": {
            "text/plain": [
              "<Figure size 1080x720 with 2 Axes>"
            ],
            "image/png": "[encoded data removed]"
          },
          "metadata": {
            "needs_background": "light"
          }
        }
      ]
    },
    {
      "cell_type": "markdown",
      "source": [
        "⚓ In general we have extremely low correlation btwn all the features except the correlations btw DTC-DEPTH-RHOB-CALI features, which can be considered somehow low."
      ],
      "metadata": {
        "id": "KgqG7aXt8EXL"
      }
    },
    {
      "cell_type": "markdown",
      "source": [
        "\n",
        "\n",
        "---\n",
        "\n"
      ],
      "metadata": {
        "id": "Wj9hoqi32u_b"
      }
    },
    {
      "cell_type": "markdown",
      "source": [
        "## Distribution"
      ],
      "metadata": {
        "id": "TAN0oUM2ffAq"
      }
    },
    {
      "cell_type": "code",
      "source": [
        "#plotting the distribution of the features values = logs values\n",
        "\n",
        "plt.figure(figsize=(40,20))\n",
        "\n",
        "for i in range(len(df_main.columns)):\n",
        "  if df_main.columns[i] != 'WELL_NAME' :\n",
        "    plt.subplot(4,3,(i+1))\n",
        "    feat = df_main.columns[i]                                                       # df_main.columns are ['DEPTH', 'LITHOLOGY_GEOLINK', 'CALI', ....]\n",
        "    n_n_values = df_main[df_main[feat].notnull()][feat].values                      # df_main[df_main['CALI'].notnull()]['CALI'].values         array holding only notnull values of 'CALI' feature   [17.96999931, 17.96999931, 17.97100067, ...]\n",
        "    (mu, sigma) = stats.norm.fit(n_n_values)\n",
        "    sns.distplot(n_n_values)\n",
        "    plt.subplots_adjust(left=0.1, bottom=0.1, right=0.9, top=0.9, wspace=0.4, hspace=0.4)\n",
        "    plt.title(str(feat) + ' distribution -- Mu: '+ \"{:.3f}\".format(mu) + '    Sigma:' + \"{:.3f}\".format(sigma) )\n",
        "    #print(\"------------ {} ----------- done-----------\".format(feat))\n",
        "\n",
        "plt.show()"
      ],
      "metadata": {
        "colab": {
          "base_uri": "https://localhost:8080/"
        },
        "id": "H-r_NKMEMnGt",
        "outputId": "aa5cb07d-1a6c-43a8-ccee-ecb936de858f"
      },
      "execution_count": null,
      "outputs": [
        {
          "output_type": "display_data",
          "data": {
            "text/plain": [
              "<Figure size 2880x1440 with 9 Axes>"
            ],
            "image/png": "[encoded data removed]"
          },
          "metadata": {
            "needs_background": "light"
          }
        }
      ]
    },
    {
      "cell_type": "markdown",
      "source": [
        "\n",
        "\n",
        "---\n",
        "\n"
      ],
      "metadata": {
        "id": "f5XjGMA8fjmF"
      }
    },
    {
      "cell_type": "markdown",
      "source": [
        "# Preprocessing"
      ],
      "metadata": {
        "id": "aNpqi7_Gjbmz"
      }
    },
    {
      "cell_type": "markdown",
      "source": [
        "## Outliers"
      ],
      "metadata": {
        "id": "ZPvvuMfEa3L3"
      }
    },
    {
      "cell_type": "markdown",
      "source": [
        "z-score of a specific value, is the number of standard deviations, this point is far from the mean (calculated after standarizing all the values in a way that the mean becomes 0 and the std = 1)\n",
        "\n",
        "**how does this help in identifying the outliers? **\n",
        "\n",
        "Well, while calculating the Z-score we re-scale and center the data and look for data points which are too far from zero. These data points which are way too far from zero will be treated as the outliers. In most of the cases a threshold of 3 or -3 is used i.e if the Z-score value is greater than or less than 3 or -3 respectively, that data point will be identified as outliers."
      ],
      "metadata": {
        "id": "iQEdSHFAExn9"
      }
    },
    {
      "cell_type": "code",
      "source": [
        "df_main.shape"
      ],
      "metadata": {
        "colab": {
          "base_uri": "https://localhost:8080/"
        },
        "id": "CX1dzBUWTlEA",
        "outputId": "e22b2a9f-b9d8-4098-b7da-439e81af8813"
      },
      "execution_count": null,
      "outputs": [
        {
          "output_type": "execute_result",
          "data": {
            "text/plain": [
              "(3147162, 10)"
            ]
          },
          "metadata": {},
          "execution_count": 30
        }
      ]
    },
    {
      "cell_type": "code",
      "source": [
        "df_main.columns"
      ],
      "metadata": {
        "colab": {
          "base_uri": "https://localhost:8080/"
        },
        "id": "ijgCEL3snr6G",
        "outputId": "7c55933b-5f0d-4bbe-8107-bfa8726db6cb"
      },
      "execution_count": null,
      "outputs": [
        {
          "output_type": "execute_result",
          "data": {
            "text/plain": [
              "Index(['DEPTH', 'LITHOLOGY_GEOLINK', 'CALI', 'NPHI', 'RHOB', 'GR', 'DTC',\n",
              "       'RDEP', 'RMED', 'WELL_NAME'],\n",
              "      dtype='object')"
            ]
          },
          "metadata": {},
          "execution_count": 31
        }
      ]
    },
    {
      "cell_type": "code",
      "source": [
        "#plotting the box plots of the features values = logs values to visualize the outliers\n",
        "\n",
        "cons_feat = df_main.columns                                         #a list of all features without the 'WELL_NAME'\n",
        "\n",
        "plt.figure(figsize=(40,20))\n",
        "\n",
        "for i in range(len(cons_feat)):\n",
        "  if cons_feat[i] != 'WELL_NAME' :\n",
        "    plt.subplot(4,3,(i+1))\n",
        "    sns.boxplot(df_main[cons_feat[i]])\n",
        "    plt.subplots_adjust(left=0.1, bottom=0.1, right=0.9, top=0.9, wspace=0.3, hspace=0.4)\n",
        "\n",
        "plt.show()"
      ],
      "metadata": {
        "colab": {
          "base_uri": "https://localhost:8080/",
          "height": 528
        },
        "id": "q-todpCcm-U0",
        "outputId": "cd90ad07-78c1-459b-aa40-a7ed4d3c1a0a"
      },
      "execution_count": null,
      "outputs": [
        {
          "output_type": "display_data",
          "data": {
            "text/plain": [
              "<Figure size 2880x1440 with 9 Axes>"
            ],
            "image/png": "[encoded data removed]"
          },
          "metadata": {
            "needs_background": "light"
          }
        }
      ]
    },
    {
      "cell_type": "markdown",
      "source": [
        "\n",
        "\n",
        "---\n",
        "\n"
      ],
      "metadata": {
        "id": "FLuzFEoSzkmV"
      }
    },
    {
      "cell_type": "code",
      "source": [
        "#Detecting the outliers using IQR value\n",
        "Q1 = df_main.quantile(0.25)\n",
        "Q3 = df_main.quantile(0.75)\n",
        "IQR = Q3 - Q1                                                 # iqr value for each column\n",
        "\n",
        "#print(df < (Q1 - 1.5 * IQR)) |(df > (Q3 + 1.5 * IQR))         # a df of True or False values in place of each outlier value\n",
        "df_without_out_iqr = df_main[~((df_main < (Q1 - 1.5*IQR)) | (df_main > (Q3 + 1.5*IQR))).any(axis=1)]\n",
        "\n",
        "rem_rows = df_main.shape[0] - df_without_out_iqr.shape[0]\n",
        "rem_perc = rem_rows / df_without_out_iqr.shape[0] * 100\n",
        "print(\"Total number of rows deleted due to Outliers removal is :\" , (rem_rows) , \" out of \" , df_main.shape[0] , \"about \" , rem_perc , \"%\")"
      ],
      "metadata": {
        "colab": {
          "base_uri": "https://localhost:8080/"
        },
        "id": "fAB8hxOGYkim",
        "outputId": "10a319ff-71d5-4d8b-98d5-54692e7248c0"
      },
      "execution_count": null,
      "outputs": [
        {
          "output_type": "stream",
          "name": "stdout",
          "text": [
            "Total number of rows deleted due to Outliers removal is : 569933  out of  3147162 about  22.114177669116714 %\n"
          ]
        }
      ]
    },
    {
      "cell_type": "markdown",
      "source": [
        "\n",
        "\n",
        "---\n",
        "\n"
      ],
      "metadata": {
        "id": "SGl1nuFZzik3"
      }
    },
    {
      "cell_type": "markdown",
      "source": [
        "⚓ 22% is a huge ammount of data to remove, let's figure out the ammounts of outliers in each column"
      ],
      "metadata": {
        "id": "7cqXSR1O2EfF"
      }
    },
    {
      "cell_type": "code",
      "source": [
        "cons_feat = df_main.columns                                         #a list of all features without the 'WELL_NAME'\n",
        "\n",
        "for i in range(len(df_main.columns)):\n",
        "  if cons_feat[i] != 'WELL_NAME' :\n",
        "    Q1 = df_main[ cons_feat[i] ].quantile(0.25)\n",
        "    Q3 = df_main[ cons_feat[i] ].quantile(0.75)\n",
        "    IQR = Q3 - Q1\n",
        "    out_df = df_main[cons_feat[i]][~((df_main[cons_feat[i]] < (Q1 - 1.5*IQR)) | (df_main[cons_feat[i]] > (Q3 + 1.5*IQR)))]      # a new df without the outliers of column i only\n",
        "    \n",
        "    with_outl = len(df_main[cons_feat[i]])\n",
        "    without_outl = len(out_df)\n",
        "\n",
        "    rem_rows = with_outl - without_outl\n",
        "    rem_perc = rem_rows / with_outl * 100\n",
        "\n",
        "    print(\"the number of outliers in \" , cons_feat[i] , \" is \" , (with_outl - without_outl) , \" out of \" , with_outl , \"about \" , \"{:.3f}\".format(rem_perc) , \"%\" )\n",
        "    "
      ],
      "metadata": {
        "colab": {
          "base_uri": "https://localhost:8080/"
        },
        "id": "OMFDE7k8ua9b",
        "outputId": "b7ffd907-a2bc-439b-f71a-f29f5f3a198f"
      },
      "execution_count": null,
      "outputs": [
        {
          "output_type": "stream",
          "name": "stdout",
          "text": [
            "the number of outliers in  DEPTH  is  3144  out of  3147162 about  0.100 %\n",
            "the number of outliers in  LITHOLOGY_GEOLINK  is  36857  out of  3147162 about  1.171 %\n",
            "the number of outliers in  CALI  is  2710  out of  3147162 about  0.086 %\n",
            "the number of outliers in  NPHI  is  74936  out of  3147162 about  2.381 %\n",
            "the number of outliers in  RHOB  is  15465  out of  3147162 about  0.491 %\n",
            "the number of outliers in  GR  is  57461  out of  3147162 about  1.826 %\n",
            "the number of outliers in  DTC  is  9246  out of  3147162 about  0.294 %\n",
            "the number of outliers in  RDEP  is  363453  out of  3147162 about  11.549 %\n",
            "the number of outliers in  RMED  is  362047  out of  3147162 about  11.504 %\n"
          ]
        }
      ]
    },
    {
      "cell_type": "markdown",
      "source": [
        "\n",
        "\n",
        "---\n",
        "\n"
      ],
      "metadata": {
        "id": "_XYdSOJ5bfiA"
      }
    },
    {
      "cell_type": "code",
      "source": [
        "#If we do not want to remove the outliers, we should not run this cell\n",
        "df_main = df_without_out_iqr"
      ],
      "metadata": {
        "id": "Rospbx5j-dUK"
      },
      "execution_count": null,
      "outputs": []
    },
    {
      "cell_type": "markdown",
      "source": [
        "\n",
        "\n",
        "---\n",
        "\n"
      ],
      "metadata": {
        "id": "P4prZNX_a6tB"
      }
    },
    {
      "cell_type": "markdown",
      "source": [
        "## Missing Values"
      ],
      "metadata": {
        "id": "U8Hakp_Tzj67"
      }
    },
    {
      "cell_type": "code",
      "source": [
        "df_main.isnull().sum()"
      ],
      "metadata": {
        "colab": {
          "base_uri": "https://localhost:8080/"
        },
        "id": "rfK5Q_fovs98",
        "outputId": "f32532dc-a899-4425-df25-1b96ea1295e8"
      },
      "execution_count": null,
      "outputs": [
        {
          "output_type": "execute_result",
          "data": {
            "text/plain": [
              "DEPTH                      0\n",
              "LITHOLOGY_GEOLINK    1407692\n",
              "CALI                  174544\n",
              "NPHI                 1136819\n",
              "RHOB                  324003\n",
              "GR                     34669\n",
              "DTC                   177378\n",
              "RDEP                   57131\n",
              "RMED                  153896\n",
              "WELL_NAME                  0\n",
              "dtype: int64"
            ]
          },
          "metadata": {},
          "execution_count": 36
        }
      ]
    },
    {
      "cell_type": "code",
      "source": [
        "cols = df_main.columns.to_list()\n",
        "\n",
        "cols.remove('LITHOLOGY_GEOLINK')\n",
        "cols.remove('DEPTH')\n",
        "cols.remove('WELL_NAME')\n",
        "cols"
      ],
      "metadata": {
        "colab": {
          "base_uri": "https://localhost:8080/"
        },
        "id": "kO43pz35FEnF",
        "outputId": "eb960b27-db0d-451b-a018-3eaf2684caac"
      },
      "execution_count": null,
      "outputs": [
        {
          "output_type": "execute_result",
          "data": {
            "text/plain": [
              "['CALI', 'NPHI', 'RHOB', 'GR', 'DTC', 'RDEP', 'RMED']"
            ]
          },
          "metadata": {},
          "execution_count": 37
        }
      ]
    },
    {
      "cell_type": "code",
      "source": [
        "plt.figure(figsize=(15,5))\n",
        "\n",
        "sns.barplot(x=df_main[cols].isnull().sum().index, y=df_main[cols].isnull().sum())\n",
        "plt.xticks(rotation='90')\n",
        "plt.xlabel('Variables', fontsize=10)\n",
        "plt.ylabel('Total missing values (Not a Number)', fontsize=10) \n",
        "plt.title('Total missing values (Not a Number)', fontsize=15) "
      ],
      "metadata": {
        "id": "Sdw3tffxfdL0",
        "colab": {
          "base_uri": "https://localhost:8080/",
          "height": 389
        },
        "outputId": "e66167c9-0ff2-42cd-88eb-7d9d9f72be78"
      },
      "execution_count": null,
      "outputs": [
        {
          "output_type": "execute_result",
          "data": {
            "text/plain": [
              "Text(0.5, 1.0, 'Total missing values (Not a Number)')"
            ]
          },
          "metadata": {},
          "execution_count": 38
        },
        {
          "output_type": "display_data",
          "data": {
            "text/plain": [
              "<Figure size 1080x360 with 1 Axes>"
            ],
            "image/png": "[encoded data removed]"
          },
          "metadata": {
            "needs_background": "light"
          }
        }
      ]
    },
    {
      "cell_type": "code",
      "source": [
        "#Dropping Null Values of Low Percentage Presence\n",
        "list_nulls = ['CALI', 'RHOB', 'GR', 'DTC', 'RDEP', 'RMED']\n",
        "df_main = df_main.dropna(subset=list_nulls)\n",
        "df_main.isnull().sum()"
      ],
      "metadata": {
        "colab": {
          "base_uri": "https://localhost:8080/"
        },
        "id": "ieZ8HT3uZm_T",
        "outputId": "f46ae799-fe19-4b4b-9f6a-214e897788c1"
      },
      "execution_count": null,
      "outputs": [
        {
          "output_type": "execute_result",
          "data": {
            "text/plain": [
              "DEPTH                      0\n",
              "LITHOLOGY_GEOLINK    1064761\n",
              "CALI                       0\n",
              "NPHI                  728307\n",
              "RHOB                       0\n",
              "GR                         0\n",
              "DTC                        0\n",
              "RDEP                       0\n",
              "RMED                       0\n",
              "WELL_NAME                  0\n",
              "dtype: int64"
            ]
          },
          "metadata": {},
          "execution_count": 39
        }
      ]
    },
    {
      "cell_type": "code",
      "source": [
        "len(df_main)"
      ],
      "metadata": {
        "colab": {
          "base_uri": "https://localhost:8080/"
        },
        "id": "v_RJVxVsbKi6",
        "outputId": "e6e69e44-eaf5-4146-de86-4c739aa5b1ed"
      },
      "execution_count": null,
      "outputs": [
        {
          "output_type": "execute_result",
          "data": {
            "text/plain": [
              "2029722"
            ]
          },
          "metadata": {},
          "execution_count": 40
        }
      ]
    },
    {
      "cell_type": "code",
      "source": [
        "#saving the datasets\n",
        "path_file_lito_code = '/content/gdrive/MyDrive/Dev tools/Data - NorthSea Electrofacies/Generated Dataframes/litho_code.csv.gz'\n",
        "\n",
        "path_file_df_main = '/content/gdrive/MyDrive/Dev tools/Data - NorthSea Electrofacies/Generated Dataframes/df_main.csv.gz'\n",
        "\n",
        "litho_code.to_csv(path_file_lito_code,index=False, compression='gzip')\n",
        "\n",
        "df_main.to_csv(path_file_df_main,index=False, compression='gzip')"
      ],
      "metadata": {
        "id": "hHWV3Z7Pb0Tj"
      },
      "execution_count": null,
      "outputs": []
    },
    {
      "cell_type": "markdown",
      "source": [
        "\n",
        "\n",
        "---\n",
        "\n"
      ],
      "metadata": {
        "id": "E6KREFy-_EEE"
      }
    }
  ]
}
